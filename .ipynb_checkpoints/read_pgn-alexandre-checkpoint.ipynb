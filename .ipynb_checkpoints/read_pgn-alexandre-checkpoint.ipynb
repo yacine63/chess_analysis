{
 "cells": [
  {
   "cell_type": "code",
   "execution_count": 1,
   "metadata": {
    "ExecuteTime": {
     "end_time": "2020-10-04T19:40:07.596404Z",
     "start_time": "2020-10-04T19:40:07.526289Z"
    }
   },
   "outputs": [
    {
     "name": "stdout",
     "output_type": "stream",
     "text": [
      " Le volume dans le lecteur D s'appelle DATA\n",
      " Le num‚ro de s‚rie du volume est 6C9C-CB82\n",
      "\n",
      " R‚pertoire de D:\\Documents\\tutosPython\\web\n",
      "\n",
      "04/10/2020  21:39    <DIR>          .\n",
      "04/10/2020  21:39    <DIR>          ..\n",
      "03/10/2020  23:55    <DIR>          .ipynb_checkpoints\n",
      "04/10/2020  10:25    <DIR>          .vscode\n",
      "04/10/2020  12:04    <DIR>          data\n",
      "04/10/2020  21:39         2ÿ522ÿ731 dix_mille_frites_payet.pgn\n",
      "04/10/2020  16:11             6ÿ202 fonctions.py\n",
      "04/10/2020  12:04           198ÿ776 geckodriver.log\n",
      "04/10/2020  15:17             1ÿ358 preprocessing_steps.py\n",
      "03/10/2020  23:49    <DIR>          python-chess\n",
      "04/10/2020  21:34            93ÿ784 read_pgn-Copy1.ipynb\n",
      "04/10/2020  21:14            93ÿ784 read_pgn.ipynb\n",
      "02/06/2020  13:41             4ÿ250 selenium.ipynb\n",
      "04/10/2020  20:10             1ÿ039 stats.py\n",
      "03/10/2020  16:50             6ÿ887 Untitled.ipynb\n",
      "28/05/2020  02:21           692ÿ507 web-scraper.ipynb\n",
      "04/10/2020  12:02    <DIR>          webdriver\n",
      "03/10/2020  23:50            21ÿ389 web_scraping_lichess.ipynb\n",
      "04/10/2020  12:08             2ÿ201 web_scrapping.py\n",
      "28/09/2020  23:02             1ÿ621 web_scrapping_gui.ipynb\n",
      "04/10/2020  00:48         2ÿ603ÿ196 yacine_games.csv\n",
      "03/10/2020  23:45         4ÿ918ÿ748 yacine_games.pgn\n",
      "04/10/2020  20:50    <DIR>          __pycache__\n",
      "              15 fichier(s)       11ÿ168ÿ473 octets\n",
      "               8 R‚p(s)  875ÿ565ÿ948ÿ928 octets libres\n"
     ]
    }
   ],
   "source": [
    "! dir"
   ]
  },
  {
   "cell_type": "code",
   "execution_count": 1,
   "metadata": {
    "ExecuteTime": {
     "end_time": "2020-10-04T19:53:28.120833Z",
     "start_time": "2020-10-04T19:53:23.295490Z"
    }
   },
   "outputs": [],
   "source": [
    "#import librairies for os operations\n",
    "import sys\n",
    "sys.path.append(\"python-chess\")\n",
    "import warnings\n",
    "warnings.simplefilter(\"ignore\")\n",
    "\n",
    "#import librairies from chess packages\n",
    "import chess.pgn\n",
    "\n",
    "#import lib for data viz\n",
    "import pandas as pd\n",
    "import numpy as np\n",
    "import seaborn as sns\n",
    "import matplotlib.pyplot as plt\n",
    "\n",
    "#specific function\n",
    "import fonctions\n",
    "import preprocessing_steps\n",
    "import stats\n"
   ]
  },
  {
   "cell_type": "code",
   "execution_count": 6,
   "metadata": {
    "ExecuteTime": {
     "end_time": "2020-10-04T19:42:38.272247Z",
     "start_time": "2020-10-04T19:42:38.265266Z"
    }
   },
   "outputs": [
    {
     "data": {
      "text/plain": [
       "<_io.TextIOWrapper name='dix_mille_frites_payet.pgn' mode='r' encoding='cp1252'>"
      ]
     },
     "execution_count": 6,
     "metadata": {},
     "output_type": "execute_result"
    }
   ],
   "source": [
    "games = open(\"dix_mille_frites_payet.pgn\") ; games"
   ]
  },
  {
   "cell_type": "code",
   "execution_count": 7,
   "metadata": {
    "ExecuteTime": {
     "end_time": "2020-10-04T19:42:40.283805Z",
     "start_time": "2020-10-04T19:42:40.265813Z"
    }
   },
   "outputs": [],
   "source": [
    "games_df = pd.DataFrame(columns = [\"date\", \"event\", \"white\", \"white elo\", \"black\", \"black elo\", \"resultat\", \"ECO\", \"perf white\", \"perf black\", \"moves\"])"
   ]
  },
  {
   "cell_type": "code",
   "execution_count": 5,
   "metadata": {
    "ExecuteTime": {
     "end_time": "2020-10-04T19:41:21.488817Z",
     "start_time": "2020-10-04T19:41:21.424800Z"
    }
   },
   "outputs": [
    {
     "data": {
      "text/plain": [
       "Headers(Event='Casual Blitz game', Site='https://lichess.org/OQkYqLAi', Date='2020.10.03', Round='?', White='CEV30', Black='drowned_fish', Result='0-1', BlackElo='2339', ECO='B12', Termination='Time forfeit', TimeControl='180+0', UTCDate='2020.10.03', UTCTime='12:50:57', Variant='Standard', WhiteElo='2102')"
      ]
     },
     "execution_count": 5,
     "metadata": {},
     "output_type": "execute_result"
    }
   ],
   "source": [
    "game = chess.pgn.read_game(games) ; header = game.headers ; header"
   ]
  },
  {
   "cell_type": "code",
   "execution_count": 8,
   "metadata": {
    "ExecuteTime": {
     "end_time": "2020-10-04T19:43:01.131254Z",
     "start_time": "2020-10-04T19:42:42.801116Z"
    }
   },
   "outputs": [
    {
     "name": "stdout",
     "output_type": "stream",
     "text": [
      "Wall time: 18.3 s\n"
     ]
    },
    {
     "data": {
      "text/html": [
       "<div>\n",
       "<style scoped>\n",
       "    .dataframe tbody tr th:only-of-type {\n",
       "        vertical-align: middle;\n",
       "    }\n",
       "\n",
       "    .dataframe tbody tr th {\n",
       "        vertical-align: top;\n",
       "    }\n",
       "\n",
       "    .dataframe thead th {\n",
       "        text-align: right;\n",
       "    }\n",
       "</style>\n",
       "<table border=\"1\" class=\"dataframe\">\n",
       "  <thead>\n",
       "    <tr style=\"text-align: right;\">\n",
       "      <th></th>\n",
       "      <th>date</th>\n",
       "      <th>event</th>\n",
       "      <th>white</th>\n",
       "      <th>white elo</th>\n",
       "      <th>black</th>\n",
       "      <th>black elo</th>\n",
       "      <th>resultat</th>\n",
       "      <th>ECO</th>\n",
       "      <th>perf white</th>\n",
       "      <th>perf black</th>\n",
       "      <th>moves</th>\n",
       "    </tr>\n",
       "  </thead>\n",
       "  <tbody>\n",
       "    <tr>\n",
       "      <th>0</th>\n",
       "      <td>2020.10.03</td>\n",
       "      <td>Casual Blitz game</td>\n",
       "      <td>CEV30</td>\n",
       "      <td>2102</td>\n",
       "      <td>drowned_fish</td>\n",
       "      <td>2339</td>\n",
       "      <td>0-1</td>\n",
       "      <td>B12</td>\n",
       "      <td>None</td>\n",
       "      <td>None</td>\n",
       "      <td>e2e4 c7c6 d2d4 d7d5 e4e5 c8f5 b1c3 e7e6 g2g4 ...</td>\n",
       "    </tr>\n",
       "    <tr>\n",
       "      <th>0</th>\n",
       "      <td>2020.10.03</td>\n",
       "      <td>Casual Blitz game</td>\n",
       "      <td>drowned_fish</td>\n",
       "      <td>2339</td>\n",
       "      <td>CEV30</td>\n",
       "      <td>2102</td>\n",
       "      <td>1-0</td>\n",
       "      <td>D15</td>\n",
       "      <td>None</td>\n",
       "      <td>None</td>\n",
       "      <td>d2d4 g8f6 c2c4 c7c6 b1c3 d7d5 g1f3 c8f5 d1b3 ...</td>\n",
       "    </tr>\n",
       "    <tr>\n",
       "      <th>0</th>\n",
       "      <td>2020.10.03</td>\n",
       "      <td>Casual Blitz game</td>\n",
       "      <td>CEV30</td>\n",
       "      <td>2102</td>\n",
       "      <td>drowned_fish</td>\n",
       "      <td>2339</td>\n",
       "      <td>0-1</td>\n",
       "      <td>A01</td>\n",
       "      <td>None</td>\n",
       "      <td>None</td>\n",
       "      <td>b2b3 c7c6 c1b2 d7d5 e2e3 g8f6 f2f4 c8f5 g1f3 ...</td>\n",
       "    </tr>\n",
       "    <tr>\n",
       "      <th>0</th>\n",
       "      <td>2020.10.03</td>\n",
       "      <td>Casual Blitz game</td>\n",
       "      <td>drowned_fish</td>\n",
       "      <td>2339</td>\n",
       "      <td>CEV30</td>\n",
       "      <td>2102</td>\n",
       "      <td>0-1</td>\n",
       "      <td>D15</td>\n",
       "      <td>None</td>\n",
       "      <td>None</td>\n",
       "      <td>d2d4 g8f6 c2c4 c7c6 b1c3 d7d5 g1f3 c8f5 d1b3 ...</td>\n",
       "    </tr>\n",
       "    <tr>\n",
       "      <th>0</th>\n",
       "      <td>2020.10.03</td>\n",
       "      <td>Casual Blitz game</td>\n",
       "      <td>CEV30</td>\n",
       "      <td>2102</td>\n",
       "      <td>drowned_fish</td>\n",
       "      <td>2339</td>\n",
       "      <td>1-0</td>\n",
       "      <td>A00</td>\n",
       "      <td>None</td>\n",
       "      <td>None</td>\n",
       "      <td>b2b4 c7c6 c1b2 d7d5 a2a3 g8f6 e2e3 c8f5 f2f4 ...</td>\n",
       "    </tr>\n",
       "    <tr>\n",
       "      <th>0</th>\n",
       "      <td>2020.10.03</td>\n",
       "      <td>Casual Blitz game</td>\n",
       "      <td>wizzzman</td>\n",
       "      <td>2154</td>\n",
       "      <td>CEV30</td>\n",
       "      <td>2102</td>\n",
       "      <td>1-0</td>\n",
       "      <td>A45</td>\n",
       "      <td>None</td>\n",
       "      <td>None</td>\n",
       "      <td>d2d4 g8f6 c1g5 d7d5 g5f6 g7f6 b1c3 f8h6 e2e3 ...</td>\n",
       "    </tr>\n",
       "    <tr>\n",
       "      <th>0</th>\n",
       "      <td>2020.10.03</td>\n",
       "      <td>Casual Blitz game</td>\n",
       "      <td>Dymbos</td>\n",
       "      <td>1856</td>\n",
       "      <td>CEV30</td>\n",
       "      <td>2102</td>\n",
       "      <td>0-1</td>\n",
       "      <td>A50</td>\n",
       "      <td>None</td>\n",
       "      <td>None</td>\n",
       "      <td>d2d4 g8f6 c2c4 c7c6 b1c3 d7d5 c4d5 c6d5 e2e3 ...</td>\n",
       "    </tr>\n",
       "    <tr>\n",
       "      <th>0</th>\n",
       "      <td>2020.10.03</td>\n",
       "      <td>Casual Blitz game</td>\n",
       "      <td>koepper56</td>\n",
       "      <td>2011</td>\n",
       "      <td>CEV30</td>\n",
       "      <td>2102</td>\n",
       "      <td>0-1</td>\n",
       "      <td>B12</td>\n",
       "      <td>None</td>\n",
       "      <td>None</td>\n",
       "      <td>e2e4 c7c6 d2d4 d7d5 e4e5 c8f5 g2g4 f5d7 b1c3 ...</td>\n",
       "    </tr>\n",
       "    <tr>\n",
       "      <th>0</th>\n",
       "      <td>2020.10.03</td>\n",
       "      <td>Casual Blitz game</td>\n",
       "      <td>CEV30</td>\n",
       "      <td>2102</td>\n",
       "      <td>koepper56</td>\n",
       "      <td>2011</td>\n",
       "      <td>1-0</td>\n",
       "      <td>A01</td>\n",
       "      <td>None</td>\n",
       "      <td>None</td>\n",
       "      <td>b2b3 e7e5 c1b2 b8c6 e2e3 d7d5 f1b5 f8d6 f2f4 ...</td>\n",
       "    </tr>\n",
       "    <tr>\n",
       "      <th>0</th>\n",
       "      <td>2020.10.03</td>\n",
       "      <td>Casual Blitz game</td>\n",
       "      <td>Peuplier03</td>\n",
       "      <td>1983</td>\n",
       "      <td>CEV30</td>\n",
       "      <td>2102</td>\n",
       "      <td>1-0</td>\n",
       "      <td>A15</td>\n",
       "      <td>None</td>\n",
       "      <td>None</td>\n",
       "      <td>c2c4 g8f6 g2g3 c7c6 f1g2 d7d5 g1f3 c8f5 e1g1 ...</td>\n",
       "    </tr>\n",
       "  </tbody>\n",
       "</table>\n",
       "</div>"
      ],
      "text/plain": [
       "         date              event         white white elo         black  \\\n",
       "0  2020.10.03  Casual Blitz game         CEV30      2102  drowned_fish   \n",
       "0  2020.10.03  Casual Blitz game  drowned_fish      2339         CEV30   \n",
       "0  2020.10.03  Casual Blitz game         CEV30      2102  drowned_fish   \n",
       "0  2020.10.03  Casual Blitz game  drowned_fish      2339         CEV30   \n",
       "0  2020.10.03  Casual Blitz game         CEV30      2102  drowned_fish   \n",
       "0  2020.10.03  Casual Blitz game      wizzzman      2154         CEV30   \n",
       "0  2020.10.03  Casual Blitz game        Dymbos      1856         CEV30   \n",
       "0  2020.10.03  Casual Blitz game     koepper56      2011         CEV30   \n",
       "0  2020.10.03  Casual Blitz game         CEV30      2102     koepper56   \n",
       "0  2020.10.03  Casual Blitz game    Peuplier03      1983         CEV30   \n",
       "\n",
       "  black elo resultat  ECO perf white perf black  \\\n",
       "0      2339      0-1  B12       None       None   \n",
       "0      2102      1-0  D15       None       None   \n",
       "0      2339      0-1  A01       None       None   \n",
       "0      2102      0-1  D15       None       None   \n",
       "0      2339      1-0  A00       None       None   \n",
       "0      2102      1-0  A45       None       None   \n",
       "0      2102      0-1  A50       None       None   \n",
       "0      2102      0-1  B12       None       None   \n",
       "0      2011      1-0  A01       None       None   \n",
       "0      2102      1-0  A15       None       None   \n",
       "\n",
       "                                               moves  \n",
       "0   e2e4 c7c6 d2d4 d7d5 e4e5 c8f5 b1c3 e7e6 g2g4 ...  \n",
       "0   d2d4 g8f6 c2c4 c7c6 b1c3 d7d5 g1f3 c8f5 d1b3 ...  \n",
       "0   b2b3 c7c6 c1b2 d7d5 e2e3 g8f6 f2f4 c8f5 g1f3 ...  \n",
       "0   d2d4 g8f6 c2c4 c7c6 b1c3 d7d5 g1f3 c8f5 d1b3 ...  \n",
       "0   b2b4 c7c6 c1b2 d7d5 a2a3 g8f6 e2e3 c8f5 f2f4 ...  \n",
       "0   d2d4 g8f6 c1g5 d7d5 g5f6 g7f6 b1c3 f8h6 e2e3 ...  \n",
       "0   d2d4 g8f6 c2c4 c7c6 b1c3 d7d5 c4d5 c6d5 e2e3 ...  \n",
       "0   e2e4 c7c6 d2d4 d7d5 e4e5 c8f5 g2g4 f5d7 b1c3 ...  \n",
       "0   b2b3 e7e5 c1b2 b8c6 e2e3 d7d5 f1b5 f8d6 f2f4 ...  \n",
       "0   c2c4 g8f6 g2g3 c7c6 f1g2 d7d5 g1f3 c8f5 e1g1 ...  "
      ]
     },
     "execution_count": 8,
     "metadata": {},
     "output_type": "execute_result"
    }
   ],
   "source": [
    "%%time\n",
    "\n",
    "game = chess.pgn.read_game(games)\n",
    "while game :\n",
    "    i=0\n",
    "    header = game.headers\n",
    "    date = header[\"Date\"]; white = header[\"White\"]; black = header[\"Black\"] ; result = header[\"Result\"]\n",
    "    whiteElo = header[\"WhiteElo\"] ; blackElo = header[\"BlackElo\"] ; ECO = header[\"ECO\"] ; moves = \"\" ; event = header[\"Event\"]\n",
    "    for move in game.mainline_moves():\n",
    "        moves = moves + \" \"+ str(move)\n",
    "    try: \n",
    "        whiteRatingDiff = header[\"WhiteRatingDiff\"] ; blackRatingDiff = header[\"BlackRatingDiff\"]\n",
    "    except KeyError: #some games didn't have the features whiteRatingDiff, blackRatingDiff or ECO\n",
    "        whiteRatingDiff = None ; blackRatingDiff = None\n",
    "    finally: \n",
    "        new_game = pd.DataFrame(data={\"date\": date, \"event\": event, \"white\": white, \"white elo\": whiteElo, \"black\": black,\n",
    "                                      \"black elo\": blackElo, \"resultat\": result, \"ECO\": ECO, \n",
    "                                      \"perf white\": whiteRatingDiff, \"perf black\": blackRatingDiff, \"moves\": moves}, index=[i])\n",
    "        games_df = pd.concat([games_df, new_game])\n",
    "        game = chess.pgn.read_game(games)\n",
    "        i+=1\n",
    "games_df.head(10)"
   ]
  },
  {
   "cell_type": "code",
   "execution_count": 13,
   "metadata": {
    "ExecuteTime": {
     "end_time": "2020-10-04T19:48:31.578485Z",
     "start_time": "2020-10-04T19:48:31.555548Z"
    }
   },
   "outputs": [
    {
     "data": {
      "text/plain": [
       "Casual Blitz game               655\n",
       "Hourly Bullet Arena             504\n",
       "Casual Bullet game              502\n",
       "Rated Bullet game               468\n",
       "Rated Blitz game                163\n",
       "Rated Antichess game            151\n",
       "Hourly Blitz Arena              135\n",
       "FFE Blitz Arena                  95\n",
       "Daily Blitz Arena                64\n",
       "<2000 Bullet Arena               35\n",
       "Daily Bullet Arena               35\n",
       "Rated Atomic game                34\n",
       "Rated Three-check game           26\n",
       "Casual Rapid game                25\n",
       "2015 Summer Marathon             25\n",
       "Rated Crazyhouse game            23\n",
       "Casual Antichess game            22\n",
       "Rated Chess960 game              22\n",
       "Casual Standard game             17\n",
       "FFE Bullet Arena                 17\n",
       "Hourly Crazyhouse Arena          16\n",
       "Rated Racing Kings game          15\n",
       "jean60 Arena                     15\n",
       "Weekly Bullet Arena              15\n",
       "Rated Rapid game                 14\n",
       "2017 Autumn Marathon             14\n",
       "FFE - Matons le virus Arena      14\n",
       "2015 Autumn Marathon             10\n",
       "2015 Winter Marathon              9\n",
       "Casual Crazyhouse game            9\n",
       "Hort Arena                        9\n",
       "Rated King of the Hill game       8\n",
       "2017 Winter Marathon              7\n",
       "Arkham Asylum II                  5\n",
       "Hourly Classical Arena            5\n",
       "Casual Chess960 game              5\n",
       "Weekly Blitz Arena                5\n",
       "Casual Horde game                 5\n",
       "Eastern Blitz Arena               5\n",
       "Casual Correspondence game        4\n",
       "FFE Chess960 Arena                4\n",
       "Rated Horde game                  4\n",
       "<2000 Blitz Arena                 4\n",
       "Loyd Arena                        4\n",
       "Abbot Arena                       4\n",
       "2019 Summer Marathon              3\n",
       "Casual Racing Kings game          3\n",
       "Ulvestad Arena                    3\n",
       "Suhle Arena                       2\n",
       "Grob Arena                        2\n",
       "White Arena                       2\n",
       "Daily Classical Arena             2\n",
       "Weekly Classical Arena            2\n",
       "Vaganyan Arena                    1\n",
       "Sicilian Defence Blitz Arena      1\n",
       "Casual King of the Hill game      1\n",
       "Casual Atomic game                1\n",
       "Italian Game Blitz Arena          1\n",
       "Name: event, dtype: int64"
      ]
     },
     "execution_count": 13,
     "metadata": {},
     "output_type": "execute_result"
    }
   ],
   "source": [
    "games_df[\"event\"].value_counts()"
   ]
  },
  {
   "cell_type": "code",
   "execution_count": 12,
   "metadata": {
    "ExecuteTime": {
     "end_time": "2020-10-04T19:46:32.966689Z",
     "start_time": "2020-10-04T19:46:32.942753Z"
    }
   },
   "outputs": [
    {
     "data": {
      "text/plain": [
       "0    2123\n",
       "1    1128\n",
       "Name: scope, dtype: int64"
      ]
     },
     "execution_count": 12,
     "metadata": {},
     "output_type": "execute_result"
    }
   ],
   "source": [
    "games_df[\"scope\"] = games_df[\"event\"].apply(lambda x: 1 if \"Blitz\" in x else 0) ; games_df[\"scope\"].value_counts()"
   ]
  },
  {
   "cell_type": "code",
   "execution_count": 14,
   "metadata": {
    "ExecuteTime": {
     "end_time": "2020-10-04T19:49:58.340526Z",
     "start_time": "2020-10-04T19:49:58.326564Z"
    }
   },
   "outputs": [
    {
     "data": {
      "text/plain": [
       "1128"
      ]
     },
     "execution_count": 14,
     "metadata": {},
     "output_type": "execute_result"
    }
   ],
   "source": [
    "blitz = games_df[games_df[\"scope\"]==1] ; len(blitz)"
   ]
  },
  {
   "cell_type": "code",
   "execution_count": 16,
   "metadata": {
    "ExecuteTime": {
     "end_time": "2020-10-04T19:50:38.652984Z",
     "start_time": "2020-10-04T19:50:38.616333Z"
    }
   },
   "outputs": [],
   "source": [
    "blitz.to_csv(\"alexandre.csv\", index=None)"
   ]
  },
  {
   "cell_type": "code",
   "execution_count": 47,
   "metadata": {
    "ExecuteTime": {
     "end_time": "2020-10-04T20:18:25.800652Z",
     "start_time": "2020-10-04T20:18:25.758764Z"
    }
   },
   "outputs": [
    {
     "data": {
      "text/html": [
       "<div>\n",
       "<style scoped>\n",
       "    .dataframe tbody tr th:only-of-type {\n",
       "        vertical-align: middle;\n",
       "    }\n",
       "\n",
       "    .dataframe tbody tr th {\n",
       "        vertical-align: top;\n",
       "    }\n",
       "\n",
       "    .dataframe thead th {\n",
       "        text-align: right;\n",
       "    }\n",
       "</style>\n",
       "<table border=\"1\" class=\"dataframe\">\n",
       "  <thead>\n",
       "    <tr style=\"text-align: right;\">\n",
       "      <th></th>\n",
       "      <th>date</th>\n",
       "      <th>event</th>\n",
       "      <th>white</th>\n",
       "      <th>white elo</th>\n",
       "      <th>black</th>\n",
       "      <th>black elo</th>\n",
       "      <th>resultat</th>\n",
       "      <th>ECO</th>\n",
       "      <th>perf white</th>\n",
       "      <th>perf black</th>\n",
       "      <th>moves</th>\n",
       "      <th>scope</th>\n",
       "    </tr>\n",
       "  </thead>\n",
       "  <tbody>\n",
       "    <tr>\n",
       "      <th>0</th>\n",
       "      <td>2020.10.03</td>\n",
       "      <td>Casual Blitz game</td>\n",
       "      <td>CEV30</td>\n",
       "      <td>2102</td>\n",
       "      <td>drowned_fish</td>\n",
       "      <td>2339</td>\n",
       "      <td>0-1</td>\n",
       "      <td>B12</td>\n",
       "      <td>NaN</td>\n",
       "      <td>NaN</td>\n",
       "      <td>e2e4 c7c6 d2d4 d7d5 e4e5 c8f5 b1c3 e7e6 g2g4 ...</td>\n",
       "      <td>1</td>\n",
       "    </tr>\n",
       "    <tr>\n",
       "      <th>1</th>\n",
       "      <td>2020.10.03</td>\n",
       "      <td>Casual Blitz game</td>\n",
       "      <td>drowned_fish</td>\n",
       "      <td>2339</td>\n",
       "      <td>CEV30</td>\n",
       "      <td>2102</td>\n",
       "      <td>1-0</td>\n",
       "      <td>D15</td>\n",
       "      <td>NaN</td>\n",
       "      <td>NaN</td>\n",
       "      <td>d2d4 g8f6 c2c4 c7c6 b1c3 d7d5 g1f3 c8f5 d1b3 ...</td>\n",
       "      <td>1</td>\n",
       "    </tr>\n",
       "    <tr>\n",
       "      <th>2</th>\n",
       "      <td>2020.10.03</td>\n",
       "      <td>Casual Blitz game</td>\n",
       "      <td>CEV30</td>\n",
       "      <td>2102</td>\n",
       "      <td>drowned_fish</td>\n",
       "      <td>2339</td>\n",
       "      <td>0-1</td>\n",
       "      <td>A01</td>\n",
       "      <td>NaN</td>\n",
       "      <td>NaN</td>\n",
       "      <td>b2b3 c7c6 c1b2 d7d5 e2e3 g8f6 f2f4 c8f5 g1f3 ...</td>\n",
       "      <td>1</td>\n",
       "    </tr>\n",
       "  </tbody>\n",
       "</table>\n",
       "</div>"
      ],
      "text/plain": [
       "         date              event         white white elo         black  \\\n",
       "0  2020.10.03  Casual Blitz game         CEV30      2102  drowned_fish   \n",
       "1  2020.10.03  Casual Blitz game  drowned_fish      2339         CEV30   \n",
       "2  2020.10.03  Casual Blitz game         CEV30      2102  drowned_fish   \n",
       "\n",
       "  black elo resultat  ECO  perf white  perf black  \\\n",
       "0      2339      0-1  B12         NaN         NaN   \n",
       "1      2102      1-0  D15         NaN         NaN   \n",
       "2      2339      0-1  A01         NaN         NaN   \n",
       "\n",
       "                                               moves  scope  \n",
       "0   e2e4 c7c6 d2d4 d7d5 e4e5 c8f5 b1c3 e7e6 g2g4 ...      1  \n",
       "1   d2d4 g8f6 c2c4 c7c6 b1c3 d7d5 g1f3 c8f5 d1b3 ...      1  \n",
       "2   b2b3 c7c6 c1b2 d7d5 e2e3 g8f6 f2f4 c8f5 g1f3 ...      1  "
      ]
     },
     "execution_count": 47,
     "metadata": {},
     "output_type": "execute_result"
    }
   ],
   "source": [
    "games_df = pd.read_csv(\"alexandre.csv\") ; games_df.head(3)"
   ]
  },
  {
   "cell_type": "markdown",
   "metadata": {},
   "source": [
    "<h2> data analysis </h2>"
   ]
  },
  {
   "cell_type": "code",
   "execution_count": 3,
   "metadata": {
    "ExecuteTime": {
     "end_time": "2020-10-04T19:53:38.554336Z",
     "start_time": "2020-10-04T19:53:38.535350Z"
    }
   },
   "outputs": [
    {
     "data": {
      "text/plain": [
       "1128"
      ]
     },
     "execution_count": 3,
     "metadata": {},
     "output_type": "execute_result"
    }
   ],
   "source": [
    "len(games_df)"
   ]
  },
  {
   "cell_type": "code",
   "execution_count": 48,
   "metadata": {
    "ExecuteTime": {
     "end_time": "2020-10-04T20:18:28.158784Z",
     "start_time": "2020-10-04T20:18:28.094961Z"
    }
   },
   "outputs": [
    {
     "data": {
      "text/html": [
       "<div>\n",
       "<style scoped>\n",
       "    .dataframe tbody tr th:only-of-type {\n",
       "        vertical-align: middle;\n",
       "    }\n",
       "\n",
       "    .dataframe tbody tr th {\n",
       "        vertical-align: top;\n",
       "    }\n",
       "\n",
       "    .dataframe thead th {\n",
       "        text-align: right;\n",
       "    }\n",
       "</style>\n",
       "<table border=\"1\" class=\"dataframe\">\n",
       "  <thead>\n",
       "    <tr style=\"text-align: right;\">\n",
       "      <th></th>\n",
       "      <th>date</th>\n",
       "      <th>event</th>\n",
       "      <th>white</th>\n",
       "      <th>white elo</th>\n",
       "      <th>black</th>\n",
       "      <th>black elo</th>\n",
       "      <th>resultat</th>\n",
       "      <th>ECO</th>\n",
       "      <th>perf white</th>\n",
       "      <th>perf black</th>\n",
       "      <th>moves</th>\n",
       "      <th>scope</th>\n",
       "      <th>opening</th>\n",
       "      <th>variation</th>\n",
       "      <th>year</th>\n",
       "      <th>nb</th>\n",
       "    </tr>\n",
       "  </thead>\n",
       "  <tbody>\n",
       "    <tr>\n",
       "      <th>0</th>\n",
       "      <td>2020-10-03</td>\n",
       "      <td>Casual Blitz game</td>\n",
       "      <td>CEV30</td>\n",
       "      <td>2102</td>\n",
       "      <td>drowned_fish</td>\n",
       "      <td>2339</td>\n",
       "      <td>0-1</td>\n",
       "      <td>B12</td>\n",
       "      <td>nan</td>\n",
       "      <td>nan</td>\n",
       "      <td>e2e4 c7c6 d2d4 d7d5 e4e5 c8f5 b1c3 e7e6 g2g4 ...</td>\n",
       "      <td>1</td>\n",
       "      <td>Caro-KAnn</td>\n",
       "      <td>Caro-Kann</td>\n",
       "      <td>2020</td>\n",
       "      <td>1</td>\n",
       "    </tr>\n",
       "    <tr>\n",
       "      <th>1</th>\n",
       "      <td>2020-10-03</td>\n",
       "      <td>Casual Blitz game</td>\n",
       "      <td>drowned_fish</td>\n",
       "      <td>2339</td>\n",
       "      <td>CEV30</td>\n",
       "      <td>2102</td>\n",
       "      <td>1-0</td>\n",
       "      <td>D15</td>\n",
       "      <td>nan</td>\n",
       "      <td>nan</td>\n",
       "      <td>d2d4 g8f6 c2c4 c7c6 b1c3 d7d5 g1f3 c8f5 d1b3 ...</td>\n",
       "      <td>1</td>\n",
       "      <td>Queen's Gambit</td>\n",
       "      <td>Slave</td>\n",
       "      <td>2020</td>\n",
       "      <td>1</td>\n",
       "    </tr>\n",
       "    <tr>\n",
       "      <th>2</th>\n",
       "      <td>2020-10-03</td>\n",
       "      <td>Casual Blitz game</td>\n",
       "      <td>CEV30</td>\n",
       "      <td>2102</td>\n",
       "      <td>drowned_fish</td>\n",
       "      <td>2339</td>\n",
       "      <td>0-1</td>\n",
       "      <td>A01</td>\n",
       "      <td>nan</td>\n",
       "      <td>nan</td>\n",
       "      <td>b2b3 c7c6 c1b2 d7d5 e2e3 g8f6 f2f4 c8f5 g1f3 ...</td>\n",
       "      <td>1</td>\n",
       "      <td>Irregular</td>\n",
       "      <td>just bad, nothing else</td>\n",
       "      <td>2020</td>\n",
       "      <td>1</td>\n",
       "    </tr>\n",
       "  </tbody>\n",
       "</table>\n",
       "</div>"
      ],
      "text/plain": [
       "        date              event         white white elo         black  \\\n",
       "0 2020-10-03  Casual Blitz game         CEV30      2102  drowned_fish   \n",
       "1 2020-10-03  Casual Blitz game  drowned_fish      2339         CEV30   \n",
       "2 2020-10-03  Casual Blitz game         CEV30      2102  drowned_fish   \n",
       "\n",
       "  black elo resultat  ECO perf white perf black  \\\n",
       "0      2339      0-1  B12        nan        nan   \n",
       "1      2102      1-0  D15        nan        nan   \n",
       "2      2339      0-1  A01        nan        nan   \n",
       "\n",
       "                                               moves  scope         opening  \\\n",
       "0   e2e4 c7c6 d2d4 d7d5 e4e5 c8f5 b1c3 e7e6 g2g4 ...      1       Caro-KAnn   \n",
       "1   d2d4 g8f6 c2c4 c7c6 b1c3 d7d5 g1f3 c8f5 d1b3 ...      1  Queen's Gambit   \n",
       "2   b2b3 c7c6 c1b2 d7d5 e2e3 g8f6 f2f4 c8f5 g1f3 ...      1       Irregular   \n",
       "\n",
       "                variation  year  nb  \n",
       "0               Caro-Kann  2020   1  \n",
       "1                   Slave  2020   1  \n",
       "2  just bad, nothing else  2020   1  "
      ]
     },
     "execution_count": 48,
     "metadata": {},
     "output_type": "execute_result"
    }
   ],
   "source": [
    "games_df = preprocessing_steps.preprocess(games_df) ; games_df.head(3)"
   ]
  },
  {
   "cell_type": "code",
   "execution_count": 24,
   "metadata": {
    "ExecuteTime": {
     "end_time": "2020-10-04T20:03:49.791886Z",
     "start_time": "2020-10-04T20:03:49.776926Z"
    }
   },
   "outputs": [
    {
     "data": {
      "text/plain": [
       "473"
      ]
     },
     "execution_count": 24,
     "metadata": {},
     "output_type": "execute_result"
    }
   ],
   "source": [
    "games_df = games_df[(games_df[\"perf white\"]!=\"nan\")] ; len(games_df)"
   ]
  },
  {
   "cell_type": "markdown",
   "metadata": {},
   "source": [
    "<h3> How bad Alexandre is on b3 ? </h3>"
   ]
  },
  {
   "cell_type": "code",
   "execution_count": 25,
   "metadata": {
    "ExecuteTime": {
     "end_time": "2020-10-04T20:03:53.537637Z",
     "start_time": "2020-10-04T20:03:53.522677Z"
    }
   },
   "outputs": [
    {
     "data": {
      "text/plain": [
       "215"
      ]
     },
     "execution_count": 25,
     "metadata": {},
     "output_type": "execute_result"
    }
   ],
   "source": [
    "b3 = games_df[(games_df[\"variation\"]==\"just bad, nothing else\") & (games_df[\"white\"]==\"CEV30\")] ; len(b3)"
   ]
  },
  {
   "cell_type": "code",
   "execution_count": 26,
   "metadata": {
    "ExecuteTime": {
     "end_time": "2020-10-04T20:03:56.606563Z",
     "start_time": "2020-10-04T20:03:56.591597Z"
    }
   },
   "outputs": [
    {
     "data": {
      "text/plain": [
       "1-0        137\n",
       "0-1         61\n",
       "1/2-1/2     17\n",
       "Name: resultat, dtype: int64"
      ]
     },
     "execution_count": 26,
     "metadata": {},
     "output_type": "execute_result"
    }
   ],
   "source": [
    "b3[\"resultat\"].value_counts()"
   ]
  },
  {
   "cell_type": "code",
   "execution_count": 27,
   "metadata": {
    "ExecuteTime": {
     "end_time": "2020-10-04T20:04:03.332603Z",
     "start_time": "2020-10-04T20:04:03.318631Z"
    }
   },
   "outputs": [
    {
     "data": {
      "text/plain": [
       "e7e5    74\n",
       "d7d5    62\n",
       "g8f6    38\n",
       "c7c5     9\n",
       "d7d6     7\n",
       "g7g6     6\n",
       "c7c6     5\n",
       "b7b6     5\n",
       "e7e6     4\n",
       "b8c6     2\n",
       "a7a5     1\n",
       "Name: first move, dtype: int64"
      ]
     },
     "execution_count": 27,
     "metadata": {},
     "output_type": "execute_result"
    }
   ],
   "source": [
    "b3[\"first move\"] = b3[\"moves\"].apply(lambda x: fonctions.find_move_n(x[1:], 1)) ; b3[\"first move\"].value_counts()"
   ]
  },
  {
   "cell_type": "code",
   "execution_count": 35,
   "metadata": {
    "ExecuteTime": {
     "end_time": "2020-10-04T20:09:26.170998Z",
     "start_time": "2020-10-04T20:09:26.150054Z"
    }
   },
   "outputs": [
    {
     "data": {
      "text/plain": [
       "first move  resultat\n",
       "b7b6        0-1          1\n",
       "            1-0          4\n",
       "b8c6        1-0          1\n",
       "            1/2-1/2      1\n",
       "c7c5        0-1          2\n",
       "            1-0          4\n",
       "            1/2-1/2      1\n",
       "c7c6        0-1          1\n",
       "            1-0          3\n",
       "            1/2-1/2      1\n",
       "d7d5        0-1         17\n",
       "            1-0         33\n",
       "            1/2-1/2      7\n",
       "d7d6        0-1          4\n",
       "            1-0          3\n",
       "e7e5        0-1         21\n",
       "            1-0         48\n",
       "            1/2-1/2      2\n",
       "e7e6        1-0          3\n",
       "            1/2-1/2      1\n",
       "g7g6        0-1          1\n",
       "            1-0          5\n",
       "g8f6        0-1          6\n",
       "            1-0         27\n",
       "            1/2-1/2      4\n",
       "Name: nb, dtype: int64"
      ]
     },
     "execution_count": 35,
     "metadata": {},
     "output_type": "execute_result"
    }
   ],
   "source": [
    "b3[(b3[\"black elo\"].astype(int)<2200) & (b3[\"black elo\"].astype(int)<2200)].groupby([\"first move\", \"resultat\"]).agg(\"count\")[\"nb\"]"
   ]
  },
  {
   "cell_type": "code",
   "execution_count": 32,
   "metadata": {
    "ExecuteTime": {
     "end_time": "2020-10-04T20:06:27.677471Z",
     "start_time": "2020-10-04T20:06:27.652500Z"
    }
   },
   "outputs": [
    {
     "data": {
      "text/plain": [
       "count     215.000000\n",
       "mean     1846.511628\n",
       "std       226.970743\n",
       "min      1209.000000\n",
       "25%      1732.000000\n",
       "50%      1874.000000\n",
       "75%      1975.500000\n",
       "max      2394.000000\n",
       "Name: black elo, dtype: float64"
      ]
     },
     "execution_count": 32,
     "metadata": {},
     "output_type": "execute_result"
    }
   ],
   "source": [
    "b3[\"black elo\"].astype(int).describe()"
   ]
  },
  {
   "cell_type": "code",
   "execution_count": 49,
   "metadata": {
    "ExecuteTime": {
     "end_time": "2020-10-04T20:18:43.087085Z",
     "start_time": "2020-10-04T20:18:43.075103Z"
    }
   },
   "outputs": [
    {
     "data": {
      "text/plain": [
       "561"
      ]
     },
     "execution_count": 49,
     "metadata": {},
     "output_type": "execute_result"
    }
   ],
   "source": [
    "black = games_df[games_df[\"black\"]==\"CEV30\"] ; len(black)"
   ]
  },
  {
   "cell_type": "code",
   "execution_count": 50,
   "metadata": {
    "ExecuteTime": {
     "end_time": "2020-10-04T20:18:45.396371Z",
     "start_time": "2020-10-04T20:18:45.344509Z"
    }
   },
   "outputs": [
    {
     "data": {
      "text/html": [
       "<div>\n",
       "<style scoped>\n",
       "    .dataframe tbody tr th:only-of-type {\n",
       "        vertical-align: middle;\n",
       "    }\n",
       "\n",
       "    .dataframe tbody tr th {\n",
       "        vertical-align: top;\n",
       "    }\n",
       "\n",
       "    .dataframe thead th {\n",
       "        text-align: right;\n",
       "    }\n",
       "</style>\n",
       "<table border=\"1\" class=\"dataframe\">\n",
       "  <thead>\n",
       "    <tr style=\"text-align: right;\">\n",
       "      <th></th>\n",
       "      <th>date</th>\n",
       "      <th>event</th>\n",
       "      <th>white</th>\n",
       "      <th>white elo</th>\n",
       "      <th>black</th>\n",
       "      <th>black elo</th>\n",
       "      <th>resultat</th>\n",
       "      <th>ECO</th>\n",
       "      <th>perf white</th>\n",
       "      <th>perf black</th>\n",
       "      <th>moves</th>\n",
       "      <th>scope</th>\n",
       "      <th>opening</th>\n",
       "      <th>variation</th>\n",
       "      <th>year</th>\n",
       "      <th>nb</th>\n",
       "    </tr>\n",
       "  </thead>\n",
       "  <tbody>\n",
       "    <tr>\n",
       "      <th>1</th>\n",
       "      <td>2020-10-03</td>\n",
       "      <td>Casual Blitz game</td>\n",
       "      <td>drowned_fish</td>\n",
       "      <td>2339</td>\n",
       "      <td>CEV30</td>\n",
       "      <td>2102</td>\n",
       "      <td>1-0</td>\n",
       "      <td>D15</td>\n",
       "      <td>nan</td>\n",
       "      <td>nan</td>\n",
       "      <td>d2d4 g8f6 c2c4 c7c6 b1c3 d7d5 g1f3 c8f5 d1b3 ...</td>\n",
       "      <td>1</td>\n",
       "      <td>Queen's Gambit</td>\n",
       "      <td>Slave</td>\n",
       "      <td>2020</td>\n",
       "      <td>1</td>\n",
       "    </tr>\n",
       "    <tr>\n",
       "      <th>3</th>\n",
       "      <td>2020-10-03</td>\n",
       "      <td>Casual Blitz game</td>\n",
       "      <td>drowned_fish</td>\n",
       "      <td>2339</td>\n",
       "      <td>CEV30</td>\n",
       "      <td>2102</td>\n",
       "      <td>0-1</td>\n",
       "      <td>D15</td>\n",
       "      <td>nan</td>\n",
       "      <td>nan</td>\n",
       "      <td>d2d4 g8f6 c2c4 c7c6 b1c3 d7d5 g1f3 c8f5 d1b3 ...</td>\n",
       "      <td>1</td>\n",
       "      <td>Queen's Gambit</td>\n",
       "      <td>Slave</td>\n",
       "      <td>2020</td>\n",
       "      <td>1</td>\n",
       "    </tr>\n",
       "    <tr>\n",
       "      <th>5</th>\n",
       "      <td>2020-10-03</td>\n",
       "      <td>Casual Blitz game</td>\n",
       "      <td>wizzzman</td>\n",
       "      <td>2154</td>\n",
       "      <td>CEV30</td>\n",
       "      <td>2102</td>\n",
       "      <td>1-0</td>\n",
       "      <td>A45</td>\n",
       "      <td>nan</td>\n",
       "      <td>nan</td>\n",
       "      <td>d2d4 g8f6 c1g5 d7d5 g5f6 g7f6 b1c3 f8h6 e2e3 ...</td>\n",
       "      <td>1</td>\n",
       "      <td>Trompowsky</td>\n",
       "      <td>Trompowsky</td>\n",
       "      <td>2020</td>\n",
       "      <td>1</td>\n",
       "    </tr>\n",
       "    <tr>\n",
       "      <th>6</th>\n",
       "      <td>2020-10-03</td>\n",
       "      <td>Casual Blitz game</td>\n",
       "      <td>Dymbos</td>\n",
       "      <td>1856</td>\n",
       "      <td>CEV30</td>\n",
       "      <td>2102</td>\n",
       "      <td>0-1</td>\n",
       "      <td>A50</td>\n",
       "      <td>nan</td>\n",
       "      <td>nan</td>\n",
       "      <td>d2d4 g8f6 c2c4 c7c6 b1c3 d7d5 c4d5 c6d5 e2e3 ...</td>\n",
       "      <td>1</td>\n",
       "      <td>Benoni defense</td>\n",
       "      <td>Trompowsky</td>\n",
       "      <td>2020</td>\n",
       "      <td>1</td>\n",
       "    </tr>\n",
       "    <tr>\n",
       "      <th>7</th>\n",
       "      <td>2020-10-03</td>\n",
       "      <td>Casual Blitz game</td>\n",
       "      <td>koepper56</td>\n",
       "      <td>2011</td>\n",
       "      <td>CEV30</td>\n",
       "      <td>2102</td>\n",
       "      <td>0-1</td>\n",
       "      <td>B12</td>\n",
       "      <td>nan</td>\n",
       "      <td>nan</td>\n",
       "      <td>e2e4 c7c6 d2d4 d7d5 e4e5 c8f5 g2g4 f5d7 b1c3 ...</td>\n",
       "      <td>1</td>\n",
       "      <td>Caro-KAnn</td>\n",
       "      <td>Caro-Kann</td>\n",
       "      <td>2020</td>\n",
       "      <td>1</td>\n",
       "    </tr>\n",
       "    <tr>\n",
       "      <th>...</th>\n",
       "      <td>...</td>\n",
       "      <td>...</td>\n",
       "      <td>...</td>\n",
       "      <td>...</td>\n",
       "      <td>...</td>\n",
       "      <td>...</td>\n",
       "      <td>...</td>\n",
       "      <td>...</td>\n",
       "      <td>...</td>\n",
       "      <td>...</td>\n",
       "      <td>...</td>\n",
       "      <td>...</td>\n",
       "      <td>...</td>\n",
       "      <td>...</td>\n",
       "      <td>...</td>\n",
       "      <td>...</td>\n",
       "    </tr>\n",
       "    <tr>\n",
       "      <th>1114</th>\n",
       "      <td>2015-07-29</td>\n",
       "      <td>Hourly Blitz Arena</td>\n",
       "      <td>mark333</td>\n",
       "      <td>1709</td>\n",
       "      <td>CEV30</td>\n",
       "      <td>1720</td>\n",
       "      <td>1-0</td>\n",
       "      <td>C30</td>\n",
       "      <td>11.0</td>\n",
       "      <td>-32.0</td>\n",
       "      <td>e2e4 e7e5 f2f4 c7c5 c2c4 b8c6 g1f3 e5f4 d2d3 ...</td>\n",
       "      <td>1</td>\n",
       "      <td>e4 e5</td>\n",
       "      <td>King's Gambit</td>\n",
       "      <td>2015</td>\n",
       "      <td>1</td>\n",
       "    </tr>\n",
       "    <tr>\n",
       "      <th>1117</th>\n",
       "      <td>2015-07-26</td>\n",
       "      <td>Hourly Blitz Arena</td>\n",
       "      <td>vw2</td>\n",
       "      <td>1500</td>\n",
       "      <td>CEV30</td>\n",
       "      <td>1703</td>\n",
       "      <td>1-0</td>\n",
       "      <td>C44</td>\n",
       "      <td>17.0</td>\n",
       "      <td>-64.0</td>\n",
       "      <td>e2e4 e7e5 g1f3 b8c6 f1c4 g8f6 c2c3 c6a5 c4d3 ...</td>\n",
       "      <td>1</td>\n",
       "      <td>e4 e5</td>\n",
       "      <td>1.e4 e5 2.Nf3 Nc6</td>\n",
       "      <td>2015</td>\n",
       "      <td>1</td>\n",
       "    </tr>\n",
       "    <tr>\n",
       "      <th>1121</th>\n",
       "      <td>2015-07-26</td>\n",
       "      <td>Hourly Blitz Arena</td>\n",
       "      <td>kvn1004</td>\n",
       "      <td>1598</td>\n",
       "      <td>CEV30</td>\n",
       "      <td>1823</td>\n",
       "      <td>1-0</td>\n",
       "      <td>C45</td>\n",
       "      <td>16.0</td>\n",
       "      <td>-91.0</td>\n",
       "      <td>e2e4 e7e5 g1f3 b8c6 d2d4 e5d4 f3d4 f8c5 c1e3 ...</td>\n",
       "      <td>1</td>\n",
       "      <td>e4 e5</td>\n",
       "      <td>1.e4 e5 2.Nf3 Nc6</td>\n",
       "      <td>2015</td>\n",
       "      <td>1</td>\n",
       "    </tr>\n",
       "    <tr>\n",
       "      <th>1124</th>\n",
       "      <td>2015-07-21</td>\n",
       "      <td>Rated Blitz game</td>\n",
       "      <td>megaflower</td>\n",
       "      <td>1824</td>\n",
       "      <td>CEV30</td>\n",
       "      <td>1858</td>\n",
       "      <td>0-1</td>\n",
       "      <td>C25</td>\n",
       "      <td>-8.0</td>\n",
       "      <td>85.0</td>\n",
       "      <td>e2e4 e7e5 b1c3 b8c6 g2g3 d7d6 f1g2 f8e7 g1e2 ...</td>\n",
       "      <td>1</td>\n",
       "      <td>e4 e5</td>\n",
       "      <td>1.e4 e5 divers</td>\n",
       "      <td>2015</td>\n",
       "      <td>1</td>\n",
       "    </tr>\n",
       "    <tr>\n",
       "      <th>1126</th>\n",
       "      <td>2015-07-17</td>\n",
       "      <td>Rated Blitz game</td>\n",
       "      <td>chessace</td>\n",
       "      <td>1520</td>\n",
       "      <td>CEV30</td>\n",
       "      <td>1500</td>\n",
       "      <td>0-1</td>\n",
       "      <td>C30</td>\n",
       "      <td>-8.0</td>\n",
       "      <td>185.0</td>\n",
       "      <td>e2e4 e7e5 f2f4 c7c5 g1f3 e5f4 f1c4 b8c6 c2c3 ...</td>\n",
       "      <td>1</td>\n",
       "      <td>e4 e5</td>\n",
       "      <td>King's Gambit</td>\n",
       "      <td>2015</td>\n",
       "      <td>1</td>\n",
       "    </tr>\n",
       "  </tbody>\n",
       "</table>\n",
       "<p>561 rows × 16 columns</p>\n",
       "</div>"
      ],
      "text/plain": [
       "           date               event         white white elo  black black elo  \\\n",
       "1    2020-10-03   Casual Blitz game  drowned_fish      2339  CEV30      2102   \n",
       "3    2020-10-03   Casual Blitz game  drowned_fish      2339  CEV30      2102   \n",
       "5    2020-10-03   Casual Blitz game      wizzzman      2154  CEV30      2102   \n",
       "6    2020-10-03   Casual Blitz game        Dymbos      1856  CEV30      2102   \n",
       "7    2020-10-03   Casual Blitz game     koepper56      2011  CEV30      2102   \n",
       "...         ...                 ...           ...       ...    ...       ...   \n",
       "1114 2015-07-29  Hourly Blitz Arena       mark333      1709  CEV30      1720   \n",
       "1117 2015-07-26  Hourly Blitz Arena           vw2      1500  CEV30      1703   \n",
       "1121 2015-07-26  Hourly Blitz Arena       kvn1004      1598  CEV30      1823   \n",
       "1124 2015-07-21    Rated Blitz game    megaflower      1824  CEV30      1858   \n",
       "1126 2015-07-17    Rated Blitz game      chessace      1520  CEV30      1500   \n",
       "\n",
       "     resultat  ECO perf white perf black  \\\n",
       "1         1-0  D15        nan        nan   \n",
       "3         0-1  D15        nan        nan   \n",
       "5         1-0  A45        nan        nan   \n",
       "6         0-1  A50        nan        nan   \n",
       "7         0-1  B12        nan        nan   \n",
       "...       ...  ...        ...        ...   \n",
       "1114      1-0  C30       11.0      -32.0   \n",
       "1117      1-0  C44       17.0      -64.0   \n",
       "1121      1-0  C45       16.0      -91.0   \n",
       "1124      0-1  C25       -8.0       85.0   \n",
       "1126      0-1  C30       -8.0      185.0   \n",
       "\n",
       "                                                  moves  scope  \\\n",
       "1      d2d4 g8f6 c2c4 c7c6 b1c3 d7d5 g1f3 c8f5 d1b3 ...      1   \n",
       "3      d2d4 g8f6 c2c4 c7c6 b1c3 d7d5 g1f3 c8f5 d1b3 ...      1   \n",
       "5      d2d4 g8f6 c1g5 d7d5 g5f6 g7f6 b1c3 f8h6 e2e3 ...      1   \n",
       "6      d2d4 g8f6 c2c4 c7c6 b1c3 d7d5 c4d5 c6d5 e2e3 ...      1   \n",
       "7      e2e4 c7c6 d2d4 d7d5 e4e5 c8f5 g2g4 f5d7 b1c3 ...      1   \n",
       "...                                                 ...    ...   \n",
       "1114   e2e4 e7e5 f2f4 c7c5 c2c4 b8c6 g1f3 e5f4 d2d3 ...      1   \n",
       "1117   e2e4 e7e5 g1f3 b8c6 f1c4 g8f6 c2c3 c6a5 c4d3 ...      1   \n",
       "1121   e2e4 e7e5 g1f3 b8c6 d2d4 e5d4 f3d4 f8c5 c1e3 ...      1   \n",
       "1124   e2e4 e7e5 b1c3 b8c6 g2g3 d7d6 f1g2 f8e7 g1e2 ...      1   \n",
       "1126   e2e4 e7e5 f2f4 c7c5 g1f3 e5f4 f1c4 b8c6 c2c3 ...      1   \n",
       "\n",
       "             opening          variation  year  nb  \n",
       "1     Queen's Gambit              Slave  2020   1  \n",
       "3     Queen's Gambit              Slave  2020   1  \n",
       "5         Trompowsky         Trompowsky  2020   1  \n",
       "6     Benoni defense         Trompowsky  2020   1  \n",
       "7          Caro-KAnn          Caro-Kann  2020   1  \n",
       "...              ...                ...   ...  ..  \n",
       "1114           e4 e5      King's Gambit  2015   1  \n",
       "1117           e4 e5  1.e4 e5 2.Nf3 Nc6  2015   1  \n",
       "1121           e4 e5  1.e4 e5 2.Nf3 Nc6  2015   1  \n",
       "1124           e4 e5     1.e4 e5 divers  2015   1  \n",
       "1126           e4 e5      King's Gambit  2015   1  \n",
       "\n",
       "[561 rows x 16 columns]"
      ]
     },
     "execution_count": 50,
     "metadata": {},
     "output_type": "execute_result"
    }
   ],
   "source": [
    "black"
   ]
  },
  {
   "cell_type": "code",
   "execution_count": 51,
   "metadata": {
    "ExecuteTime": {
     "end_time": "2020-10-04T20:18:48.718320Z",
     "start_time": "2020-10-04T20:18:48.703359Z"
    }
   },
   "outputs": [
    {
     "data": {
      "text/plain": [
       "e4 e5                                260\n",
       "Irregular                             64\n",
       "Trompowsky                            62\n",
       "English Opening                       36\n",
       "Queen's Indian                        27\n",
       "Queen's Gambit                        23\n",
       "Benoni defense                        22\n",
       "QGD                                   20\n",
       "Nimzo Indian                          19\n",
       "Alekhine, scandinave and other e4      9\n",
       "Caro-KAnn                              8\n",
       "French                                 5\n",
       "King's Indian                          3\n",
       "Grunfeld Defence                       2\n",
       "Sicilian                               1\n",
       "Name: opening, dtype: int64"
      ]
     },
     "execution_count": 51,
     "metadata": {},
     "output_type": "execute_result"
    }
   ],
   "source": [
    "black[\"opening\"].value_counts()"
   ]
  },
  {
   "cell_type": "code",
   "execution_count": 52,
   "metadata": {
    "ExecuteTime": {
     "end_time": "2020-10-04T20:18:56.877936Z",
     "start_time": "2020-10-04T20:18:56.845987Z"
    }
   },
   "outputs": [
    {
     "ename": "TypeError",
     "evalue": "int() argument must be a string, a bytes-like object or a number, not 'NoneType'",
     "output_type": "error",
     "traceback": [
      "\u001b[1;31m---------------------------------------------------------------------------\u001b[0m",
      "\u001b[1;31mTypeError\u001b[0m                                 Traceback (most recent call last)",
      "\u001b[1;32m<ipython-input-52-7885dcdbe65e>\u001b[0m in \u001b[0;36m<module>\u001b[1;34m\u001b[0m\n\u001b[1;32m----> 1\u001b[1;33m \u001b[0mblack\u001b[0m\u001b[1;33m[\u001b[0m\u001b[0mblack\u001b[0m\u001b[1;33m[\u001b[0m\u001b[1;34m\"white elo\"\u001b[0m\u001b[1;33m]\u001b[0m\u001b[1;33m.\u001b[0m\u001b[0mastype\u001b[0m\u001b[1;33m(\u001b[0m\u001b[0mint\u001b[0m\u001b[1;33m)\u001b[0m\u001b[1;33m>\u001b[0m\u001b[1;36m1700\u001b[0m\u001b[1;33m]\u001b[0m\u001b[1;33m.\u001b[0m\u001b[0mgroupby\u001b[0m\u001b[1;33m(\u001b[0m\u001b[1;33m[\u001b[0m\u001b[1;34m\"opening\"\u001b[0m\u001b[1;33m,\u001b[0m \u001b[1;34m\"resultat\"\u001b[0m\u001b[1;33m]\u001b[0m\u001b[1;33m)\u001b[0m\u001b[1;33m.\u001b[0m\u001b[0magg\u001b[0m\u001b[1;33m(\u001b[0m\u001b[1;34m\"count\"\u001b[0m\u001b[1;33m)\u001b[0m\u001b[1;33m[\u001b[0m\u001b[1;34m\"nb\"\u001b[0m\u001b[1;33m]\u001b[0m\u001b[1;33m\u001b[0m\u001b[1;33m\u001b[0m\u001b[0m\n\u001b[0m",
      "\u001b[1;32mc:\\users\\yacin\\anaconda3\\lib\\site-packages\\pandas\\core\\generic.py\u001b[0m in \u001b[0;36mastype\u001b[1;34m(self, dtype, copy, errors)\u001b[0m\n\u001b[0;32m   5696\u001b[0m         \u001b[1;32melse\u001b[0m\u001b[1;33m:\u001b[0m\u001b[1;33m\u001b[0m\u001b[1;33m\u001b[0m\u001b[0m\n\u001b[0;32m   5697\u001b[0m             \u001b[1;31m# else, only a single dtype is given\u001b[0m\u001b[1;33m\u001b[0m\u001b[1;33m\u001b[0m\u001b[1;33m\u001b[0m\u001b[0m\n\u001b[1;32m-> 5698\u001b[1;33m             \u001b[0mnew_data\u001b[0m \u001b[1;33m=\u001b[0m \u001b[0mself\u001b[0m\u001b[1;33m.\u001b[0m\u001b[0m_data\u001b[0m\u001b[1;33m.\u001b[0m\u001b[0mastype\u001b[0m\u001b[1;33m(\u001b[0m\u001b[0mdtype\u001b[0m\u001b[1;33m=\u001b[0m\u001b[0mdtype\u001b[0m\u001b[1;33m,\u001b[0m \u001b[0mcopy\u001b[0m\u001b[1;33m=\u001b[0m\u001b[0mcopy\u001b[0m\u001b[1;33m,\u001b[0m \u001b[0merrors\u001b[0m\u001b[1;33m=\u001b[0m\u001b[0merrors\u001b[0m\u001b[1;33m)\u001b[0m\u001b[1;33m\u001b[0m\u001b[1;33m\u001b[0m\u001b[0m\n\u001b[0m\u001b[0;32m   5699\u001b[0m             \u001b[1;32mreturn\u001b[0m \u001b[0mself\u001b[0m\u001b[1;33m.\u001b[0m\u001b[0m_constructor\u001b[0m\u001b[1;33m(\u001b[0m\u001b[0mnew_data\u001b[0m\u001b[1;33m)\u001b[0m\u001b[1;33m.\u001b[0m\u001b[0m__finalize__\u001b[0m\u001b[1;33m(\u001b[0m\u001b[0mself\u001b[0m\u001b[1;33m)\u001b[0m\u001b[1;33m\u001b[0m\u001b[1;33m\u001b[0m\u001b[0m\n\u001b[0;32m   5700\u001b[0m \u001b[1;33m\u001b[0m\u001b[0m\n",
      "\u001b[1;32mc:\\users\\yacin\\anaconda3\\lib\\site-packages\\pandas\\core\\internals\\managers.py\u001b[0m in \u001b[0;36mastype\u001b[1;34m(self, dtype, copy, errors)\u001b[0m\n\u001b[0;32m    580\u001b[0m \u001b[1;33m\u001b[0m\u001b[0m\n\u001b[0;32m    581\u001b[0m     \u001b[1;32mdef\u001b[0m \u001b[0mastype\u001b[0m\u001b[1;33m(\u001b[0m\u001b[0mself\u001b[0m\u001b[1;33m,\u001b[0m \u001b[0mdtype\u001b[0m\u001b[1;33m,\u001b[0m \u001b[0mcopy\u001b[0m\u001b[1;33m:\u001b[0m \u001b[0mbool\u001b[0m \u001b[1;33m=\u001b[0m \u001b[1;32mFalse\u001b[0m\u001b[1;33m,\u001b[0m \u001b[0merrors\u001b[0m\u001b[1;33m:\u001b[0m \u001b[0mstr\u001b[0m \u001b[1;33m=\u001b[0m \u001b[1;34m\"raise\"\u001b[0m\u001b[1;33m)\u001b[0m\u001b[1;33m:\u001b[0m\u001b[1;33m\u001b[0m\u001b[1;33m\u001b[0m\u001b[0m\n\u001b[1;32m--> 582\u001b[1;33m         \u001b[1;32mreturn\u001b[0m \u001b[0mself\u001b[0m\u001b[1;33m.\u001b[0m\u001b[0mapply\u001b[0m\u001b[1;33m(\u001b[0m\u001b[1;34m\"astype\"\u001b[0m\u001b[1;33m,\u001b[0m \u001b[0mdtype\u001b[0m\u001b[1;33m=\u001b[0m\u001b[0mdtype\u001b[0m\u001b[1;33m,\u001b[0m \u001b[0mcopy\u001b[0m\u001b[1;33m=\u001b[0m\u001b[0mcopy\u001b[0m\u001b[1;33m,\u001b[0m \u001b[0merrors\u001b[0m\u001b[1;33m=\u001b[0m\u001b[0merrors\u001b[0m\u001b[1;33m)\u001b[0m\u001b[1;33m\u001b[0m\u001b[1;33m\u001b[0m\u001b[0m\n\u001b[0m\u001b[0;32m    583\u001b[0m \u001b[1;33m\u001b[0m\u001b[0m\n\u001b[0;32m    584\u001b[0m     \u001b[1;32mdef\u001b[0m \u001b[0mconvert\u001b[0m\u001b[1;33m(\u001b[0m\u001b[0mself\u001b[0m\u001b[1;33m,\u001b[0m \u001b[1;33m**\u001b[0m\u001b[0mkwargs\u001b[0m\u001b[1;33m)\u001b[0m\u001b[1;33m:\u001b[0m\u001b[1;33m\u001b[0m\u001b[1;33m\u001b[0m\u001b[0m\n",
      "\u001b[1;32mc:\\users\\yacin\\anaconda3\\lib\\site-packages\\pandas\\core\\internals\\managers.py\u001b[0m in \u001b[0;36mapply\u001b[1;34m(self, f, filter, **kwargs)\u001b[0m\n\u001b[0;32m    440\u001b[0m                 \u001b[0mapplied\u001b[0m \u001b[1;33m=\u001b[0m \u001b[0mb\u001b[0m\u001b[1;33m.\u001b[0m\u001b[0mapply\u001b[0m\u001b[1;33m(\u001b[0m\u001b[0mf\u001b[0m\u001b[1;33m,\u001b[0m \u001b[1;33m**\u001b[0m\u001b[0mkwargs\u001b[0m\u001b[1;33m)\u001b[0m\u001b[1;33m\u001b[0m\u001b[1;33m\u001b[0m\u001b[0m\n\u001b[0;32m    441\u001b[0m             \u001b[1;32melse\u001b[0m\u001b[1;33m:\u001b[0m\u001b[1;33m\u001b[0m\u001b[1;33m\u001b[0m\u001b[0m\n\u001b[1;32m--> 442\u001b[1;33m                 \u001b[0mapplied\u001b[0m \u001b[1;33m=\u001b[0m \u001b[0mgetattr\u001b[0m\u001b[1;33m(\u001b[0m\u001b[0mb\u001b[0m\u001b[1;33m,\u001b[0m \u001b[0mf\u001b[0m\u001b[1;33m)\u001b[0m\u001b[1;33m(\u001b[0m\u001b[1;33m**\u001b[0m\u001b[0mkwargs\u001b[0m\u001b[1;33m)\u001b[0m\u001b[1;33m\u001b[0m\u001b[1;33m\u001b[0m\u001b[0m\n\u001b[0m\u001b[0;32m    443\u001b[0m             \u001b[0mresult_blocks\u001b[0m \u001b[1;33m=\u001b[0m \u001b[0m_extend_blocks\u001b[0m\u001b[1;33m(\u001b[0m\u001b[0mapplied\u001b[0m\u001b[1;33m,\u001b[0m \u001b[0mresult_blocks\u001b[0m\u001b[1;33m)\u001b[0m\u001b[1;33m\u001b[0m\u001b[1;33m\u001b[0m\u001b[0m\n\u001b[0;32m    444\u001b[0m \u001b[1;33m\u001b[0m\u001b[0m\n",
      "\u001b[1;32mc:\\users\\yacin\\anaconda3\\lib\\site-packages\\pandas\\core\\internals\\blocks.py\u001b[0m in \u001b[0;36mastype\u001b[1;34m(self, dtype, copy, errors)\u001b[0m\n\u001b[0;32m    623\u001b[0m             \u001b[0mvals1d\u001b[0m \u001b[1;33m=\u001b[0m \u001b[0mvalues\u001b[0m\u001b[1;33m.\u001b[0m\u001b[0mravel\u001b[0m\u001b[1;33m(\u001b[0m\u001b[1;33m)\u001b[0m\u001b[1;33m\u001b[0m\u001b[1;33m\u001b[0m\u001b[0m\n\u001b[0;32m    624\u001b[0m             \u001b[1;32mtry\u001b[0m\u001b[1;33m:\u001b[0m\u001b[1;33m\u001b[0m\u001b[1;33m\u001b[0m\u001b[0m\n\u001b[1;32m--> 625\u001b[1;33m                 \u001b[0mvalues\u001b[0m \u001b[1;33m=\u001b[0m \u001b[0mastype_nansafe\u001b[0m\u001b[1;33m(\u001b[0m\u001b[0mvals1d\u001b[0m\u001b[1;33m,\u001b[0m \u001b[0mdtype\u001b[0m\u001b[1;33m,\u001b[0m \u001b[0mcopy\u001b[0m\u001b[1;33m=\u001b[0m\u001b[1;32mTrue\u001b[0m\u001b[1;33m)\u001b[0m\u001b[1;33m\u001b[0m\u001b[1;33m\u001b[0m\u001b[0m\n\u001b[0m\u001b[0;32m    626\u001b[0m             \u001b[1;32mexcept\u001b[0m \u001b[1;33m(\u001b[0m\u001b[0mValueError\u001b[0m\u001b[1;33m,\u001b[0m \u001b[0mTypeError\u001b[0m\u001b[1;33m)\u001b[0m\u001b[1;33m:\u001b[0m\u001b[1;33m\u001b[0m\u001b[1;33m\u001b[0m\u001b[0m\n\u001b[0;32m    627\u001b[0m                 \u001b[1;31m# e.g. astype_nansafe can fail on object-dtype of strings\u001b[0m\u001b[1;33m\u001b[0m\u001b[1;33m\u001b[0m\u001b[1;33m\u001b[0m\u001b[0m\n",
      "\u001b[1;32mc:\\users\\yacin\\anaconda3\\lib\\site-packages\\pandas\\core\\dtypes\\cast.py\u001b[0m in \u001b[0;36mastype_nansafe\u001b[1;34m(arr, dtype, copy, skipna)\u001b[0m\n\u001b[0;32m    872\u001b[0m         \u001b[1;31m# work around NumPy brokenness, #1987\u001b[0m\u001b[1;33m\u001b[0m\u001b[1;33m\u001b[0m\u001b[1;33m\u001b[0m\u001b[0m\n\u001b[0;32m    873\u001b[0m         \u001b[1;32mif\u001b[0m \u001b[0mnp\u001b[0m\u001b[1;33m.\u001b[0m\u001b[0missubdtype\u001b[0m\u001b[1;33m(\u001b[0m\u001b[0mdtype\u001b[0m\u001b[1;33m.\u001b[0m\u001b[0mtype\u001b[0m\u001b[1;33m,\u001b[0m \u001b[0mnp\u001b[0m\u001b[1;33m.\u001b[0m\u001b[0minteger\u001b[0m\u001b[1;33m)\u001b[0m\u001b[1;33m:\u001b[0m\u001b[1;33m\u001b[0m\u001b[1;33m\u001b[0m\u001b[0m\n\u001b[1;32m--> 874\u001b[1;33m             \u001b[1;32mreturn\u001b[0m \u001b[0mlib\u001b[0m\u001b[1;33m.\u001b[0m\u001b[0mastype_intsafe\u001b[0m\u001b[1;33m(\u001b[0m\u001b[0marr\u001b[0m\u001b[1;33m.\u001b[0m\u001b[0mravel\u001b[0m\u001b[1;33m(\u001b[0m\u001b[1;33m)\u001b[0m\u001b[1;33m,\u001b[0m \u001b[0mdtype\u001b[0m\u001b[1;33m)\u001b[0m\u001b[1;33m.\u001b[0m\u001b[0mreshape\u001b[0m\u001b[1;33m(\u001b[0m\u001b[0marr\u001b[0m\u001b[1;33m.\u001b[0m\u001b[0mshape\u001b[0m\u001b[1;33m)\u001b[0m\u001b[1;33m\u001b[0m\u001b[1;33m\u001b[0m\u001b[0m\n\u001b[0m\u001b[0;32m    875\u001b[0m \u001b[1;33m\u001b[0m\u001b[0m\n\u001b[0;32m    876\u001b[0m         \u001b[1;31m# if we have a datetime/timedelta array of objects\u001b[0m\u001b[1;33m\u001b[0m\u001b[1;33m\u001b[0m\u001b[1;33m\u001b[0m\u001b[0m\n",
      "\u001b[1;32mpandas\\_libs\\lib.pyx\u001b[0m in \u001b[0;36mpandas._libs.lib.astype_intsafe\u001b[1;34m()\u001b[0m\n",
      "\u001b[1;31mTypeError\u001b[0m: int() argument must be a string, a bytes-like object or a number, not 'NoneType'"
     ]
    }
   ],
   "source": [
    "black[black[\"white elo\"].astype(int)>1700].groupby([\"opening\", \"resultat\"]).agg(\"count\")[\"nb\"]"
   ]
  },
  {
   "cell_type": "code",
   "execution_count": 53,
   "metadata": {
    "ExecuteTime": {
     "end_time": "2020-10-04T20:20:22.969264Z",
     "start_time": "2020-10-04T20:20:22.804039Z"
    }
   },
   "outputs": [
    {
     "name": "stdout",
     "output_type": "stream",
     "text": [
      "260\n"
     ]
    },
    {
     "data": {
      "image/png": "[encoded data removed]",
      "text/plain": [
       "<Figure size 432x288 with 1 Axes>"
      ]
     },
     "metadata": {
      "needs_background": "light"
     },
     "output_type": "display_data"
    }
   ],
   "source": [
    "stats.compute_scored_opening(black, \"CEV30\", \"e4 e5\", \"black\")"
   ]
  },
  {
   "cell_type": "code",
   "execution_count": 54,
   "metadata": {
    "ExecuteTime": {
     "end_time": "2020-10-04T20:20:37.732682Z",
     "start_time": "2020-10-04T20:20:37.712780Z"
    }
   },
   "outputs": [
    {
     "data": {
      "text/plain": [
       "64"
      ]
     },
     "execution_count": 54,
     "metadata": {},
     "output_type": "execute_result"
    }
   ],
   "source": [
    "spanish = black[black[\"variation\"] == \"Spanish\"] ; len(spanish)"
   ]
  },
  {
   "cell_type": "code",
   "execution_count": 55,
   "metadata": {
    "ExecuteTime": {
     "end_time": "2020-10-04T20:21:49.298036Z",
     "start_time": "2020-10-04T20:21:49.277056Z"
    }
   },
   "outputs": [
    {
     "data": {
      "text/plain": [
       "b7b5    40\n",
       "f7f6     6\n",
       "c8g4     5\n",
       "f8d6     5\n",
       "f8e7     2\n",
       "d8d4     2\n",
       "d7c6     2\n",
       "e5d4     1\n",
       "g8f6     1\n",
       "Name: fifth move, dtype: int64"
      ]
     },
     "execution_count": 55,
     "metadata": {},
     "output_type": "execute_result"
    }
   ],
   "source": [
    "spanish[\"fifth move\"] = spanish[\"moves\"].apply(lambda x: fonctions.find_move_n(x[1:], 5)) ; spanish[\"fifth move\"].value_counts()"
   ]
  },
  {
   "cell_type": "code",
   "execution_count": 56,
   "metadata": {
    "ExecuteTime": {
     "end_time": "2020-10-04T20:24:39.989885Z",
     "start_time": "2020-10-04T20:24:39.967945Z"
    }
   },
   "outputs": [
    {
     "data": {
      "text/plain": [
       "fifth move  resultat\n",
       "b7b5        0-1         14\n",
       "            1-0         24\n",
       "            1/2-1/2      2\n",
       "c8g4        0-1          2\n",
       "            1-0          2\n",
       "            1/2-1/2      1\n",
       "d7c6        0-1          2\n",
       "d8d4        0-1          2\n",
       "e5d4        0-1          1\n",
       "f7f6        0-1          2\n",
       "            1-0          2\n",
       "            1/2-1/2      2\n",
       "f8d6        0-1          1\n",
       "            1-0          3\n",
       "            1/2-1/2      1\n",
       "f8e7        1-0          2\n",
       "g8f6        1-0          1\n",
       "Name: nb, dtype: int64"
      ]
     },
     "execution_count": 56,
     "metadata": {},
     "output_type": "execute_result"
    }
   ],
   "source": [
    "spanish.groupby([\"fifth move\", \"resultat\"]).agg(\"count\")[\"nb\"]"
   ]
  },
  {
   "cell_type": "code",
   "execution_count": 57,
   "metadata": {
    "ExecuteTime": {
     "end_time": "2020-10-04T20:25:24.839884Z",
     "start_time": "2020-10-04T20:25:24.805938Z"
    }
   },
   "outputs": [
    {
     "data": {
      "text/html": [
       "<div>\n",
       "<style scoped>\n",
       "    .dataframe tbody tr th:only-of-type {\n",
       "        vertical-align: middle;\n",
       "    }\n",
       "\n",
       "    .dataframe tbody tr th {\n",
       "        vertical-align: top;\n",
       "    }\n",
       "\n",
       "    .dataframe thead th {\n",
       "        text-align: right;\n",
       "    }\n",
       "</style>\n",
       "<table border=\"1\" class=\"dataframe\">\n",
       "  <thead>\n",
       "    <tr style=\"text-align: right;\">\n",
       "      <th></th>\n",
       "      <th>date</th>\n",
       "      <th>event</th>\n",
       "      <th>white</th>\n",
       "      <th>white elo</th>\n",
       "      <th>black</th>\n",
       "      <th>black elo</th>\n",
       "      <th>resultat</th>\n",
       "      <th>ECO</th>\n",
       "      <th>perf white</th>\n",
       "      <th>perf black</th>\n",
       "      <th>moves</th>\n",
       "      <th>scope</th>\n",
       "      <th>opening</th>\n",
       "      <th>variation</th>\n",
       "      <th>year</th>\n",
       "      <th>nb</th>\n",
       "      <th>fifth move</th>\n",
       "    </tr>\n",
       "  </thead>\n",
       "  <tbody>\n",
       "    <tr>\n",
       "      <th>698</th>\n",
       "      <td>2017-11-14</td>\n",
       "      <td>Rated Blitz game</td>\n",
       "      <td>palofumeque</td>\n",
       "      <td>1940</td>\n",
       "      <td>CEV30</td>\n",
       "      <td>1970</td>\n",
       "      <td>1/2-1/2</td>\n",
       "      <td>C68</td>\n",
       "      <td>1.0</td>\n",
       "      <td>-1.0</td>\n",
       "      <td>e2e4 e7e5 g1f3 b8c6 f1b5 a7a6 b5c6 d7c6 d2d3 ...</td>\n",
       "      <td>1</td>\n",
       "      <td>e4 e5</td>\n",
       "      <td>Spanish</td>\n",
       "      <td>2017</td>\n",
       "      <td>1</td>\n",
       "      <td>f8d6</td>\n",
       "    </tr>\n",
       "    <tr>\n",
       "      <th>704</th>\n",
       "      <td>2017-11-13</td>\n",
       "      <td>Daily Blitz Arena</td>\n",
       "      <td>atigla</td>\n",
       "      <td>1932</td>\n",
       "      <td>CEV30</td>\n",
       "      <td>1940</td>\n",
       "      <td>0-1</td>\n",
       "      <td>C69</td>\n",
       "      <td>-11.0</td>\n",
       "      <td>11.0</td>\n",
       "      <td>e2e4 e7e5 g1f3 b8c6 f1b5 a7a6 b5c6 d7c6 e1g1 ...</td>\n",
       "      <td>1</td>\n",
       "      <td>e4 e5</td>\n",
       "      <td>Spanish</td>\n",
       "      <td>2017</td>\n",
       "      <td>1</td>\n",
       "      <td>f8d6</td>\n",
       "    </tr>\n",
       "    <tr>\n",
       "      <th>764</th>\n",
       "      <td>2017-03-06</td>\n",
       "      <td>Casual Blitz game</td>\n",
       "      <td>braunmar</td>\n",
       "      <td>2216</td>\n",
       "      <td>CEV30</td>\n",
       "      <td>1910</td>\n",
       "      <td>1-0</td>\n",
       "      <td>C69</td>\n",
       "      <td>nan</td>\n",
       "      <td>nan</td>\n",
       "      <td>e2e4 e7e5 g1f3 b8c6 f1b5 a7a6 b5c6 d7c6 e1g1 ...</td>\n",
       "      <td>1</td>\n",
       "      <td>e4 e5</td>\n",
       "      <td>Spanish</td>\n",
       "      <td>2017</td>\n",
       "      <td>1</td>\n",
       "      <td>f8d6</td>\n",
       "    </tr>\n",
       "    <tr>\n",
       "      <th>1046</th>\n",
       "      <td>2015-10-12</td>\n",
       "      <td>Casual Blitz game</td>\n",
       "      <td>lichess AI level 8</td>\n",
       "      <td>None</td>\n",
       "      <td>CEV30</td>\n",
       "      <td>1724</td>\n",
       "      <td>1-0</td>\n",
       "      <td>C69</td>\n",
       "      <td>nan</td>\n",
       "      <td>nan</td>\n",
       "      <td>e2e4 e7e5 g1f3 b8c6 f1b5 a7a6 b5c6 d7c6 e1g1 ...</td>\n",
       "      <td>1</td>\n",
       "      <td>e4 e5</td>\n",
       "      <td>Spanish</td>\n",
       "      <td>2015</td>\n",
       "      <td>1</td>\n",
       "      <td>f8d6</td>\n",
       "    </tr>\n",
       "    <tr>\n",
       "      <th>1073</th>\n",
       "      <td>2015-08-17</td>\n",
       "      <td>Casual Blitz game</td>\n",
       "      <td>lichess AI level 8</td>\n",
       "      <td>None</td>\n",
       "      <td>CEV30</td>\n",
       "      <td>1732</td>\n",
       "      <td>1-0</td>\n",
       "      <td>C69</td>\n",
       "      <td>nan</td>\n",
       "      <td>nan</td>\n",
       "      <td>e2e4 e7e5 g1f3 b8c6 f1b5 a7a6 b5c6 d7c6 e1g1 ...</td>\n",
       "      <td>1</td>\n",
       "      <td>e4 e5</td>\n",
       "      <td>Spanish</td>\n",
       "      <td>2015</td>\n",
       "      <td>1</td>\n",
       "      <td>f8d6</td>\n",
       "    </tr>\n",
       "  </tbody>\n",
       "</table>\n",
       "</div>"
      ],
      "text/plain": [
       "           date              event               white white elo  black  \\\n",
       "698  2017-11-14   Rated Blitz game         palofumeque      1940  CEV30   \n",
       "704  2017-11-13  Daily Blitz Arena              atigla      1932  CEV30   \n",
       "764  2017-03-06  Casual Blitz game            braunmar      2216  CEV30   \n",
       "1046 2015-10-12  Casual Blitz game  lichess AI level 8      None  CEV30   \n",
       "1073 2015-08-17  Casual Blitz game  lichess AI level 8      None  CEV30   \n",
       "\n",
       "     black elo resultat  ECO perf white perf black  \\\n",
       "698       1970  1/2-1/2  C68        1.0       -1.0   \n",
       "704       1940      0-1  C69      -11.0       11.0   \n",
       "764       1910      1-0  C69        nan        nan   \n",
       "1046      1724      1-0  C69        nan        nan   \n",
       "1073      1732      1-0  C69        nan        nan   \n",
       "\n",
       "                                                  moves  scope opening  \\\n",
       "698    e2e4 e7e5 g1f3 b8c6 f1b5 a7a6 b5c6 d7c6 d2d3 ...      1   e4 e5   \n",
       "704    e2e4 e7e5 g1f3 b8c6 f1b5 a7a6 b5c6 d7c6 e1g1 ...      1   e4 e5   \n",
       "764    e2e4 e7e5 g1f3 b8c6 f1b5 a7a6 b5c6 d7c6 e1g1 ...      1   e4 e5   \n",
       "1046   e2e4 e7e5 g1f3 b8c6 f1b5 a7a6 b5c6 d7c6 e1g1 ...      1   e4 e5   \n",
       "1073   e2e4 e7e5 g1f3 b8c6 f1b5 a7a6 b5c6 d7c6 e1g1 ...      1   e4 e5   \n",
       "\n",
       "     variation  year  nb fifth move  \n",
       "698    Spanish  2017   1       f8d6  \n",
       "704    Spanish  2017   1       f8d6  \n",
       "764    Spanish  2017   1       f8d6  \n",
       "1046   Spanish  2015   1       f8d6  \n",
       "1073   Spanish  2015   1       f8d6  "
      ]
     },
     "execution_count": 57,
     "metadata": {},
     "output_type": "execute_result"
    }
   ],
   "source": [
    "spanish[spanish[\"fifth move\"]==\"f8d6\"]"
   ]
  },
  {
   "cell_type": "markdown",
   "metadata": {},
   "source": [
    "<h4> French with d3 </h4>"
   ]
  },
  {
   "cell_type": "code",
   "execution_count": 8,
   "metadata": {
    "ExecuteTime": {
     "end_time": "2020-10-04T14:12:04.594730Z",
     "start_time": "2020-10-04T14:12:04.571688Z"
    }
   },
   "outputs": [
    {
     "data": {
      "text/plain": [
       "101"
      ]
     },
     "execution_count": 8,
     "metadata": {},
     "output_type": "execute_result"
    }
   ],
   "source": [
    "french_d3_bool = french[\"moves\"].apply(lambda x: x.startswith(\" e2e4 e7e6 d2d3\"))\n",
    "french_d3 = french[french_d3_bool] ; len(french_d3)"
   ]
  },
  {
   "cell_type": "code",
   "execution_count": 9,
   "metadata": {
    "ExecuteTime": {
     "end_time": "2020-10-04T14:12:04.625107Z",
     "start_time": "2020-10-04T14:12:04.598240Z"
    }
   },
   "outputs": [
    {
     "data": {
      "text/plain": [
       "0-1        50\n",
       "1-0        48\n",
       "1/2-1/2     3\n",
       "Name: resultat, dtype: int64"
      ]
     },
     "execution_count": 9,
     "metadata": {},
     "output_type": "execute_result"
    }
   ],
   "source": [
    "french_d3[\"resultat\"].value_counts()"
   ]
  },
  {
   "cell_type": "code",
   "execution_count": 10,
   "metadata": {
    "ExecuteTime": {
     "end_time": "2020-10-04T14:12:04.654308Z",
     "start_time": "2020-10-04T14:12:04.627945Z"
    }
   },
   "outputs": [
    {
     "data": {
      "text/plain": [
       "year  resultat\n",
       "2018  0-1          5\n",
       "      1-0          4\n",
       "2019  0-1         13\n",
       "      1-0         14\n",
       "2020  0-1         32\n",
       "      1-0         30\n",
       "      1/2-1/2      3\n",
       "Name: nb, dtype: int64"
      ]
     },
     "execution_count": 10,
     "metadata": {},
     "output_type": "execute_result"
    }
   ],
   "source": [
    "french_d3.groupby([\"year\", \"resultat\"]).agg(\"count\")[\"nb\"]"
   ]
  },
  {
   "cell_type": "markdown",
   "metadata": {},
   "source": [
    "<h4> French exchange </h4>"
   ]
  },
  {
   "cell_type": "code",
   "execution_count": 8,
   "metadata": {
    "ExecuteTime": {
     "end_time": "2020-10-04T18:56:47.392848Z",
     "start_time": "2020-10-04T18:56:47.381834Z"
    }
   },
   "outputs": [
    {
     "data": {
      "text/plain": [
       "148"
      ]
     },
     "execution_count": 8,
     "metadata": {},
     "output_type": "execute_result"
    }
   ],
   "source": [
    "french_exchange = french[french[\"ECO\"]==\"C01\"] ; len(french_exchange)"
   ]
  },
  {
   "cell_type": "code",
   "execution_count": 9,
   "metadata": {
    "ExecuteTime": {
     "end_time": "2020-10-04T18:56:49.336385Z",
     "start_time": "2020-10-04T18:56:49.299640Z"
    }
   },
   "outputs": [
    {
     "data": {
      "text/html": [
       "<div>\n",
       "<style scoped>\n",
       "    .dataframe tbody tr th:only-of-type {\n",
       "        vertical-align: middle;\n",
       "    }\n",
       "\n",
       "    .dataframe tbody tr th {\n",
       "        vertical-align: top;\n",
       "    }\n",
       "\n",
       "    .dataframe thead th {\n",
       "        text-align: right;\n",
       "    }\n",
       "</style>\n",
       "<table border=\"1\" class=\"dataframe\">\n",
       "  <thead>\n",
       "    <tr style=\"text-align: right;\">\n",
       "      <th></th>\n",
       "      <th>date</th>\n",
       "      <th>white</th>\n",
       "      <th>white elo</th>\n",
       "      <th>black</th>\n",
       "      <th>black elo</th>\n",
       "      <th>resultat</th>\n",
       "      <th>ECO</th>\n",
       "      <th>perf white</th>\n",
       "      <th>perf black</th>\n",
       "      <th>moves</th>\n",
       "      <th>number of moves</th>\n",
       "      <th>opening</th>\n",
       "      <th>variation</th>\n",
       "      <th>year</th>\n",
       "      <th>nb</th>\n",
       "      <th>fourth_moves</th>\n",
       "    </tr>\n",
       "  </thead>\n",
       "  <tbody>\n",
       "    <tr>\n",
       "      <th>57</th>\n",
       "      <td>2020-09-26</td>\n",
       "      <td>sergey1207</td>\n",
       "      <td>2224</td>\n",
       "      <td>yacine63</td>\n",
       "      <td>2200</td>\n",
       "      <td>0-1</td>\n",
       "      <td>C01</td>\n",
       "      <td>-6.0</td>\n",
       "      <td>6.0</td>\n",
       "      <td>d2d4 e7e6 e2e4 d7d5 e4d5 e6d5 f1d3 f8d6 g1f3 ...</td>\n",
       "      <td>59</td>\n",
       "      <td>French</td>\n",
       "      <td>Exchange variation</td>\n",
       "      <td>2020</td>\n",
       "      <td>1</td>\n",
       "      <td>f1d3</td>\n",
       "    </tr>\n",
       "    <tr>\n",
       "      <th>160</th>\n",
       "      <td>2020-09-13</td>\n",
       "      <td>JuanCarlosPresente</td>\n",
       "      <td>2193</td>\n",
       "      <td>yacine63</td>\n",
       "      <td>2207</td>\n",
       "      <td>1-0</td>\n",
       "      <td>C01</td>\n",
       "      <td>7.0</td>\n",
       "      <td>-6.0</td>\n",
       "      <td>e2e4 e7e6 d2d4 d7d5 e4d5 e6d5 g1f3 b8c6 f1d3 ...</td>\n",
       "      <td>88</td>\n",
       "      <td>French</td>\n",
       "      <td>Exchange variation</td>\n",
       "      <td>2020</td>\n",
       "      <td>1</td>\n",
       "      <td>g1f3</td>\n",
       "    </tr>\n",
       "  </tbody>\n",
       "</table>\n",
       "</div>"
      ],
      "text/plain": [
       "          date               white white elo     black black elo resultat  \\\n",
       "57  2020-09-26          sergey1207      2224  yacine63      2200      0-1   \n",
       "160 2020-09-13  JuanCarlosPresente      2193  yacine63      2207      1-0   \n",
       "\n",
       "     ECO perf white perf black  \\\n",
       "57   C01       -6.0        6.0   \n",
       "160  C01        7.0       -6.0   \n",
       "\n",
       "                                                 moves  number of moves  \\\n",
       "57    d2d4 e7e6 e2e4 d7d5 e4d5 e6d5 f1d3 f8d6 g1f3 ...               59   \n",
       "160   e2e4 e7e6 d2d4 d7d5 e4d5 e6d5 g1f3 b8c6 f1d3 ...               88   \n",
       "\n",
       "    opening           variation  year  nb fourth_moves  \n",
       "57   French  Exchange variation  2020   1         f1d3  \n",
       "160  French  Exchange variation  2020   1         g1f3  "
      ]
     },
     "execution_count": 9,
     "metadata": {},
     "output_type": "execute_result"
    }
   ],
   "source": [
    "french_exchange[\"fourth_moves\"] = french_exchange[\"moves\"].apply(lambda x: fonctions.find_move_n(x, 4)) ; french_exchange.head(2)"
   ]
  },
  {
   "cell_type": "code",
   "execution_count": 10,
   "metadata": {
    "ExecuteTime": {
     "end_time": "2020-10-04T18:56:54.847631Z",
     "start_time": "2020-10-04T18:56:54.818397Z"
    }
   },
   "outputs": [
    {
     "data": {
      "text/plain": [
       "fourth_moves  resultat\n",
       "b1c3          0-1          4\n",
       "              1-0          3\n",
       "c1e3          0-1          3\n",
       "c1f4          0-1          3\n",
       "              1-0          3\n",
       "c2c3          0-1          2\n",
       "              1-0          5\n",
       "c2c4          0-1          9\n",
       "              1-0         13\n",
       "              1/2-1/2      1\n",
       "d2d4          0-1          1\n",
       "f1b5          0-1          1\n",
       "f1d3          0-1         25\n",
       "              1-0         19\n",
       "              1/2-1/2      5\n",
       "f2f4          0-1          1\n",
       "g1f3          0-1         20\n",
       "              1-0         24\n",
       "              1/2-1/2      4\n",
       "h2h3          0-1          1\n",
       "Name: nb, dtype: int64"
      ]
     },
     "execution_count": 10,
     "metadata": {},
     "output_type": "execute_result"
    }
   ],
   "source": [
    "french_exchange.groupby([\"fourth_moves\", \"resultat\"]).agg(\"count\")[\"nb\"]"
   ]
  },
  {
   "cell_type": "markdown",
   "metadata": {},
   "source": [
    "<h4>French advance </h4>"
   ]
  },
  {
   "cell_type": "code",
   "execution_count": 11,
   "metadata": {
    "ExecuteTime": {
     "end_time": "2020-10-04T18:57:30.296850Z",
     "start_time": "2020-10-04T18:57:30.283293Z"
    }
   },
   "outputs": [
    {
     "data": {
      "text/plain": [
       "192"
      ]
     },
     "execution_count": 11,
     "metadata": {},
     "output_type": "execute_result"
    }
   ],
   "source": [
    "french_advance = french[french[\"ECO\"]==\"C02\"] ; len(french_advance)"
   ]
  },
  {
   "cell_type": "code",
   "execution_count": 12,
   "metadata": {
    "ExecuteTime": {
     "end_time": "2020-10-04T18:57:32.641332Z",
     "start_time": "2020-10-04T18:57:32.624561Z"
    }
   },
   "outputs": [
    {
     "data": {
      "text/plain": [
       "0-1        94\n",
       "1-0        88\n",
       "1/2-1/2    10\n",
       "Name: resultat, dtype: int64"
      ]
     },
     "execution_count": 12,
     "metadata": {},
     "output_type": "execute_result"
    }
   ],
   "source": [
    "french_advance[\"resultat\"].value_counts()"
   ]
  },
  {
   "cell_type": "code",
   "execution_count": 13,
   "metadata": {
    "ExecuteTime": {
     "end_time": "2020-10-04T18:57:44.040465Z",
     "start_time": "2020-10-04T18:57:44.018773Z"
    }
   },
   "outputs": [
    {
     "data": {
      "text/plain": [
       "a2a3    61\n",
       "f1d3    49\n",
       "g1f3    22\n",
       "f1e2    20\n",
       "e1g1    10\n",
       "d4c5     9\n",
       "f1b5     3\n",
       "b1d2     2\n",
       "d4c6     2\n",
       "g2g3     2\n",
       "b3b6     2\n",
       "d1b3     2\n",
       "f3d4     2\n",
       "b2b3     1\n",
       "d1c2     1\n",
       "g4g7     1\n",
       "g1e2     1\n",
       "a2a4     1\n",
       "b1c3     1\n",
       "Name: sixth_moves, dtype: int64"
      ]
     },
     "execution_count": 13,
     "metadata": {},
     "output_type": "execute_result"
    }
   ],
   "source": [
    "french_advance[\"sixth_moves\"] = french_advance[\"moves\"].apply(lambda x: fonctions.find_move_n(x, 6)) ; french_advance[\"sixth_moves\"].value_counts()"
   ]
  },
  {
   "cell_type": "code",
   "execution_count": 15,
   "metadata": {
    "ExecuteTime": {
     "end_time": "2020-10-04T18:58:04.444753Z",
     "start_time": "2020-10-04T18:58:04.410676Z"
    }
   },
   "outputs": [
    {
     "data": {
      "text/plain": [
       "sixth_moves  resultat\n",
       "a2a3         0-1         22\n",
       "             1-0         36\n",
       "             1/2-1/2      3\n",
       "f1d3         0-1         24\n",
       "             1-0         25\n",
       "f1e2         0-1         13\n",
       "             1-0          5\n",
       "             1/2-1/2      2\n",
       "Name: nb, dtype: int64"
      ]
     },
     "execution_count": 15,
     "metadata": {},
     "output_type": "execute_result"
    }
   ],
   "source": [
    "filtre = (french_advance[\"sixth_moves\"] == \"a2a3\") | (french_advance[\"sixth_moves\"] == \"f1d3\") | (french_advance[\"sixth_moves\"] == \"f1e2\")\n",
    "french_advance[filtre].groupby([\"sixth_moves\", \"resultat\"]).agg(\"count\")[\"nb\"]"
   ]
  },
  {
   "cell_type": "markdown",
   "metadata": {},
   "source": [
    "<h4>Tarrasch </h4>"
   ]
  },
  {
   "cell_type": "code",
   "execution_count": 17,
   "metadata": {
    "ExecuteTime": {
     "end_time": "2020-10-04T19:01:22.466255Z",
     "start_time": "2020-10-04T19:01:22.442668Z"
    }
   },
   "outputs": [
    {
     "data": {
      "text/plain": [
       "300"
      ]
     },
     "execution_count": 17,
     "metadata": {},
     "output_type": "execute_result"
    }
   ],
   "source": [
    "tarrasch_french = french[french[\"variation\"]==\"Tarrasch Variation\"] ; len(tarrasch_french)"
   ]
  },
  {
   "cell_type": "code",
   "execution_count": 18,
   "metadata": {
    "ExecuteTime": {
     "end_time": "2020-10-04T19:01:26.627343Z",
     "start_time": "2020-10-04T19:01:26.603181Z"
    }
   },
   "outputs": [
    {
     "data": {
      "text/plain": [
       "0-1        152\n",
       "1-0        139\n",
       "1/2-1/2      9\n",
       "Name: resultat, dtype: int64"
      ]
     },
     "execution_count": 18,
     "metadata": {},
     "output_type": "execute_result"
    }
   ],
   "source": [
    "tarrasch_french[\"resultat\"].value_counts()"
   ]
  },
  {
   "cell_type": "code",
   "execution_count": 19,
   "metadata": {
    "ExecuteTime": {
     "end_time": "2020-10-04T19:01:35.326650Z",
     "start_time": "2020-10-04T19:01:35.302636Z"
    }
   },
   "outputs": [
    {
     "data": {
      "text/plain": [
       "45"
      ]
     },
     "execution_count": 19,
     "metadata": {},
     "output_type": "execute_result"
    }
   ],
   "source": [
    "f4_bool = tarrasch_french[\"moves\"].apply(lambda x: True if \"f2f4\" in x.split(\" \")[:13] else False)\n",
    "tarrasch_f4 = tarrasch_french[f4_bool] ; len(tarrasch_f4)"
   ]
  },
  {
   "cell_type": "code",
   "execution_count": 20,
   "metadata": {
    "ExecuteTime": {
     "end_time": "2020-10-04T19:01:38.733339Z",
     "start_time": "2020-10-04T19:01:38.710365Z"
    }
   },
   "outputs": [
    {
     "data": {
      "text/plain": [
       "resultat\n",
       "0-1    30\n",
       "1-0    15\n",
       "Name: nb, dtype: int64"
      ]
     },
     "execution_count": 20,
     "metadata": {},
     "output_type": "execute_result"
    }
   ],
   "source": [
    "tarrasch_f4.groupby([\"resultat\"]).agg(\"count\")[\"nb\"]"
   ]
  },
  {
   "cell_type": "code",
   "execution_count": 21,
   "metadata": {
    "ExecuteTime": {
     "end_time": "2020-10-04T19:01:50.868529Z",
     "start_time": "2020-10-04T19:01:50.842409Z"
    }
   },
   "outputs": [
    {
     "data": {
      "text/plain": [
       "207"
      ]
     },
     "execution_count": 21,
     "metadata": {},
     "output_type": "execute_result"
    }
   ],
   "source": [
    "Bd3_bool = tarrasch_french[\"moves\"].apply(lambda x: True if \"f1d3\" in x.split(\" \")[:13] else False)\n",
    "tarrasch_Bd3 = tarrasch_french[Bd3_bool] ; len(tarrasch_Bd3)"
   ]
  },
  {
   "cell_type": "code",
   "execution_count": 22,
   "metadata": {
    "ExecuteTime": {
     "end_time": "2020-10-04T19:01:53.615586Z",
     "start_time": "2020-10-04T19:01:53.596134Z"
    }
   },
   "outputs": [
    {
     "data": {
      "text/plain": [
       "0-1        100\n",
       "1-0        100\n",
       "1/2-1/2      7\n",
       "Name: resultat, dtype: int64"
      ]
     },
     "execution_count": 22,
     "metadata": {},
     "output_type": "execute_result"
    }
   ],
   "source": [
    "tarrasch_Bd3[\"resultat\"].value_counts()"
   ]
  },
  {
   "cell_type": "code",
   "execution_count": 23,
   "metadata": {
    "ExecuteTime": {
     "end_time": "2020-10-04T19:02:07.254458Z",
     "start_time": "2020-10-04T19:02:07.225198Z"
    }
   },
   "outputs": [
    {
     "data": {
      "text/plain": [
       "0-1        13\n",
       "1-0        13\n",
       "1/2-1/2     1\n",
       "Name: resultat, dtype: int64"
      ]
     },
     "execution_count": 23,
     "metadata": {},
     "output_type": "execute_result"
    }
   ],
   "source": [
    "Nf4_bool = tarrasch_french[\"moves\"].apply(lambda x: True if \"e2f4\" in x.split(\" \")[:20] else False)\n",
    "tarrasch_Nf4 = tarrasch_french[Nf4_bool] ; tarrasch_Nf4[\"resultat\"].value_counts()"
   ]
  },
  {
   "cell_type": "markdown",
   "metadata": {},
   "source": [
    "<h4>Winawer</h4>"
   ]
  },
  {
   "cell_type": "code",
   "execution_count": 24,
   "metadata": {
    "ExecuteTime": {
     "end_time": "2020-10-04T19:02:21.403187Z",
     "start_time": "2020-10-04T19:02:21.377768Z"
    }
   },
   "outputs": [
    {
     "data": {
      "text/plain": [
       "419"
      ]
     },
     "execution_count": 24,
     "metadata": {},
     "output_type": "execute_result"
    }
   ],
   "source": [
    "winawer = french[french[\"variation\"]==\"Winawer\"] ; len(winawer)"
   ]
  },
  {
   "cell_type": "code",
   "execution_count": 25,
   "metadata": {
    "ExecuteTime": {
     "end_time": "2020-10-04T19:02:27.173221Z",
     "start_time": "2020-10-04T19:02:27.155074Z"
    }
   },
   "outputs": [
    {
     "data": {
      "text/plain": [
       "e4e5    261\n",
       "e4d5     45\n",
       "g1e2     44\n",
       "a2a3     26\n",
       "d1g4     15\n",
       "f1d3     13\n",
       "c1d2      9\n",
       "d1d3      4\n",
       "c1e3      1\n",
       "e2e4      1\n",
       "Name: fourth_move, dtype: int64"
      ]
     },
     "execution_count": 25,
     "metadata": {},
     "output_type": "execute_result"
    }
   ],
   "source": [
    "winawer[\"fourth_move\"] = winawer[\"moves\"].apply(lambda x: fonctions.find_move_n(x, 4)) ; winawer[\"fourth_move\"].value_counts()"
   ]
  },
  {
   "cell_type": "code",
   "execution_count": 26,
   "metadata": {
    "ExecuteTime": {
     "end_time": "2020-10-04T19:02:38.881391Z",
     "start_time": "2020-10-04T19:02:38.857167Z"
    }
   },
   "outputs": [
    {
     "data": {
      "text/plain": [
       "fourth_move  resultat\n",
       "a2a3         0-1          12\n",
       "             1-0          12\n",
       "             1/2-1/2       2\n",
       "c1d2         0-1           5\n",
       "             1-0           4\n",
       "c1e3         0-1           1\n",
       "d1d3         0-1           2\n",
       "             1-0           2\n",
       "d1g4         0-1           8\n",
       "             1-0           7\n",
       "e2e4         0-1           1\n",
       "e4d5         0-1          20\n",
       "             1-0          20\n",
       "             1/2-1/2       5\n",
       "e4e5         0-1         133\n",
       "             1-0         114\n",
       "             1/2-1/2      14\n",
       "f1d3         0-1          10\n",
       "             1-0           3\n",
       "g1e2         0-1          18\n",
       "             1-0          23\n",
       "             1/2-1/2       3\n",
       "Name: nb, dtype: int64"
      ]
     },
     "execution_count": 26,
     "metadata": {},
     "output_type": "execute_result"
    }
   ],
   "source": [
    "winawer.groupby([\"fourth_move\", \"resultat\"]).agg(\"count\")[\"nb\"]"
   ]
  },
  {
   "cell_type": "code",
   "execution_count": 27,
   "metadata": {
    "ExecuteTime": {
     "end_time": "2020-10-04T19:03:08.643146Z",
     "start_time": "2020-10-04T19:03:08.620203Z"
    }
   },
   "outputs": [
    {
     "data": {
      "text/plain": [
       "1-0        21\n",
       "0-1        14\n",
       "1/2-1/2     2\n",
       "Name: resultat, dtype: int64"
      ]
     },
     "execution_count": 27,
     "metadata": {},
     "output_type": "execute_result"
    }
   ],
   "source": [
    "bool_Nc6 = winawer[\"moves\"].apply(lambda x: x.startswith( \" e2e4 e7e6 d2d4 d7d5 b1c3 f8b4 g1e2 b8c6\", 0, len(x)))\n",
    "winawer_Ne2_Nc6 = winawer[bool_Nc6] ; winawer_Ne2_Nc6[\"resultat\"].value_counts()"
   ]
  },
  {
   "cell_type": "code",
   "execution_count": 29,
   "metadata": {
    "ExecuteTime": {
     "end_time": "2020-10-04T19:03:56.865301Z",
     "start_time": "2020-10-04T19:03:56.840994Z"
    }
   },
   "outputs": [
    {
     "data": {
      "text/plain": [
       "0-1        21\n",
       "1-0        19\n",
       "1/2-1/2     3\n",
       "Name: resultat, dtype: int64"
      ]
     },
     "execution_count": 29,
     "metadata": {},
     "output_type": "execute_result"
    }
   ],
   "source": [
    "bool_Bd2 = winawer[\"moves\"].apply(lambda x: x.startswith( \" e2e4 e7e6 d2d4 d7d5 b1c3 f8b4 e4e5 c7c5 c1d2\", 0, len(x)))\n",
    "winawer_Bd2 = winawer[bool_Bd2] ; winawer_Bd2[\"resultat\"].value_counts()"
   ]
  },
  {
   "cell_type": "code",
   "execution_count": 30,
   "metadata": {
    "ExecuteTime": {
     "end_time": "2020-10-04T19:04:50.526374Z",
     "start_time": "2020-10-04T19:04:50.501247Z"
    }
   },
   "outputs": [
    {
     "data": {
      "text/plain": [
       "1-0        8\n",
       "0-1        3\n",
       "1/2-1/2    1\n",
       "Name: resultat, dtype: int64"
      ]
     },
     "execution_count": 30,
     "metadata": {},
     "output_type": "execute_result"
    }
   ],
   "source": [
    "bool_Qg4 = winawer[\"moves\"].apply(lambda x: x.startswith( \" e2e4 e7e6 d2d4 d7d5 b1c3 f8b4 e4e5 c7c5 d1g4\", 0, len(x)))\n",
    "winawer_Qg4 = winawer[bool_Qg4] ; winawer_Qg4[\"resultat\"].value_counts()"
   ]
  },
  {
   "cell_type": "code",
   "execution_count": 31,
   "metadata": {
    "ExecuteTime": {
     "end_time": "2020-10-04T19:05:20.314550Z",
     "start_time": "2020-10-04T19:05:20.290029Z"
    }
   },
   "outputs": [
    {
     "data": {
      "text/plain": [
       "261"
      ]
     },
     "execution_count": 31,
     "metadata": {},
     "output_type": "execute_result"
    }
   ],
   "source": [
    "winawer_main_line = winawer[winawer[\"fourth_move\"]==\"e4e5\"] ; len(winawer_main_line)"
   ]
  },
  {
   "cell_type": "code",
   "execution_count": 32,
   "metadata": {
    "ExecuteTime": {
     "end_time": "2020-10-04T19:05:23.801031Z",
     "start_time": "2020-10-04T19:05:23.742830Z"
    }
   },
   "outputs": [
    {
     "data": {
      "text/html": [
       "<div>\n",
       "<style scoped>\n",
       "    .dataframe tbody tr th:only-of-type {\n",
       "        vertical-align: middle;\n",
       "    }\n",
       "\n",
       "    .dataframe tbody tr th {\n",
       "        vertical-align: top;\n",
       "    }\n",
       "\n",
       "    .dataframe thead th {\n",
       "        text-align: right;\n",
       "    }\n",
       "</style>\n",
       "<table border=\"1\" class=\"dataframe\">\n",
       "  <thead>\n",
       "    <tr style=\"text-align: right;\">\n",
       "      <th></th>\n",
       "      <th>date</th>\n",
       "      <th>white</th>\n",
       "      <th>white elo</th>\n",
       "      <th>black</th>\n",
       "      <th>black elo</th>\n",
       "      <th>resultat</th>\n",
       "      <th>ECO</th>\n",
       "      <th>perf white</th>\n",
       "      <th>perf black</th>\n",
       "      <th>moves</th>\n",
       "      <th>number of moves</th>\n",
       "      <th>opening</th>\n",
       "      <th>variation</th>\n",
       "      <th>year</th>\n",
       "      <th>nb</th>\n",
       "      <th>fourth_move</th>\n",
       "      <th>seven_moves</th>\n",
       "    </tr>\n",
       "  </thead>\n",
       "  <tbody>\n",
       "    <tr>\n",
       "      <th>5</th>\n",
       "      <td>2020-10-03</td>\n",
       "      <td>dline</td>\n",
       "      <td>2106</td>\n",
       "      <td>yacine63</td>\n",
       "      <td>2157</td>\n",
       "      <td>0-1</td>\n",
       "      <td>C19</td>\n",
       "      <td>-5.0</td>\n",
       "      <td>5.0</td>\n",
       "      <td>e2e4 e7e6 d2d4 d7d5 b1c3 f8b4 e4e5 c7c5 a2a3 ...</td>\n",
       "      <td>79</td>\n",
       "      <td>French</td>\n",
       "      <td>Winawer</td>\n",
       "      <td>2020</td>\n",
       "      <td>1</td>\n",
       "      <td>e4e5</td>\n",
       "      <td>d1g4</td>\n",
       "    </tr>\n",
       "    <tr>\n",
       "      <th>45</th>\n",
       "      <td>2020-09-27</td>\n",
       "      <td>DJOKOTAMBAK</td>\n",
       "      <td>2189</td>\n",
       "      <td>yacine63</td>\n",
       "      <td>2209</td>\n",
       "      <td>1-0</td>\n",
       "      <td>C19</td>\n",
       "      <td>6.0</td>\n",
       "      <td>-6.0</td>\n",
       "      <td>e2e4 e7e6 d2d4 d7d5 b1c3 f8b4 e4e5 c7c5 a2a3 ...</td>\n",
       "      <td>106</td>\n",
       "      <td>French</td>\n",
       "      <td>Winawer</td>\n",
       "      <td>2020</td>\n",
       "      <td>1</td>\n",
       "      <td>e4e5</td>\n",
       "      <td>f1d3</td>\n",
       "    </tr>\n",
       "  </tbody>\n",
       "</table>\n",
       "</div>"
      ],
      "text/plain": [
       "         date        white white elo     black black elo resultat  ECO  \\\n",
       "5  2020-10-03        dline      2106  yacine63      2157      0-1  C19   \n",
       "45 2020-09-27  DJOKOTAMBAK      2189  yacine63      2209      1-0  C19   \n",
       "\n",
       "   perf white perf black                                              moves  \\\n",
       "5        -5.0        5.0   e2e4 e7e6 d2d4 d7d5 b1c3 f8b4 e4e5 c7c5 a2a3 ...   \n",
       "45        6.0       -6.0   e2e4 e7e6 d2d4 d7d5 b1c3 f8b4 e4e5 c7c5 a2a3 ...   \n",
       "\n",
       "    number of moves opening variation  year  nb fourth_move seven_moves  \n",
       "5                79  French   Winawer  2020   1        e4e5        d1g4  \n",
       "45              106  French   Winawer  2020   1        e4e5        f1d3  "
      ]
     },
     "execution_count": 32,
     "metadata": {},
     "output_type": "execute_result"
    }
   ],
   "source": [
    "winawer_main_line[\"seven_moves\"] = winawer_main_line[\"moves\"].apply(lambda x: fonctions.find_move_n(x, 7)) ; winawer_main_line.head(2)"
   ]
  },
  {
   "cell_type": "code",
   "execution_count": 33,
   "metadata": {
    "ExecuteTime": {
     "end_time": "2020-10-04T19:05:35.034225Z",
     "start_time": "2020-10-04T19:05:34.990557Z"
    }
   },
   "outputs": [
    {
     "data": {
      "text/plain": [
       "seven_moves  resultat\n",
       "a2a3         0-1          4\n",
       "             1-0          4\n",
       "a3a4         0-1          5\n",
       "             1-0          5\n",
       "             1/2-1/2      1\n",
       "b2b4         1-0          4\n",
       "b2c3         0-1          1\n",
       "             1-0          3\n",
       "b5d4         0-1          1\n",
       "             1-0          1\n",
       "c1d2         0-1          3\n",
       "             1-0          1\n",
       "c1e3         0-1          1\n",
       "c1f4         1-0          1\n",
       "c3b5         0-1          2\n",
       "             1-0          1\n",
       "d1d2         0-1         14\n",
       "             1-0          9\n",
       "             1/2-1/2      2\n",
       "d1d4         1-0          1\n",
       "d1g4         0-1         62\n",
       "             1-0         48\n",
       "             1/2-1/2      7\n",
       "d2c3         0-1          1\n",
       "d4c5         0-1          1\n",
       "             1-0          4\n",
       "             1/2-1/2      1\n",
       "d4d3         0-1          1\n",
       "e1g1         1-0          1\n",
       "f1b5         1-0          3\n",
       "f1d3         0-1          3\n",
       "             1-0          2\n",
       "             1/2-1/2      2\n",
       "f2f4         0-1          4\n",
       "             1-0          2\n",
       "g1f3         0-1         19\n",
       "             1-0         14\n",
       "g7h7         1-0          1\n",
       "g7h8         1-0          1\n",
       "h2h4         0-1         11\n",
       "             1-0          8\n",
       "             1/2-1/2      1\n",
       "Name: nb, dtype: int64"
      ]
     },
     "execution_count": 33,
     "metadata": {},
     "output_type": "execute_result"
    }
   ],
   "source": [
    "winawer_main_line.groupby([\"seven_moves\", \"resultat\"]).agg(\"count\")[\"nb\"]"
   ]
  },
  {
   "cell_type": "markdown",
   "metadata": {},
   "source": [
    "<h2> Grunfeld defence </h2>"
   ]
  },
  {
   "cell_type": "code",
   "execution_count": 34,
   "metadata": {
    "ExecuteTime": {
     "end_time": "2020-10-04T19:06:58.205239Z",
     "start_time": "2020-10-04T19:06:58.176625Z"
    }
   },
   "outputs": [
    {
     "data": {
      "text/plain": [
       "523"
      ]
     },
     "execution_count": 34,
     "metadata": {},
     "output_type": "execute_result"
    }
   ],
   "source": [
    "grunfeld = games_df[(games_df[\"black\"]==\"yacine63\") & (games_df[\"opening\"]==\"Grunfeld Defence\")] ; len(grunfeld)"
   ]
  },
  {
   "cell_type": "code",
   "execution_count": 35,
   "metadata": {
    "ExecuteTime": {
     "end_time": "2020-10-04T19:07:19.193854Z",
     "start_time": "2020-10-04T19:07:19.171710Z"
    }
   },
   "outputs": [
    {
     "data": {
      "text/plain": [
       "Exchange Variation               222\n",
       "Bg5 variation                     76\n",
       "Grünfled Fianchetto variation     73\n",
       "Bf4 variation                     46\n",
       "Botvinnik variation               43\n",
       "5.e3 variation                    35\n",
       "Russian variation                 20\n",
       "Grünfeld Saëmisch                  8\n",
       "Name: variation, dtype: int64"
      ]
     },
     "execution_count": 35,
     "metadata": {},
     "output_type": "execute_result"
    }
   ],
   "source": [
    "grunfeld[\"variation\"].value_counts()"
   ]
  },
  {
   "cell_type": "code",
   "execution_count": 36,
   "metadata": {
    "ExecuteTime": {
     "end_time": "2020-10-04T19:07:26.355891Z",
     "start_time": "2020-10-04T19:07:26.328653Z"
    }
   },
   "outputs": [
    {
     "data": {
      "text/plain": [
       "variation                      resultat\n",
       "5.e3 variation                 0-1          23\n",
       "                               1-0          10\n",
       "                               1/2-1/2       2\n",
       "Bf4 variation                  0-1          22\n",
       "                               1-0          21\n",
       "                               1/2-1/2       3\n",
       "Bg5 variation                  0-1          38\n",
       "                               1-0          34\n",
       "                               1/2-1/2       4\n",
       "Botvinnik variation            0-1          25\n",
       "                               1-0          17\n",
       "                               1/2-1/2       1\n",
       "Exchange Variation             0-1         105\n",
       "                               1-0         102\n",
       "                               1/2-1/2      15\n",
       "Grünfeld Saëmisch              0-1           6\n",
       "                               1-0           2\n",
       "Grünfled Fianchetto variation  0-1          33\n",
       "                               1-0          37\n",
       "                               1/2-1/2       3\n",
       "Russian variation              0-1           8\n",
       "                               1-0          12\n",
       "Name: nb, dtype: int64"
      ]
     },
     "execution_count": 36,
     "metadata": {},
     "output_type": "execute_result"
    }
   ],
   "source": [
    "grunfeld.groupby([\"variation\", \"resultat\"]).agg(\"count\")[\"nb\"]"
   ]
  },
  {
   "cell_type": "code",
   "execution_count": 37,
   "metadata": {
    "ExecuteTime": {
     "end_time": "2020-10-04T19:09:19.198195Z",
     "start_time": "2020-10-04T19:09:19.183775Z"
    }
   },
   "outputs": [
    {
     "data": {
      "text/plain": [
       "73"
      ]
     },
     "execution_count": 37,
     "metadata": {},
     "output_type": "execute_result"
    }
   ],
   "source": [
    "grunfeld_fianchetto = grunfeld[grunfeld[\"variation\"]==\"Grünfled Fianchetto variation\"] ; len(grunfeld_fianchetto)"
   ]
  },
  {
   "cell_type": "code",
   "execution_count": 38,
   "metadata": {
    "ExecuteTime": {
     "end_time": "2020-10-04T19:09:21.155074Z",
     "start_time": "2020-10-04T19:09:21.087922Z"
    }
   },
   "outputs": [
    {
     "data": {
      "text/plain": [
       "third move  fourth move  resultat\n",
       "c2c4        g2g3         0-1          2\n",
       "                         1-0          3\n",
       "                         1/2-1/2      1\n",
       "d2d4        g2g3         0-1          1\n",
       "                         1-0          1\n",
       "f1g2        c2c4         1-0          1\n",
       "            c4d5         1-0          1\n",
       "            e1g1         0-1          3\n",
       "                         1-0          3\n",
       "            g1f3         0-1          2\n",
       "g1f3        g2g3         0-1          2\n",
       "                         1-0         13\n",
       "                         1/2-1/2      1\n",
       "g2g3        c4d5         1-0          2\n",
       "            d2d4         1-0          1\n",
       "            f1g2         0-1         23\n",
       "                         1-0         12\n",
       "                         1/2-1/2      1\n",
       "Name: nb, dtype: int64"
      ]
     },
     "execution_count": 38,
     "metadata": {},
     "output_type": "execute_result"
    }
   ],
   "source": [
    "grunfeld_fianchetto[\"third move\"] = grunfeld_fianchetto[\"moves\"].apply(lambda x: fonctions.find_move_n(x, 3))\n",
    "grunfeld_fianchetto[\"fourth move\"] = grunfeld_fianchetto[\"moves\"].apply(lambda x: fonctions.find_move_n(x, 4))\n",
    "grunfeld_fianchetto[\"fifth move\"] = grunfeld_fianchetto[\"moves\"].apply(lambda x: fonctions.find_move_n(x, 5))\n",
    "grunfeld_fianchetto.groupby([\"third move\", \"fourth move\",\"resultat\"]).agg(\"count\")[\"nb\"]"
   ]
  },
  {
   "cell_type": "code",
   "execution_count": 39,
   "metadata": {
    "ExecuteTime": {
     "end_time": "2020-10-04T19:10:42.163856Z",
     "start_time": "2020-10-04T19:10:42.133879Z"
    }
   },
   "outputs": [
    {
     "data": {
      "text/plain": [
       "3148"
      ]
     },
     "execution_count": 39,
     "metadata": {},
     "output_type": "execute_result"
    }
   ],
   "source": [
    "white = games_df[games_df[\"white\"]==\"yacine63\"] ; len(white)"
   ]
  },
  {
   "cell_type": "code",
   "execution_count": 40,
   "metadata": {
    "ExecuteTime": {
     "end_time": "2020-10-04T19:10:45.661909Z",
     "start_time": "2020-10-04T19:10:45.640994Z"
    }
   },
   "outputs": [
    {
     "data": {
      "text/plain": [
       "Queen's Gambit                       711\n",
       "Queen's Indian                       643\n",
       "Benoni defense                       517\n",
       "King's Indian                        489\n",
       "English Opening                      218\n",
       "Trompowsky                           211\n",
       "QGD                                  123\n",
       "Grunfeld Defence                     110\n",
       "Dutch                                 96\n",
       "Irregular                             20\n",
       "Nimzo Indian                           5\n",
       "Alekhine, scandinave and other e4      2\n",
       "Caro-KAnn                              1\n",
       "e4 e5                                  1\n",
       "French                                 1\n",
       "Name: opening, dtype: int64"
      ]
     },
     "execution_count": 40,
     "metadata": {},
     "output_type": "execute_result"
    }
   ],
   "source": [
    "white[\"opening\"].value_counts()"
   ]
  },
  {
   "cell_type": "code",
   "execution_count": 41,
   "metadata": {
    "ExecuteTime": {
     "end_time": "2020-10-04T19:10:51.127869Z",
     "start_time": "2020-10-04T19:10:51.105237Z"
    }
   },
   "outputs": [
    {
     "data": {
      "text/plain": [
       "711"
      ]
     },
     "execution_count": 41,
     "metadata": {},
     "output_type": "execute_result"
    }
   ],
   "source": [
    "d4_d5 = white[white[\"opening\"]==\"Queen's Gambit\"] ; len(d4_d5)"
   ]
  },
  {
   "cell_type": "code",
   "execution_count": 42,
   "metadata": {
    "ExecuteTime": {
     "end_time": "2020-10-04T19:10:56.161911Z",
     "start_time": "2020-10-04T19:10:55.602901Z"
    }
   },
   "outputs": [
    {
     "name": "stdout",
     "output_type": "stream",
     "text": [
      "711\n"
     ]
    },
    {
     "data": {
      "image/png": "[encoded data removed]",
      "text/plain": [
       "<Figure size 432x288 with 1 Axes>"
      ]
     },
     "metadata": {
      "needs_background": "light"
     },
     "output_type": "display_data"
    }
   ],
   "source": [
    "stats.compute_scored_opening(white, \"yacine63\", \"Queen's Gambit\", \"white\")"
   ]
  },
  {
   "cell_type": "code",
   "execution_count": 43,
   "metadata": {
    "ExecuteTime": {
     "end_time": "2020-10-04T19:11:25.252016Z",
     "start_time": "2020-10-04T19:11:25.234861Z"
    }
   },
   "outputs": [
    {
     "data": {
      "text/plain": [
       "643"
      ]
     },
     "execution_count": 43,
     "metadata": {},
     "output_type": "execute_result"
    }
   ],
   "source": [
    "queen_indian = white[white[\"opening\"]==\"Queen's Indian\"] ; len(queen_indian)"
   ]
  },
  {
   "cell_type": "code",
   "execution_count": 44,
   "metadata": {
    "ExecuteTime": {
     "end_time": "2020-10-04T19:11:28.946940Z",
     "start_time": "2020-10-04T19:11:28.266221Z"
    }
   },
   "outputs": [
    {
     "name": "stdout",
     "output_type": "stream",
     "text": [
      "643\n"
     ]
    },
    {
     "data": {
      "image/png": "[encoded data removed]",
      "text/plain": [
       "<Figure size 432x288 with 1 Axes>"
      ]
     },
     "metadata": {
      "needs_background": "light"
     },
     "output_type": "display_data"
    }
   ],
   "source": [
    "stats.compute_scored_opening(white, \"yacine63\", \"Queen's Indian\", \"white\")"
   ]
  },
  {
   "cell_type": "code",
   "execution_count": 45,
   "metadata": {
    "ExecuteTime": {
     "end_time": "2020-10-04T19:11:42.454168Z",
     "start_time": "2020-10-04T19:11:42.432233Z"
    }
   },
   "outputs": [
    {
     "data": {
      "text/plain": [
       "603"
      ]
     },
     "execution_count": 45,
     "metadata": {},
     "output_type": "execute_result"
    }
   ],
   "source": [
    "catalane = games_df[games_df[\"variation\"]==\"Catalane\"] ; len(catalane)"
   ]
  },
  {
   "cell_type": "code",
   "execution_count": 46,
   "metadata": {
    "ExecuteTime": {
     "end_time": "2020-10-04T19:11:45.232820Z",
     "start_time": "2020-10-04T19:11:45.210149Z"
    }
   },
   "outputs": [
    {
     "data": {
      "text/plain": [
       "603"
      ]
     },
     "execution_count": 46,
     "metadata": {},
     "output_type": "execute_result"
    }
   ],
   "source": [
    "catalane[\"moves\"] = catalane[\"moves\"].apply(lambda x: x[1:]) ; len(catalane)"
   ]
  },
  {
   "cell_type": "code",
   "execution_count": 47,
   "metadata": {
    "ExecuteTime": {
     "end_time": "2020-10-04T19:11:48.878029Z",
     "start_time": "2020-10-04T19:11:48.809920Z"
    }
   },
   "outputs": [
    {
     "data": {
      "text/html": [
       "<div>\n",
       "<style scoped>\n",
       "    .dataframe tbody tr th:only-of-type {\n",
       "        vertical-align: middle;\n",
       "    }\n",
       "\n",
       "    .dataframe tbody tr th {\n",
       "        vertical-align: top;\n",
       "    }\n",
       "\n",
       "    .dataframe thead th {\n",
       "        text-align: right;\n",
       "    }\n",
       "</style>\n",
       "<table border=\"1\" class=\"dataframe\">\n",
       "  <thead>\n",
       "    <tr style=\"text-align: right;\">\n",
       "      <th></th>\n",
       "      <th>date</th>\n",
       "      <th>white</th>\n",
       "      <th>white elo</th>\n",
       "      <th>black</th>\n",
       "      <th>black elo</th>\n",
       "      <th>resultat</th>\n",
       "      <th>ECO</th>\n",
       "      <th>perf white</th>\n",
       "      <th>perf black</th>\n",
       "      <th>moves</th>\n",
       "      <th>number of moves</th>\n",
       "      <th>opening</th>\n",
       "      <th>variation</th>\n",
       "      <th>year</th>\n",
       "      <th>nb</th>\n",
       "      <th>fourth_moves</th>\n",
       "    </tr>\n",
       "  </thead>\n",
       "  <tbody>\n",
       "    <tr>\n",
       "      <th>1</th>\n",
       "      <td>2020-10-03</td>\n",
       "      <td>yacine63</td>\n",
       "      <td>2158</td>\n",
       "      <td>Du_Verloren</td>\n",
       "      <td>2081</td>\n",
       "      <td>1-0</td>\n",
       "      <td>E01</td>\n",
       "      <td>4.0</td>\n",
       "      <td>-4.0</td>\n",
       "      <td>d2d4 g8f6 c2c4 e7e6 g2g3 d7d5 f1g2 f8b4 c1d2 b...</td>\n",
       "      <td>64</td>\n",
       "      <td>Queen's Indian</td>\n",
       "      <td>Catalane</td>\n",
       "      <td>2020</td>\n",
       "      <td>1</td>\n",
       "      <td>f8b4</td>\n",
       "    </tr>\n",
       "    <tr>\n",
       "      <th>20</th>\n",
       "      <td>2020-10-02</td>\n",
       "      <td>yacine63</td>\n",
       "      <td>2171</td>\n",
       "      <td>Maikl20000</td>\n",
       "      <td>2073</td>\n",
       "      <td>1/2-1/2</td>\n",
       "      <td>E01</td>\n",
       "      <td>-1.0</td>\n",
       "      <td>2.0</td>\n",
       "      <td>d2d4 g8f6 c2c4 e7e6 g2g3 d7d5 f1g2 f8b4 c1d2 b...</td>\n",
       "      <td>155</td>\n",
       "      <td>Queen's Indian</td>\n",
       "      <td>Catalane</td>\n",
       "      <td>2020</td>\n",
       "      <td>1</td>\n",
       "      <td>f8b4</td>\n",
       "    </tr>\n",
       "  </tbody>\n",
       "</table>\n",
       "</div>"
      ],
      "text/plain": [
       "         date     white white elo        black black elo resultat  ECO  \\\n",
       "1  2020-10-03  yacine63      2158  Du_Verloren      2081      1-0  E01   \n",
       "20 2020-10-02  yacine63      2171   Maikl20000      2073  1/2-1/2  E01   \n",
       "\n",
       "   perf white perf black                                              moves  \\\n",
       "1         4.0       -4.0  d2d4 g8f6 c2c4 e7e6 g2g3 d7d5 f1g2 f8b4 c1d2 b...   \n",
       "20       -1.0        2.0  d2d4 g8f6 c2c4 e7e6 g2g3 d7d5 f1g2 f8b4 c1d2 b...   \n",
       "\n",
       "    number of moves         opening variation  year  nb fourth_moves  \n",
       "1                64  Queen's Indian  Catalane  2020   1         f8b4  \n",
       "20              155  Queen's Indian  Catalane  2020   1         f8b4  "
      ]
     },
     "execution_count": 47,
     "metadata": {},
     "output_type": "execute_result"
    }
   ],
   "source": [
    "catalane[\"fourth_moves\"] = catalane[\"moves\"].apply(lambda x: fonctions.find_move_n(x, 4)) ; catalane.head(2)"
   ]
  },
  {
   "cell_type": "code",
   "execution_count": 48,
   "metadata": {
    "ExecuteTime": {
     "end_time": "2020-10-04T19:11:57.439144Z",
     "start_time": "2020-10-04T19:11:57.399028Z"
    }
   },
   "outputs": [
    {
     "data": {
      "text/plain": [
       "fourth_moves  resultat\n",
       "f8e7          1-0         80\n",
       "              0-1         77\n",
       "d5c4          1-0         34\n",
       "c7c6          1-0         34\n",
       "d5c4          0-1         27\n",
       "c7c6          0-1         22\n",
       "f8b4          0-1         21\n",
       "d8e7          1-0         21\n",
       "              0-1         20\n",
       "f8b4          1-0         18\n",
       "Name: nb, dtype: int64"
      ]
     },
     "execution_count": 48,
     "metadata": {},
     "output_type": "execute_result"
    }
   ],
   "source": [
    "catalane.groupby([\"fourth_moves\", \"resultat\"]).agg(\"count\").sort_values(\"nb\", ascending=False)[\"nb\"].head(10)"
   ]
  },
  {
   "cell_type": "code",
   "execution_count": null,
   "metadata": {},
   "outputs": [],
   "source": []
  }
 ],
 "metadata": {
  "kernelspec": {
   "display_name": "Python 3",
   "language": "python",
   "name": "python3"
  },
  "language_info": {
   "codemirror_mode": {
    "name": "ipython",
    "version": 3
   },
   "file_extension": ".py",
   "mimetype": "text/x-python",
   "name": "python",
   "nbconvert_exporter": "python",
   "pygments_lexer": "ipython3",
   "version": "3.7.7"
  },
  "toc": {
   "base_numbering": 1,
   "nav_menu": {},
   "number_sections": true,
   "sideBar": true,
   "skip_h1_title": false,
   "title_cell": "Table of Contents",
   "title_sidebar": "Contents",
   "toc_cell": false,
   "toc_position": {},
   "toc_section_display": true,
   "toc_window_display": false
  },
  "varInspector": {
   "cols": {
    "lenName": 16,
    "lenType": 16,
    "lenVar": 40
   },
   "kernels_config": {
    "python": {
     "delete_cmd_postfix": "",
     "delete_cmd_prefix": "del ",
     "library": "var_list.py",
     "varRefreshCmd": "print(var_dic_list())"
    },
    "r": {
     "delete_cmd_postfix": ") ",
     "delete_cmd_prefix": "rm(",
     "library": "var_list.r",
     "varRefreshCmd": "cat(var_dic_list()) "
    }
   },
   "types_to_exclude": [
    "module",
    "function",
    "builtin_function_or_method",
    "instance",
    "_Feature"
   ],
   "window_display": false
  }
 },
 "nbformat": 4,
 "nbformat_minor": 4
}
