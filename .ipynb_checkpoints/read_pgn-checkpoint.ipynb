{
 "cells": [
  {
   "cell_type": "code",
   "execution_count": null,
   "metadata": {
    "ExecuteTime": {
     "end_time": "2020-10-04T08:55:03.619761Z",
     "start_time": "2020-10-04T08:55:03.478624Z"
    }
   },
   "outputs": [],
   "source": [
    "! dir"
   ]
  },
  {
   "cell_type": "code",
   "execution_count": 1,
   "metadata": {
    "ExecuteTime": {
     "end_time": "2020-10-04T18:50:36.140005Z",
     "start_time": "2020-10-04T18:50:27.694853Z"
    }
   },
   "outputs": [],
   "source": [
    "#import librairies for os operations\n",
    "import sys\n",
    "sys.path.append(\"python-chess\")\n",
    "import warnings\n",
    "warnings.simplefilter(\"ignore\")\n",
    "\n",
    "#import librairies from chess packages\n",
    "import chess.pgn\n",
    "\n",
    "#import lib for data viz\n",
    "import pandas as pd\n",
    "import numpy as np\n",
    "import seaborn as sns\n",
    "import matplotlib.pyplot as plt\n",
    "\n",
    "#specific function\n",
    "import fonctions\n",
    "import preprocessing_steps\n",
    "import stats\n"
   ]
  },
  {
   "cell_type": "code",
   "execution_count": null,
   "metadata": {
    "ExecuteTime": {
     "end_time": "2020-10-03T22:45:59.773561Z",
     "start_time": "2020-10-03T22:45:59.750041Z"
    }
   },
   "outputs": [],
   "source": [
    "games = open(\"yacine_games.pgn\") ; games"
   ]
  },
  {
   "cell_type": "code",
   "execution_count": null,
   "metadata": {
    "ExecuteTime": {
     "end_time": "2020-10-03T22:45:59.832123Z",
     "start_time": "2020-10-03T22:45:59.807177Z"
    }
   },
   "outputs": [],
   "source": [
    "games_df = pd.DataFrame(columns = [\"date\", \"white\", \"white elo\", \"black\", \"black elo\", \"resultat\", \"ECO\", \"perf white\", \"perf black\", \"moves\"])"
   ]
  },
  {
   "cell_type": "code",
   "execution_count": null,
   "metadata": {
    "ExecuteTime": {
     "end_time": "2020-10-03T22:47:30.920081Z",
     "start_time": "2020-10-03T22:45:59.907605Z"
    }
   },
   "outputs": [],
   "source": [
    "%%time\n",
    "\n",
    "game = chess.pgn.read_game(games)\n",
    "while game :\n",
    "    i=0\n",
    "    header = game.headers\n",
    "    date = header[\"Date\"]; white = header[\"White\"]; black = header[\"Black\"] ; result = header[\"Result\"]\n",
    "    whiteElo = header[\"WhiteElo\"] ; blackElo = header[\"BlackElo\"] ; ECO = header[\"ECO\"] ; moves = \"\"\n",
    "    for move in game.mainline_moves():\n",
    "        moves = moves + \" \"+ str(move)\n",
    "    try: \n",
    "        whiteRatingDiff = header[\"WhiteRatingDiff\"] ; blackRatingDiff = header[\"BlackRatingDiff\"]\n",
    "    except KeyError: #some games didn't have the features whiteRatingDiff, blackRatingDiff or ECO\n",
    "        whiteRatingDiff = None ; blackRatingDiff = None\n",
    "    finally: \n",
    "        new_game = pd.DataFrame(data={\"date\": date, \"white\": white, \"white elo\": whiteElo, \"black\": black,\n",
    "                                      \"black elo\": blackElo, \"resultat\": result, \"ECO\": ECO, \n",
    "                                      \"perf white\": whiteRatingDiff, \"perf black\": blackRatingDiff, \"moves\": moves}, index=[i])\n",
    "        games_df = pd.concat([games_df, new_game])\n",
    "        game = chess.pgn.read_game(games)\n",
    "        i+=1\n",
    "games_df.head(10)"
   ]
  },
  {
   "cell_type": "code",
   "execution_count": null,
   "metadata": {
    "ExecuteTime": {
     "end_time": "2020-10-04T13:20:40.756334Z",
     "start_time": "2020-10-04T13:20:40.498131Z"
    }
   },
   "outputs": [],
   "source": [
    "games_df.to_csv(\"yacine_games.csv\", index=None)"
   ]
  },
  {
   "cell_type": "code",
   "execution_count": 2,
   "metadata": {
    "ExecuteTime": {
     "end_time": "2020-10-04T18:51:05.483923Z",
     "start_time": "2020-10-04T18:51:04.891953Z"
    }
   },
   "outputs": [
    {
     "data": {
      "text/html": [
       "<div>\n",
       "<style scoped>\n",
       "    .dataframe tbody tr th:only-of-type {\n",
       "        vertical-align: middle;\n",
       "    }\n",
       "\n",
       "    .dataframe tbody tr th {\n",
       "        vertical-align: top;\n",
       "    }\n",
       "\n",
       "    .dataframe thead th {\n",
       "        text-align: right;\n",
       "    }\n",
       "</style>\n",
       "<table border=\"1\" class=\"dataframe\">\n",
       "  <thead>\n",
       "    <tr style=\"text-align: right;\">\n",
       "      <th></th>\n",
       "      <th>date</th>\n",
       "      <th>white</th>\n",
       "      <th>white elo</th>\n",
       "      <th>black</th>\n",
       "      <th>black elo</th>\n",
       "      <th>resultat</th>\n",
       "      <th>ECO</th>\n",
       "      <th>perf white</th>\n",
       "      <th>perf black</th>\n",
       "      <th>moves</th>\n",
       "    </tr>\n",
       "  </thead>\n",
       "  <tbody>\n",
       "    <tr>\n",
       "      <th>0</th>\n",
       "      <td>2020.10.03</td>\n",
       "      <td>Simakoff</td>\n",
       "      <td>2177</td>\n",
       "      <td>yacine63</td>\n",
       "      <td>2162</td>\n",
       "      <td>0-1</td>\n",
       "      <td>C06</td>\n",
       "      <td>-5.0</td>\n",
       "      <td>6.0</td>\n",
       "      <td>e2e4 e7e6 d2d4 d7d5 b1d2 g8f6 e4e5 f6d7 f1d3 ...</td>\n",
       "    </tr>\n",
       "    <tr>\n",
       "      <th>1</th>\n",
       "      <td>2020.10.03</td>\n",
       "      <td>yacine63</td>\n",
       "      <td>2158</td>\n",
       "      <td>Du_Verloren</td>\n",
       "      <td>2081</td>\n",
       "      <td>1-0</td>\n",
       "      <td>E01</td>\n",
       "      <td>4.0</td>\n",
       "      <td>-4.0</td>\n",
       "      <td>d2d4 g8f6 c2c4 e7e6 g2g3 d7d5 f1g2 f8b4 c1d2 ...</td>\n",
       "    </tr>\n",
       "    <tr>\n",
       "      <th>2</th>\n",
       "      <td>2020.10.03</td>\n",
       "      <td>yacine63</td>\n",
       "      <td>2153</td>\n",
       "      <td>tillubombay</td>\n",
       "      <td>2091</td>\n",
       "      <td>1-0</td>\n",
       "      <td>D20</td>\n",
       "      <td>5.0</td>\n",
       "      <td>-5.0</td>\n",
       "      <td>d2d4 d7d5 c2c4 d5c4 e2e3 e7e5 f1c4 e5d4 g1f3 ...</td>\n",
       "    </tr>\n",
       "  </tbody>\n",
       "</table>\n",
       "</div>"
      ],
      "text/plain": [
       "         date     white white elo        black black elo resultat  ECO  \\\n",
       "0  2020.10.03  Simakoff      2177     yacine63      2162      0-1  C06   \n",
       "1  2020.10.03  yacine63      2158  Du_Verloren      2081      1-0  E01   \n",
       "2  2020.10.03  yacine63      2153  tillubombay      2091      1-0  D20   \n",
       "\n",
       "   perf white  perf black                                              moves  \n",
       "0        -5.0         6.0   e2e4 e7e6 d2d4 d7d5 b1d2 g8f6 e4e5 f6d7 f1d3 ...  \n",
       "1         4.0        -4.0   d2d4 g8f6 c2c4 e7e6 g2g3 d7d5 f1g2 f8b4 c1d2 ...  \n",
       "2         5.0        -5.0   d2d4 d7d5 c2c4 d5c4 e2e3 e7e5 f1c4 e5d4 g1f3 ...  "
      ]
     },
     "execution_count": 2,
     "metadata": {},
     "output_type": "execute_result"
    }
   ],
   "source": [
    "games_df = pd.read_csv(\"yacine_games.csv\") ; games_df.head(3)"
   ]
  },
  {
   "cell_type": "markdown",
   "metadata": {},
   "source": [
    "<h2> data analysis </h2>"
   ]
  },
  {
   "cell_type": "code",
   "execution_count": 3,
   "metadata": {
    "ExecuteTime": {
     "end_time": "2020-10-04T18:52:02.259135Z",
     "start_time": "2020-10-04T18:52:02.241203Z"
    }
   },
   "outputs": [
    {
     "data": {
      "text/plain": [
       "6315"
      ]
     },
     "execution_count": 3,
     "metadata": {},
     "output_type": "execute_result"
    }
   ],
   "source": [
    "len(games_df)"
   ]
  },
  {
   "cell_type": "code",
   "execution_count": 5,
   "metadata": {
    "ExecuteTime": {
     "end_time": "2020-10-04T18:53:44.336560Z",
     "start_time": "2020-10-04T18:53:43.832682Z"
    }
   },
   "outputs": [
    {
     "data": {
      "text/html": [
       "<div>\n",
       "<style scoped>\n",
       "    .dataframe tbody tr th:only-of-type {\n",
       "        vertical-align: middle;\n",
       "    }\n",
       "\n",
       "    .dataframe tbody tr th {\n",
       "        vertical-align: top;\n",
       "    }\n",
       "\n",
       "    .dataframe thead th {\n",
       "        text-align: right;\n",
       "    }\n",
       "</style>\n",
       "<table border=\"1\" class=\"dataframe\">\n",
       "  <thead>\n",
       "    <tr style=\"text-align: right;\">\n",
       "      <th></th>\n",
       "      <th>date</th>\n",
       "      <th>white</th>\n",
       "      <th>white elo</th>\n",
       "      <th>black</th>\n",
       "      <th>black elo</th>\n",
       "      <th>resultat</th>\n",
       "      <th>ECO</th>\n",
       "      <th>perf white</th>\n",
       "      <th>perf black</th>\n",
       "      <th>moves</th>\n",
       "      <th>number of moves</th>\n",
       "      <th>opening</th>\n",
       "      <th>variation</th>\n",
       "      <th>year</th>\n",
       "      <th>nb</th>\n",
       "    </tr>\n",
       "  </thead>\n",
       "  <tbody>\n",
       "    <tr>\n",
       "      <th>0</th>\n",
       "      <td>2020-10-03</td>\n",
       "      <td>Simakoff</td>\n",
       "      <td>2177</td>\n",
       "      <td>yacine63</td>\n",
       "      <td>2162</td>\n",
       "      <td>0-1</td>\n",
       "      <td>C06</td>\n",
       "      <td>-5.0</td>\n",
       "      <td>6.0</td>\n",
       "      <td>e2e4 e7e6 d2d4 d7d5 b1d2 g8f6 e4e5 f6d7 f1d3 ...</td>\n",
       "      <td>87</td>\n",
       "      <td>French</td>\n",
       "      <td>Tarrasch Variation</td>\n",
       "      <td>2020</td>\n",
       "      <td>1</td>\n",
       "    </tr>\n",
       "    <tr>\n",
       "      <th>1</th>\n",
       "      <td>2020-10-03</td>\n",
       "      <td>yacine63</td>\n",
       "      <td>2158</td>\n",
       "      <td>Du_Verloren</td>\n",
       "      <td>2081</td>\n",
       "      <td>1-0</td>\n",
       "      <td>E01</td>\n",
       "      <td>4.0</td>\n",
       "      <td>-4.0</td>\n",
       "      <td>d2d4 g8f6 c2c4 e7e6 g2g3 d7d5 f1g2 f8b4 c1d2 ...</td>\n",
       "      <td>64</td>\n",
       "      <td>Queen's Indian</td>\n",
       "      <td>Catalane</td>\n",
       "      <td>2020</td>\n",
       "      <td>1</td>\n",
       "    </tr>\n",
       "    <tr>\n",
       "      <th>2</th>\n",
       "      <td>2020-10-03</td>\n",
       "      <td>yacine63</td>\n",
       "      <td>2153</td>\n",
       "      <td>tillubombay</td>\n",
       "      <td>2091</td>\n",
       "      <td>1-0</td>\n",
       "      <td>D20</td>\n",
       "      <td>5.0</td>\n",
       "      <td>-5.0</td>\n",
       "      <td>d2d4 d7d5 c2c4 d5c4 e2e3 e7e5 f1c4 e5d4 g1f3 ...</td>\n",
       "      <td>54</td>\n",
       "      <td>Queen's Gambit</td>\n",
       "      <td>QGA</td>\n",
       "      <td>2020</td>\n",
       "      <td>1</td>\n",
       "    </tr>\n",
       "  </tbody>\n",
       "</table>\n",
       "</div>"
      ],
      "text/plain": [
       "        date     white white elo        black black elo resultat  ECO  \\\n",
       "0 2020-10-03  Simakoff      2177     yacine63      2162      0-1  C06   \n",
       "1 2020-10-03  yacine63      2158  Du_Verloren      2081      1-0  E01   \n",
       "2 2020-10-03  yacine63      2153  tillubombay      2091      1-0  D20   \n",
       "\n",
       "  perf white perf black                                              moves  \\\n",
       "0       -5.0        6.0   e2e4 e7e6 d2d4 d7d5 b1d2 g8f6 e4e5 f6d7 f1d3 ...   \n",
       "1        4.0       -4.0   d2d4 g8f6 c2c4 e7e6 g2g3 d7d5 f1g2 f8b4 c1d2 ...   \n",
       "2        5.0       -5.0   d2d4 d7d5 c2c4 d5c4 e2e3 e7e5 f1c4 e5d4 g1f3 ...   \n",
       "\n",
       "   number of moves         opening           variation  year  nb  \n",
       "0               87          French  Tarrasch Variation  2020   1  \n",
       "1               64  Queen's Indian            Catalane  2020   1  \n",
       "2               54  Queen's Gambit                 QGA  2020   1  "
      ]
     },
     "execution_count": 5,
     "metadata": {},
     "output_type": "execute_result"
    }
   ],
   "source": [
    "games_df = preprocessing_steps.preprocess(games_df) ; games_df.head(3)"
   ]
  },
  {
   "cell_type": "markdown",
   "metadata": {},
   "source": [
    "<h3> How good is Yacine on the French ? </h3>"
   ]
  },
  {
   "cell_type": "code",
   "execution_count": 6,
   "metadata": {
    "ExecuteTime": {
     "end_time": "2020-10-04T18:53:48.387898Z",
     "start_time": "2020-10-04T18:53:48.365453Z"
    }
   },
   "outputs": [
    {
     "data": {
      "text/plain": [
       "1458"
      ]
     },
     "execution_count": 6,
     "metadata": {},
     "output_type": "execute_result"
    }
   ],
   "source": [
    "french = games_df[games_df[\"opening\"]==\"French\"] ; len(french)"
   ]
  },
  {
   "cell_type": "code",
   "execution_count": 7,
   "metadata": {
    "ExecuteTime": {
     "end_time": "2020-10-04T18:54:11.728300Z",
     "start_time": "2020-10-04T18:54:11.700207Z"
    }
   },
   "outputs": [
    {
     "data": {
      "text/plain": [
       "variation            resultat\n",
       "Advance variation    0-1          94\n",
       "                     1-0          88\n",
       "                     1/2-1/2      10\n",
       "Classical variation  0-1           3\n",
       "                     1-0           1\n",
       "Exchange variation   0-1          71\n",
       "                     1-0          67\n",
       "                     1/2-1/2      10\n",
       "French e4 e6         0-1         198\n",
       "                     1-0         184\n",
       "                     1/2-1/2      13\n",
       "Tarrasch Variation   0-1         152\n",
       "                     1-0         139\n",
       "                     1/2-1/2       9\n",
       "Winawer              0-1         210\n",
       "                     1-0         185\n",
       "                     1/2-1/2      24\n",
       "Name: black, dtype: int64"
      ]
     },
     "execution_count": 7,
     "metadata": {},
     "output_type": "execute_result"
    }
   ],
   "source": [
    "french.groupby([\"variation\", \"resultat\"]).agg(\"count\")[\"black\"]"
   ]
  },
  {
   "cell_type": "code",
   "execution_count": 7,
   "metadata": {
    "ExecuteTime": {
     "end_time": "2020-10-04T14:12:04.568165Z",
     "start_time": "2020-10-04T14:12:04.251726Z"
    }
   },
   "outputs": [
    {
     "name": "stdout",
     "output_type": "stream",
     "text": [
      "1457\n"
     ]
    },
    {
     "data": {
      "image/png": "[encoded data removed]",
      "text/plain": [
       "<Figure size 432x288 with 1 Axes>"
      ]
     },
     "metadata": {
      "needs_background": "light"
     },
     "output_type": "display_data"
    }
   ],
   "source": [
    "stats.compute_scored_opening(games_df, \"yacine63\", \"French\", \"black\")"
   ]
  },
  {
   "cell_type": "markdown",
   "metadata": {},
   "source": [
    "<h4> French with d3 </h4>"
   ]
  },
  {
   "cell_type": "code",
   "execution_count": 8,
   "metadata": {
    "ExecuteTime": {
     "end_time": "2020-10-04T14:12:04.594730Z",
     "start_time": "2020-10-04T14:12:04.571688Z"
    }
   },
   "outputs": [
    {
     "data": {
      "text/plain": [
       "101"
      ]
     },
     "execution_count": 8,
     "metadata": {},
     "output_type": "execute_result"
    }
   ],
   "source": [
    "french_d3_bool = french[\"moves\"].apply(lambda x: x.startswith(\" e2e4 e7e6 d2d3\"))\n",
    "french_d3 = french[french_d3_bool] ; len(french_d3)"
   ]
  },
  {
   "cell_type": "code",
   "execution_count": 9,
   "metadata": {
    "ExecuteTime": {
     "end_time": "2020-10-04T14:12:04.625107Z",
     "start_time": "2020-10-04T14:12:04.598240Z"
    }
   },
   "outputs": [
    {
     "data": {
      "text/plain": [
       "0-1        50\n",
       "1-0        48\n",
       "1/2-1/2     3\n",
       "Name: resultat, dtype: int64"
      ]
     },
     "execution_count": 9,
     "metadata": {},
     "output_type": "execute_result"
    }
   ],
   "source": [
    "french_d3[\"resultat\"].value_counts()"
   ]
  },
  {
   "cell_type": "code",
   "execution_count": 10,
   "metadata": {
    "ExecuteTime": {
     "end_time": "2020-10-04T14:12:04.654308Z",
     "start_time": "2020-10-04T14:12:04.627945Z"
    }
   },
   "outputs": [
    {
     "data": {
      "text/plain": [
       "year  resultat\n",
       "2018  0-1          5\n",
       "      1-0          4\n",
       "2019  0-1         13\n",
       "      1-0         14\n",
       "2020  0-1         32\n",
       "      1-0         30\n",
       "      1/2-1/2      3\n",
       "Name: nb, dtype: int64"
      ]
     },
     "execution_count": 10,
     "metadata": {},
     "output_type": "execute_result"
    }
   ],
   "source": [
    "french_d3.groupby([\"year\", \"resultat\"]).agg(\"count\")[\"nb\"]"
   ]
  },
  {
   "cell_type": "markdown",
   "metadata": {},
   "source": [
    "<h4> French exchange </h4>"
   ]
  },
  {
   "cell_type": "code",
   "execution_count": 8,
   "metadata": {
    "ExecuteTime": {
     "end_time": "2020-10-04T18:56:47.392848Z",
     "start_time": "2020-10-04T18:56:47.381834Z"
    }
   },
   "outputs": [
    {
     "data": {
      "text/plain": [
       "148"
      ]
     },
     "execution_count": 8,
     "metadata": {},
     "output_type": "execute_result"
    }
   ],
   "source": [
    "french_exchange = french[french[\"ECO\"]==\"C01\"] ; len(french_exchange)"
   ]
  },
  {
   "cell_type": "code",
   "execution_count": 9,
   "metadata": {
    "ExecuteTime": {
     "end_time": "2020-10-04T18:56:49.336385Z",
     "start_time": "2020-10-04T18:56:49.299640Z"
    }
   },
   "outputs": [
    {
     "data": {
      "text/html": [
       "<div>\n",
       "<style scoped>\n",
       "    .dataframe tbody tr th:only-of-type {\n",
       "        vertical-align: middle;\n",
       "    }\n",
       "\n",
       "    .dataframe tbody tr th {\n",
       "        vertical-align: top;\n",
       "    }\n",
       "\n",
       "    .dataframe thead th {\n",
       "        text-align: right;\n",
       "    }\n",
       "</style>\n",
       "<table border=\"1\" class=\"dataframe\">\n",
       "  <thead>\n",
       "    <tr style=\"text-align: right;\">\n",
       "      <th></th>\n",
       "      <th>date</th>\n",
       "      <th>white</th>\n",
       "      <th>white elo</th>\n",
       "      <th>black</th>\n",
       "      <th>black elo</th>\n",
       "      <th>resultat</th>\n",
       "      <th>ECO</th>\n",
       "      <th>perf white</th>\n",
       "      <th>perf black</th>\n",
       "      <th>moves</th>\n",
       "      <th>number of moves</th>\n",
       "      <th>opening</th>\n",
       "      <th>variation</th>\n",
       "      <th>year</th>\n",
       "      <th>nb</th>\n",
       "      <th>fourth_moves</th>\n",
       "    </tr>\n",
       "  </thead>\n",
       "  <tbody>\n",
       "    <tr>\n",
       "      <th>57</th>\n",
       "      <td>2020-09-26</td>\n",
       "      <td>sergey1207</td>\n",
       "      <td>2224</td>\n",
       "      <td>yacine63</td>\n",
       "      <td>2200</td>\n",
       "      <td>0-1</td>\n",
       "      <td>C01</td>\n",
       "      <td>-6.0</td>\n",
       "      <td>6.0</td>\n",
       "      <td>d2d4 e7e6 e2e4 d7d5 e4d5 e6d5 f1d3 f8d6 g1f3 ...</td>\n",
       "      <td>59</td>\n",
       "      <td>French</td>\n",
       "      <td>Exchange variation</td>\n",
       "      <td>2020</td>\n",
       "      <td>1</td>\n",
       "      <td>f1d3</td>\n",
       "    </tr>\n",
       "    <tr>\n",
       "      <th>160</th>\n",
       "      <td>2020-09-13</td>\n",
       "      <td>JuanCarlosPresente</td>\n",
       "      <td>2193</td>\n",
       "      <td>yacine63</td>\n",
       "      <td>2207</td>\n",
       "      <td>1-0</td>\n",
       "      <td>C01</td>\n",
       "      <td>7.0</td>\n",
       "      <td>-6.0</td>\n",
       "      <td>e2e4 e7e6 d2d4 d7d5 e4d5 e6d5 g1f3 b8c6 f1d3 ...</td>\n",
       "      <td>88</td>\n",
       "      <td>French</td>\n",
       "      <td>Exchange variation</td>\n",
       "      <td>2020</td>\n",
       "      <td>1</td>\n",
       "      <td>g1f3</td>\n",
       "    </tr>\n",
       "  </tbody>\n",
       "</table>\n",
       "</div>"
      ],
      "text/plain": [
       "          date               white white elo     black black elo resultat  \\\n",
       "57  2020-09-26          sergey1207      2224  yacine63      2200      0-1   \n",
       "160 2020-09-13  JuanCarlosPresente      2193  yacine63      2207      1-0   \n",
       "\n",
       "     ECO perf white perf black  \\\n",
       "57   C01       -6.0        6.0   \n",
       "160  C01        7.0       -6.0   \n",
       "\n",
       "                                                 moves  number of moves  \\\n",
       "57    d2d4 e7e6 e2e4 d7d5 e4d5 e6d5 f1d3 f8d6 g1f3 ...               59   \n",
       "160   e2e4 e7e6 d2d4 d7d5 e4d5 e6d5 g1f3 b8c6 f1d3 ...               88   \n",
       "\n",
       "    opening           variation  year  nb fourth_moves  \n",
       "57   French  Exchange variation  2020   1         f1d3  \n",
       "160  French  Exchange variation  2020   1         g1f3  "
      ]
     },
     "execution_count": 9,
     "metadata": {},
     "output_type": "execute_result"
    }
   ],
   "source": [
    "french_exchange[\"fourth_moves\"] = french_exchange[\"moves\"].apply(lambda x: fonctions.find_move_n(x, 4)) ; french_exchange.head(2)"
   ]
  },
  {
   "cell_type": "code",
   "execution_count": 10,
   "metadata": {
    "ExecuteTime": {
     "end_time": "2020-10-04T18:56:54.847631Z",
     "start_time": "2020-10-04T18:56:54.818397Z"
    }
   },
   "outputs": [
    {
     "data": {
      "text/plain": [
       "fourth_moves  resultat\n",
       "b1c3          0-1          4\n",
       "              1-0          3\n",
       "c1e3          0-1          3\n",
       "c1f4          0-1          3\n",
       "              1-0          3\n",
       "c2c3          0-1          2\n",
       "              1-0          5\n",
       "c2c4          0-1          9\n",
       "              1-0         13\n",
       "              1/2-1/2      1\n",
       "d2d4          0-1          1\n",
       "f1b5          0-1          1\n",
       "f1d3          0-1         25\n",
       "              1-0         19\n",
       "              1/2-1/2      5\n",
       "f2f4          0-1          1\n",
       "g1f3          0-1         20\n",
       "              1-0         24\n",
       "              1/2-1/2      4\n",
       "h2h3          0-1          1\n",
       "Name: nb, dtype: int64"
      ]
     },
     "execution_count": 10,
     "metadata": {},
     "output_type": "execute_result"
    }
   ],
   "source": [
    "french_exchange.groupby([\"fourth_moves\", \"resultat\"]).agg(\"count\")[\"nb\"]"
   ]
  },
  {
   "cell_type": "markdown",
   "metadata": {},
   "source": [
    "<h4>French advance </h4>"
   ]
  },
  {
   "cell_type": "code",
   "execution_count": 11,
   "metadata": {
    "ExecuteTime": {
     "end_time": "2020-10-04T18:57:30.296850Z",
     "start_time": "2020-10-04T18:57:30.283293Z"
    }
   },
   "outputs": [
    {
     "data": {
      "text/plain": [
       "192"
      ]
     },
     "execution_count": 11,
     "metadata": {},
     "output_type": "execute_result"
    }
   ],
   "source": [
    "french_advance = french[french[\"ECO\"]==\"C02\"] ; len(french_advance)"
   ]
  },
  {
   "cell_type": "code",
   "execution_count": 12,
   "metadata": {
    "ExecuteTime": {
     "end_time": "2020-10-04T18:57:32.641332Z",
     "start_time": "2020-10-04T18:57:32.624561Z"
    }
   },
   "outputs": [
    {
     "data": {
      "text/plain": [
       "0-1        94\n",
       "1-0        88\n",
       "1/2-1/2    10\n",
       "Name: resultat, dtype: int64"
      ]
     },
     "execution_count": 12,
     "metadata": {},
     "output_type": "execute_result"
    }
   ],
   "source": [
    "french_advance[\"resultat\"].value_counts()"
   ]
  },
  {
   "cell_type": "code",
   "execution_count": 13,
   "metadata": {
    "ExecuteTime": {
     "end_time": "2020-10-04T18:57:44.040465Z",
     "start_time": "2020-10-04T18:57:44.018773Z"
    }
   },
   "outputs": [
    {
     "data": {
      "text/plain": [
       "a2a3    61\n",
       "f1d3    49\n",
       "g1f3    22\n",
       "f1e2    20\n",
       "e1g1    10\n",
       "d4c5     9\n",
       "f1b5     3\n",
       "b1d2     2\n",
       "d4c6     2\n",
       "g2g3     2\n",
       "b3b6     2\n",
       "d1b3     2\n",
       "f3d4     2\n",
       "b2b3     1\n",
       "d1c2     1\n",
       "g4g7     1\n",
       "g1e2     1\n",
       "a2a4     1\n",
       "b1c3     1\n",
       "Name: sixth_moves, dtype: int64"
      ]
     },
     "execution_count": 13,
     "metadata": {},
     "output_type": "execute_result"
    }
   ],
   "source": [
    "french_advance[\"sixth_moves\"] = french_advance[\"moves\"].apply(lambda x: fonctions.find_move_n(x, 6)) ; french_advance[\"sixth_moves\"].value_counts()"
   ]
  },
  {
   "cell_type": "code",
   "execution_count": 15,
   "metadata": {
    "ExecuteTime": {
     "end_time": "2020-10-04T18:58:04.444753Z",
     "start_time": "2020-10-04T18:58:04.410676Z"
    }
   },
   "outputs": [
    {
     "data": {
      "text/plain": [
       "sixth_moves  resultat\n",
       "a2a3         0-1         22\n",
       "             1-0         36\n",
       "             1/2-1/2      3\n",
       "f1d3         0-1         24\n",
       "             1-0         25\n",
       "f1e2         0-1         13\n",
       "             1-0          5\n",
       "             1/2-1/2      2\n",
       "Name: nb, dtype: int64"
      ]
     },
     "execution_count": 15,
     "metadata": {},
     "output_type": "execute_result"
    }
   ],
   "source": [
    "filtre = (french_advance[\"sixth_moves\"] == \"a2a3\") | (french_advance[\"sixth_moves\"] == \"f1d3\") | (french_advance[\"sixth_moves\"] == \"f1e2\")\n",
    "french_advance[filtre].groupby([\"sixth_moves\", \"resultat\"]).agg(\"count\")[\"nb\"]"
   ]
  },
  {
   "cell_type": "markdown",
   "metadata": {},
   "source": [
    "<h4>Tarrasch </h4>"
   ]
  },
  {
   "cell_type": "code",
   "execution_count": 17,
   "metadata": {
    "ExecuteTime": {
     "end_time": "2020-10-04T19:01:22.466255Z",
     "start_time": "2020-10-04T19:01:22.442668Z"
    }
   },
   "outputs": [
    {
     "data": {
      "text/plain": [
       "300"
      ]
     },
     "execution_count": 17,
     "metadata": {},
     "output_type": "execute_result"
    }
   ],
   "source": [
    "tarrasch_french = french[french[\"variation\"]==\"Tarrasch Variation\"] ; len(tarrasch_french)"
   ]
  },
  {
   "cell_type": "code",
   "execution_count": 18,
   "metadata": {
    "ExecuteTime": {
     "end_time": "2020-10-04T19:01:26.627343Z",
     "start_time": "2020-10-04T19:01:26.603181Z"
    }
   },
   "outputs": [
    {
     "data": {
      "text/plain": [
       "0-1        152\n",
       "1-0        139\n",
       "1/2-1/2      9\n",
       "Name: resultat, dtype: int64"
      ]
     },
     "execution_count": 18,
     "metadata": {},
     "output_type": "execute_result"
    }
   ],
   "source": [
    "tarrasch_french[\"resultat\"].value_counts()"
   ]
  },
  {
   "cell_type": "code",
   "execution_count": 19,
   "metadata": {
    "ExecuteTime": {
     "end_time": "2020-10-04T19:01:35.326650Z",
     "start_time": "2020-10-04T19:01:35.302636Z"
    }
   },
   "outputs": [
    {
     "data": {
      "text/plain": [
       "45"
      ]
     },
     "execution_count": 19,
     "metadata": {},
     "output_type": "execute_result"
    }
   ],
   "source": [
    "f4_bool = tarrasch_french[\"moves\"].apply(lambda x: True if \"f2f4\" in x.split(\" \")[:13] else False)\n",
    "tarrasch_f4 = tarrasch_french[f4_bool] ; len(tarrasch_f4)"
   ]
  },
  {
   "cell_type": "code",
   "execution_count": 20,
   "metadata": {
    "ExecuteTime": {
     "end_time": "2020-10-04T19:01:38.733339Z",
     "start_time": "2020-10-04T19:01:38.710365Z"
    }
   },
   "outputs": [
    {
     "data": {
      "text/plain": [
       "resultat\n",
       "0-1    30\n",
       "1-0    15\n",
       "Name: nb, dtype: int64"
      ]
     },
     "execution_count": 20,
     "metadata": {},
     "output_type": "execute_result"
    }
   ],
   "source": [
    "tarrasch_f4.groupby([\"resultat\"]).agg(\"count\")[\"nb\"]"
   ]
  },
  {
   "cell_type": "code",
   "execution_count": 21,
   "metadata": {
    "ExecuteTime": {
     "end_time": "2020-10-04T19:01:50.868529Z",
     "start_time": "2020-10-04T19:01:50.842409Z"
    }
   },
   "outputs": [
    {
     "data": {
      "text/plain": [
       "207"
      ]
     },
     "execution_count": 21,
     "metadata": {},
     "output_type": "execute_result"
    }
   ],
   "source": [
    "Bd3_bool = tarrasch_french[\"moves\"].apply(lambda x: True if \"f1d3\" in x.split(\" \")[:13] else False)\n",
    "tarrasch_Bd3 = tarrasch_french[Bd3_bool] ; len(tarrasch_Bd3)"
   ]
  },
  {
   "cell_type": "code",
   "execution_count": 22,
   "metadata": {
    "ExecuteTime": {
     "end_time": "2020-10-04T19:01:53.615586Z",
     "start_time": "2020-10-04T19:01:53.596134Z"
    }
   },
   "outputs": [
    {
     "data": {
      "text/plain": [
       "0-1        100\n",
       "1-0        100\n",
       "1/2-1/2      7\n",
       "Name: resultat, dtype: int64"
      ]
     },
     "execution_count": 22,
     "metadata": {},
     "output_type": "execute_result"
    }
   ],
   "source": [
    "tarrasch_Bd3[\"resultat\"].value_counts()"
   ]
  },
  {
   "cell_type": "code",
   "execution_count": 23,
   "metadata": {
    "ExecuteTime": {
     "end_time": "2020-10-04T19:02:07.254458Z",
     "start_time": "2020-10-04T19:02:07.225198Z"
    }
   },
   "outputs": [
    {
     "data": {
      "text/plain": [
       "0-1        13\n",
       "1-0        13\n",
       "1/2-1/2     1\n",
       "Name: resultat, dtype: int64"
      ]
     },
     "execution_count": 23,
     "metadata": {},
     "output_type": "execute_result"
    }
   ],
   "source": [
    "Nf4_bool = tarrasch_french[\"moves\"].apply(lambda x: True if \"e2f4\" in x.split(\" \")[:20] else False)\n",
    "tarrasch_Nf4 = tarrasch_french[Nf4_bool] ; tarrasch_Nf4[\"resultat\"].value_counts()"
   ]
  },
  {
   "cell_type": "markdown",
   "metadata": {},
   "source": [
    "<h4>Winawer</h4>"
   ]
  },
  {
   "cell_type": "code",
   "execution_count": 24,
   "metadata": {
    "ExecuteTime": {
     "end_time": "2020-10-04T19:02:21.403187Z",
     "start_time": "2020-10-04T19:02:21.377768Z"
    }
   },
   "outputs": [
    {
     "data": {
      "text/plain": [
       "419"
      ]
     },
     "execution_count": 24,
     "metadata": {},
     "output_type": "execute_result"
    }
   ],
   "source": [
    "winawer = french[french[\"variation\"]==\"Winawer\"] ; len(winawer)"
   ]
  },
  {
   "cell_type": "code",
   "execution_count": 25,
   "metadata": {
    "ExecuteTime": {
     "end_time": "2020-10-04T19:02:27.173221Z",
     "start_time": "2020-10-04T19:02:27.155074Z"
    }
   },
   "outputs": [
    {
     "data": {
      "text/plain": [
       "e4e5    261\n",
       "e4d5     45\n",
       "g1e2     44\n",
       "a2a3     26\n",
       "d1g4     15\n",
       "f1d3     13\n",
       "c1d2      9\n",
       "d1d3      4\n",
       "c1e3      1\n",
       "e2e4      1\n",
       "Name: fourth_move, dtype: int64"
      ]
     },
     "execution_count": 25,
     "metadata": {},
     "output_type": "execute_result"
    }
   ],
   "source": [
    "winawer[\"fourth_move\"] = winawer[\"moves\"].apply(lambda x: fonctions.find_move_n(x, 4)) ; winawer[\"fourth_move\"].value_counts()"
   ]
  },
  {
   "cell_type": "code",
   "execution_count": 26,
   "metadata": {
    "ExecuteTime": {
     "end_time": "2020-10-04T19:02:38.881391Z",
     "start_time": "2020-10-04T19:02:38.857167Z"
    }
   },
   "outputs": [
    {
     "data": {
      "text/plain": [
       "fourth_move  resultat\n",
       "a2a3         0-1          12\n",
       "             1-0          12\n",
       "             1/2-1/2       2\n",
       "c1d2         0-1           5\n",
       "             1-0           4\n",
       "c1e3         0-1           1\n",
       "d1d3         0-1           2\n",
       "             1-0           2\n",
       "d1g4         0-1           8\n",
       "             1-0           7\n",
       "e2e4         0-1           1\n",
       "e4d5         0-1          20\n",
       "             1-0          20\n",
       "             1/2-1/2       5\n",
       "e4e5         0-1         133\n",
       "             1-0         114\n",
       "             1/2-1/2      14\n",
       "f1d3         0-1          10\n",
       "             1-0           3\n",
       "g1e2         0-1          18\n",
       "             1-0          23\n",
       "             1/2-1/2       3\n",
       "Name: nb, dtype: int64"
      ]
     },
     "execution_count": 26,
     "metadata": {},
     "output_type": "execute_result"
    }
   ],
   "source": [
    "winawer.groupby([\"fourth_move\", \"resultat\"]).agg(\"count\")[\"nb\"]"
   ]
  },
  {
   "cell_type": "code",
   "execution_count": 27,
   "metadata": {
    "ExecuteTime": {
     "end_time": "2020-10-04T19:03:08.643146Z",
     "start_time": "2020-10-04T19:03:08.620203Z"
    }
   },
   "outputs": [
    {
     "data": {
      "text/plain": [
       "1-0        21\n",
       "0-1        14\n",
       "1/2-1/2     2\n",
       "Name: resultat, dtype: int64"
      ]
     },
     "execution_count": 27,
     "metadata": {},
     "output_type": "execute_result"
    }
   ],
   "source": [
    "bool_Nc6 = winawer[\"moves\"].apply(lambda x: x.startswith( \" e2e4 e7e6 d2d4 d7d5 b1c3 f8b4 g1e2 b8c6\", 0, len(x)))\n",
    "winawer_Ne2_Nc6 = winawer[bool_Nc6] ; winawer_Ne2_Nc6[\"resultat\"].value_counts()"
   ]
  },
  {
   "cell_type": "code",
   "execution_count": 29,
   "metadata": {
    "ExecuteTime": {
     "end_time": "2020-10-04T19:03:56.865301Z",
     "start_time": "2020-10-04T19:03:56.840994Z"
    }
   },
   "outputs": [
    {
     "data": {
      "text/plain": [
       "0-1        21\n",
       "1-0        19\n",
       "1/2-1/2     3\n",
       "Name: resultat, dtype: int64"
      ]
     },
     "execution_count": 29,
     "metadata": {},
     "output_type": "execute_result"
    }
   ],
   "source": [
    "bool_Bd2 = winawer[\"moves\"].apply(lambda x: x.startswith( \" e2e4 e7e6 d2d4 d7d5 b1c3 f8b4 e4e5 c7c5 c1d2\", 0, len(x)))\n",
    "winawer_Bd2 = winawer[bool_Bd2] ; winawer_Bd2[\"resultat\"].value_counts()"
   ]
  },
  {
   "cell_type": "code",
   "execution_count": 30,
   "metadata": {
    "ExecuteTime": {
     "end_time": "2020-10-04T19:04:50.526374Z",
     "start_time": "2020-10-04T19:04:50.501247Z"
    }
   },
   "outputs": [
    {
     "data": {
      "text/plain": [
       "1-0        8\n",
       "0-1        3\n",
       "1/2-1/2    1\n",
       "Name: resultat, dtype: int64"
      ]
     },
     "execution_count": 30,
     "metadata": {},
     "output_type": "execute_result"
    }
   ],
   "source": [
    "bool_Qg4 = winawer[\"moves\"].apply(lambda x: x.startswith( \" e2e4 e7e6 d2d4 d7d5 b1c3 f8b4 e4e5 c7c5 d1g4\", 0, len(x)))\n",
    "winawer_Qg4 = winawer[bool_Qg4] ; winawer_Qg4[\"resultat\"].value_counts()"
   ]
  },
  {
   "cell_type": "code",
   "execution_count": 31,
   "metadata": {
    "ExecuteTime": {
     "end_time": "2020-10-04T19:05:20.314550Z",
     "start_time": "2020-10-04T19:05:20.290029Z"
    }
   },
   "outputs": [
    {
     "data": {
      "text/plain": [
       "261"
      ]
     },
     "execution_count": 31,
     "metadata": {},
     "output_type": "execute_result"
    }
   ],
   "source": [
    "winawer_main_line = winawer[winawer[\"fourth_move\"]==\"e4e5\"] ; len(winawer_main_line)"
   ]
  },
  {
   "cell_type": "code",
   "execution_count": 32,
   "metadata": {
    "ExecuteTime": {
     "end_time": "2020-10-04T19:05:23.801031Z",
     "start_time": "2020-10-04T19:05:23.742830Z"
    }
   },
   "outputs": [
    {
     "data": {
      "text/html": [
       "<div>\n",
       "<style scoped>\n",
       "    .dataframe tbody tr th:only-of-type {\n",
       "        vertical-align: middle;\n",
       "    }\n",
       "\n",
       "    .dataframe tbody tr th {\n",
       "        vertical-align: top;\n",
       "    }\n",
       "\n",
       "    .dataframe thead th {\n",
       "        text-align: right;\n",
       "    }\n",
       "</style>\n",
       "<table border=\"1\" class=\"dataframe\">\n",
       "  <thead>\n",
       "    <tr style=\"text-align: right;\">\n",
       "      <th></th>\n",
       "      <th>date</th>\n",
       "      <th>white</th>\n",
       "      <th>white elo</th>\n",
       "      <th>black</th>\n",
       "      <th>black elo</th>\n",
       "      <th>resultat</th>\n",
       "      <th>ECO</th>\n",
       "      <th>perf white</th>\n",
       "      <th>perf black</th>\n",
       "      <th>moves</th>\n",
       "      <th>number of moves</th>\n",
       "      <th>opening</th>\n",
       "      <th>variation</th>\n",
       "      <th>year</th>\n",
       "      <th>nb</th>\n",
       "      <th>fourth_move</th>\n",
       "      <th>seven_moves</th>\n",
       "    </tr>\n",
       "  </thead>\n",
       "  <tbody>\n",
       "    <tr>\n",
       "      <th>5</th>\n",
       "      <td>2020-10-03</td>\n",
       "      <td>dline</td>\n",
       "      <td>2106</td>\n",
       "      <td>yacine63</td>\n",
       "      <td>2157</td>\n",
       "      <td>0-1</td>\n",
       "      <td>C19</td>\n",
       "      <td>-5.0</td>\n",
       "      <td>5.0</td>\n",
       "      <td>e2e4 e7e6 d2d4 d7d5 b1c3 f8b4 e4e5 c7c5 a2a3 ...</td>\n",
       "      <td>79</td>\n",
       "      <td>French</td>\n",
       "      <td>Winawer</td>\n",
       "      <td>2020</td>\n",
       "      <td>1</td>\n",
       "      <td>e4e5</td>\n",
       "      <td>d1g4</td>\n",
       "    </tr>\n",
       "    <tr>\n",
       "      <th>45</th>\n",
       "      <td>2020-09-27</td>\n",
       "      <td>DJOKOTAMBAK</td>\n",
       "      <td>2189</td>\n",
       "      <td>yacine63</td>\n",
       "      <td>2209</td>\n",
       "      <td>1-0</td>\n",
       "      <td>C19</td>\n",
       "      <td>6.0</td>\n",
       "      <td>-6.0</td>\n",
       "      <td>e2e4 e7e6 d2d4 d7d5 b1c3 f8b4 e4e5 c7c5 a2a3 ...</td>\n",
       "      <td>106</td>\n",
       "      <td>French</td>\n",
       "      <td>Winawer</td>\n",
       "      <td>2020</td>\n",
       "      <td>1</td>\n",
       "      <td>e4e5</td>\n",
       "      <td>f1d3</td>\n",
       "    </tr>\n",
       "  </tbody>\n",
       "</table>\n",
       "</div>"
      ],
      "text/plain": [
       "         date        white white elo     black black elo resultat  ECO  \\\n",
       "5  2020-10-03        dline      2106  yacine63      2157      0-1  C19   \n",
       "45 2020-09-27  DJOKOTAMBAK      2189  yacine63      2209      1-0  C19   \n",
       "\n",
       "   perf white perf black                                              moves  \\\n",
       "5        -5.0        5.0   e2e4 e7e6 d2d4 d7d5 b1c3 f8b4 e4e5 c7c5 a2a3 ...   \n",
       "45        6.0       -6.0   e2e4 e7e6 d2d4 d7d5 b1c3 f8b4 e4e5 c7c5 a2a3 ...   \n",
       "\n",
       "    number of moves opening variation  year  nb fourth_move seven_moves  \n",
       "5                79  French   Winawer  2020   1        e4e5        d1g4  \n",
       "45              106  French   Winawer  2020   1        e4e5        f1d3  "
      ]
     },
     "execution_count": 32,
     "metadata": {},
     "output_type": "execute_result"
    }
   ],
   "source": [
    "winawer_main_line[\"seven_moves\"] = winawer_main_line[\"moves\"].apply(lambda x: fonctions.find_move_n(x, 7)) ; winawer_main_line.head(2)"
   ]
  },
  {
   "cell_type": "code",
   "execution_count": 33,
   "metadata": {
    "ExecuteTime": {
     "end_time": "2020-10-04T19:05:35.034225Z",
     "start_time": "2020-10-04T19:05:34.990557Z"
    }
   },
   "outputs": [
    {
     "data": {
      "text/plain": [
       "seven_moves  resultat\n",
       "a2a3         0-1          4\n",
       "             1-0          4\n",
       "a3a4         0-1          5\n",
       "             1-0          5\n",
       "             1/2-1/2      1\n",
       "b2b4         1-0          4\n",
       "b2c3         0-1          1\n",
       "             1-0          3\n",
       "b5d4         0-1          1\n",
       "             1-0          1\n",
       "c1d2         0-1          3\n",
       "             1-0          1\n",
       "c1e3         0-1          1\n",
       "c1f4         1-0          1\n",
       "c3b5         0-1          2\n",
       "             1-0          1\n",
       "d1d2         0-1         14\n",
       "             1-0          9\n",
       "             1/2-1/2      2\n",
       "d1d4         1-0          1\n",
       "d1g4         0-1         62\n",
       "             1-0         48\n",
       "             1/2-1/2      7\n",
       "d2c3         0-1          1\n",
       "d4c5         0-1          1\n",
       "             1-0          4\n",
       "             1/2-1/2      1\n",
       "d4d3         0-1          1\n",
       "e1g1         1-0          1\n",
       "f1b5         1-0          3\n",
       "f1d3         0-1          3\n",
       "             1-0          2\n",
       "             1/2-1/2      2\n",
       "f2f4         0-1          4\n",
       "             1-0          2\n",
       "g1f3         0-1         19\n",
       "             1-0         14\n",
       "g7h7         1-0          1\n",
       "g7h8         1-0          1\n",
       "h2h4         0-1         11\n",
       "             1-0          8\n",
       "             1/2-1/2      1\n",
       "Name: nb, dtype: int64"
      ]
     },
     "execution_count": 33,
     "metadata": {},
     "output_type": "execute_result"
    }
   ],
   "source": [
    "winawer_main_line.groupby([\"seven_moves\", \"resultat\"]).agg(\"count\")[\"nb\"]"
   ]
  },
  {
   "cell_type": "markdown",
   "metadata": {},
   "source": [
    "<h2> Grunfeld defence </h2>"
   ]
  },
  {
   "cell_type": "code",
   "execution_count": 34,
   "metadata": {
    "ExecuteTime": {
     "end_time": "2020-10-04T19:06:58.205239Z",
     "start_time": "2020-10-04T19:06:58.176625Z"
    }
   },
   "outputs": [
    {
     "data": {
      "text/plain": [
       "523"
      ]
     },
     "execution_count": 34,
     "metadata": {},
     "output_type": "execute_result"
    }
   ],
   "source": [
    "grunfeld = games_df[(games_df[\"black\"]==\"yacine63\") & (games_df[\"opening\"]==\"Grunfeld Defence\")] ; len(grunfeld)"
   ]
  },
  {
   "cell_type": "code",
   "execution_count": 35,
   "metadata": {
    "ExecuteTime": {
     "end_time": "2020-10-04T19:07:19.193854Z",
     "start_time": "2020-10-04T19:07:19.171710Z"
    }
   },
   "outputs": [
    {
     "data": {
      "text/plain": [
       "Exchange Variation               222\n",
       "Bg5 variation                     76\n",
       "Grünfled Fianchetto variation     73\n",
       "Bf4 variation                     46\n",
       "Botvinnik variation               43\n",
       "5.e3 variation                    35\n",
       "Russian variation                 20\n",
       "Grünfeld Saëmisch                  8\n",
       "Name: variation, dtype: int64"
      ]
     },
     "execution_count": 35,
     "metadata": {},
     "output_type": "execute_result"
    }
   ],
   "source": [
    "grunfeld[\"variation\"].value_counts()"
   ]
  },
  {
   "cell_type": "code",
   "execution_count": 36,
   "metadata": {
    "ExecuteTime": {
     "end_time": "2020-10-04T19:07:26.355891Z",
     "start_time": "2020-10-04T19:07:26.328653Z"
    }
   },
   "outputs": [
    {
     "data": {
      "text/plain": [
       "variation                      resultat\n",
       "5.e3 variation                 0-1          23\n",
       "                               1-0          10\n",
       "                               1/2-1/2       2\n",
       "Bf4 variation                  0-1          22\n",
       "                               1-0          21\n",
       "                               1/2-1/2       3\n",
       "Bg5 variation                  0-1          38\n",
       "                               1-0          34\n",
       "                               1/2-1/2       4\n",
       "Botvinnik variation            0-1          25\n",
       "                               1-0          17\n",
       "                               1/2-1/2       1\n",
       "Exchange Variation             0-1         105\n",
       "                               1-0         102\n",
       "                               1/2-1/2      15\n",
       "Grünfeld Saëmisch              0-1           6\n",
       "                               1-0           2\n",
       "Grünfled Fianchetto variation  0-1          33\n",
       "                               1-0          37\n",
       "                               1/2-1/2       3\n",
       "Russian variation              0-1           8\n",
       "                               1-0          12\n",
       "Name: nb, dtype: int64"
      ]
     },
     "execution_count": 36,
     "metadata": {},
     "output_type": "execute_result"
    }
   ],
   "source": [
    "grunfeld.groupby([\"variation\", \"resultat\"]).agg(\"count\")[\"nb\"]"
   ]
  },
  {
   "cell_type": "code",
   "execution_count": 37,
   "metadata": {
    "ExecuteTime": {
     "end_time": "2020-10-04T19:09:19.198195Z",
     "start_time": "2020-10-04T19:09:19.183775Z"
    }
   },
   "outputs": [
    {
     "data": {
      "text/plain": [
       "73"
      ]
     },
     "execution_count": 37,
     "metadata": {},
     "output_type": "execute_result"
    }
   ],
   "source": [
    "grunfeld_fianchetto = grunfeld[grunfeld[\"variation\"]==\"Grünfled Fianchetto variation\"] ; len(grunfeld_fianchetto)"
   ]
  },
  {
   "cell_type": "code",
   "execution_count": 38,
   "metadata": {
    "ExecuteTime": {
     "end_time": "2020-10-04T19:09:21.155074Z",
     "start_time": "2020-10-04T19:09:21.087922Z"
    }
   },
   "outputs": [
    {
     "data": {
      "text/plain": [
       "third move  fourth move  resultat\n",
       "c2c4        g2g3         0-1          2\n",
       "                         1-0          3\n",
       "                         1/2-1/2      1\n",
       "d2d4        g2g3         0-1          1\n",
       "                         1-0          1\n",
       "f1g2        c2c4         1-0          1\n",
       "            c4d5         1-0          1\n",
       "            e1g1         0-1          3\n",
       "                         1-0          3\n",
       "            g1f3         0-1          2\n",
       "g1f3        g2g3         0-1          2\n",
       "                         1-0         13\n",
       "                         1/2-1/2      1\n",
       "g2g3        c4d5         1-0          2\n",
       "            d2d4         1-0          1\n",
       "            f1g2         0-1         23\n",
       "                         1-0         12\n",
       "                         1/2-1/2      1\n",
       "Name: nb, dtype: int64"
      ]
     },
     "execution_count": 38,
     "metadata": {},
     "output_type": "execute_result"
    }
   ],
   "source": [
    "grunfeld_fianchetto[\"third move\"] = grunfeld_fianchetto[\"moves\"].apply(lambda x: fonctions.find_move_n(x, 3))\n",
    "grunfeld_fianchetto[\"fourth move\"] = grunfeld_fianchetto[\"moves\"].apply(lambda x: fonctions.find_move_n(x, 4))\n",
    "grunfeld_fianchetto[\"fifth move\"] = grunfeld_fianchetto[\"moves\"].apply(lambda x: fonctions.find_move_n(x, 5))\n",
    "grunfeld_fianchetto.groupby([\"third move\", \"fourth move\",\"resultat\"]).agg(\"count\")[\"nb\"]"
   ]
  },
  {
   "cell_type": "code",
   "execution_count": 39,
   "metadata": {
    "ExecuteTime": {
     "end_time": "2020-10-04T19:10:42.163856Z",
     "start_time": "2020-10-04T19:10:42.133879Z"
    }
   },
   "outputs": [
    {
     "data": {
      "text/plain": [
       "3148"
      ]
     },
     "execution_count": 39,
     "metadata": {},
     "output_type": "execute_result"
    }
   ],
   "source": [
    "white = games_df[games_df[\"white\"]==\"yacine63\"] ; len(white)"
   ]
  },
  {
   "cell_type": "code",
   "execution_count": 40,
   "metadata": {
    "ExecuteTime": {
     "end_time": "2020-10-04T19:10:45.661909Z",
     "start_time": "2020-10-04T19:10:45.640994Z"
    }
   },
   "outputs": [
    {
     "data": {
      "text/plain": [
       "Queen's Gambit                       711\n",
       "Queen's Indian                       643\n",
       "Benoni defense                       517\n",
       "King's Indian                        489\n",
       "English Opening                      218\n",
       "Trompowsky                           211\n",
       "QGD                                  123\n",
       "Grunfeld Defence                     110\n",
       "Dutch                                 96\n",
       "Irregular                             20\n",
       "Nimzo Indian                           5\n",
       "Alekhine, scandinave and other e4      2\n",
       "Caro-KAnn                              1\n",
       "e4 e5                                  1\n",
       "French                                 1\n",
       "Name: opening, dtype: int64"
      ]
     },
     "execution_count": 40,
     "metadata": {},
     "output_type": "execute_result"
    }
   ],
   "source": [
    "white[\"opening\"].value_counts()"
   ]
  },
  {
   "cell_type": "code",
   "execution_count": 41,
   "metadata": {
    "ExecuteTime": {
     "end_time": "2020-10-04T19:10:51.127869Z",
     "start_time": "2020-10-04T19:10:51.105237Z"
    }
   },
   "outputs": [
    {
     "data": {
      "text/plain": [
       "711"
      ]
     },
     "execution_count": 41,
     "metadata": {},
     "output_type": "execute_result"
    }
   ],
   "source": [
    "d4_d5 = white[white[\"opening\"]==\"Queen's Gambit\"] ; len(d4_d5)"
   ]
  },
  {
   "cell_type": "code",
   "execution_count": 42,
   "metadata": {
    "ExecuteTime": {
     "end_time": "2020-10-04T19:10:56.161911Z",
     "start_time": "2020-10-04T19:10:55.602901Z"
    }
   },
   "outputs": [
    {
     "name": "stdout",
     "output_type": "stream",
     "text": [
      "711\n"
     ]
    },
    {
     "data": {
      "image/png": "[encoded data removed]",
      "text/plain": [
       "<Figure size 432x288 with 1 Axes>"
      ]
     },
     "metadata": {
      "needs_background": "light"
     },
     "output_type": "display_data"
    }
   ],
   "source": [
    "stats.compute_scored_opening(white, \"yacine63\", \"Queen's Gambit\", \"white\")"
   ]
  },
  {
   "cell_type": "code",
   "execution_count": 43,
   "metadata": {
    "ExecuteTime": {
     "end_time": "2020-10-04T19:11:25.252016Z",
     "start_time": "2020-10-04T19:11:25.234861Z"
    }
   },
   "outputs": [
    {
     "data": {
      "text/plain": [
       "643"
      ]
     },
     "execution_count": 43,
     "metadata": {},
     "output_type": "execute_result"
    }
   ],
   "source": [
    "queen_indian = white[white[\"opening\"]==\"Queen's Indian\"] ; len(queen_indian)"
   ]
  },
  {
   "cell_type": "code",
   "execution_count": 44,
   "metadata": {
    "ExecuteTime": {
     "end_time": "2020-10-04T19:11:28.946940Z",
     "start_time": "2020-10-04T19:11:28.266221Z"
    }
   },
   "outputs": [
    {
     "name": "stdout",
     "output_type": "stream",
     "text": [
      "643\n"
     ]
    },
    {
     "data": {
      "image/png": "[encoded data removed]",
      "text/plain": [
       "<Figure size 432x288 with 1 Axes>"
      ]
     },
     "metadata": {
      "needs_background": "light"
     },
     "output_type": "display_data"
    }
   ],
   "source": [
    "stats.compute_scored_opening(white, \"yacine63\", \"Queen's Indian\", \"white\")"
   ]
  },
  {
   "cell_type": "code",
   "execution_count": 45,
   "metadata": {
    "ExecuteTime": {
     "end_time": "2020-10-04T19:11:42.454168Z",
     "start_time": "2020-10-04T19:11:42.432233Z"
    }
   },
   "outputs": [
    {
     "data": {
      "text/plain": [
       "603"
      ]
     },
     "execution_count": 45,
     "metadata": {},
     "output_type": "execute_result"
    }
   ],
   "source": [
    "catalane = games_df[games_df[\"variation\"]==\"Catalane\"] ; len(catalane)"
   ]
  },
  {
   "cell_type": "code",
   "execution_count": 46,
   "metadata": {
    "ExecuteTime": {
     "end_time": "2020-10-04T19:11:45.232820Z",
     "start_time": "2020-10-04T19:11:45.210149Z"
    }
   },
   "outputs": [
    {
     "data": {
      "text/plain": [
       "603"
      ]
     },
     "execution_count": 46,
     "metadata": {},
     "output_type": "execute_result"
    }
   ],
   "source": [
    "catalane[\"moves\"] = catalane[\"moves\"].apply(lambda x: x[1:]) ; len(catalane)"
   ]
  },
  {
   "cell_type": "code",
   "execution_count": 47,
   "metadata": {
    "ExecuteTime": {
     "end_time": "2020-10-04T19:11:48.878029Z",
     "start_time": "2020-10-04T19:11:48.809920Z"
    }
   },
   "outputs": [
    {
     "data": {
      "text/html": [
       "<div>\n",
       "<style scoped>\n",
       "    .dataframe tbody tr th:only-of-type {\n",
       "        vertical-align: middle;\n",
       "    }\n",
       "\n",
       "    .dataframe tbody tr th {\n",
       "        vertical-align: top;\n",
       "    }\n",
       "\n",
       "    .dataframe thead th {\n",
       "        text-align: right;\n",
       "    }\n",
       "</style>\n",
       "<table border=\"1\" class=\"dataframe\">\n",
       "  <thead>\n",
       "    <tr style=\"text-align: right;\">\n",
       "      <th></th>\n",
       "      <th>date</th>\n",
       "      <th>white</th>\n",
       "      <th>white elo</th>\n",
       "      <th>black</th>\n",
       "      <th>black elo</th>\n",
       "      <th>resultat</th>\n",
       "      <th>ECO</th>\n",
       "      <th>perf white</th>\n",
       "      <th>perf black</th>\n",
       "      <th>moves</th>\n",
       "      <th>number of moves</th>\n",
       "      <th>opening</th>\n",
       "      <th>variation</th>\n",
       "      <th>year</th>\n",
       "      <th>nb</th>\n",
       "      <th>fourth_moves</th>\n",
       "    </tr>\n",
       "  </thead>\n",
       "  <tbody>\n",
       "    <tr>\n",
       "      <th>1</th>\n",
       "      <td>2020-10-03</td>\n",
       "      <td>yacine63</td>\n",
       "      <td>2158</td>\n",
       "      <td>Du_Verloren</td>\n",
       "      <td>2081</td>\n",
       "      <td>1-0</td>\n",
       "      <td>E01</td>\n",
       "      <td>4.0</td>\n",
       "      <td>-4.0</td>\n",
       "      <td>d2d4 g8f6 c2c4 e7e6 g2g3 d7d5 f1g2 f8b4 c1d2 b...</td>\n",
       "      <td>64</td>\n",
       "      <td>Queen's Indian</td>\n",
       "      <td>Catalane</td>\n",
       "      <td>2020</td>\n",
       "      <td>1</td>\n",
       "      <td>f8b4</td>\n",
       "    </tr>\n",
       "    <tr>\n",
       "      <th>20</th>\n",
       "      <td>2020-10-02</td>\n",
       "      <td>yacine63</td>\n",
       "      <td>2171</td>\n",
       "      <td>Maikl20000</td>\n",
       "      <td>2073</td>\n",
       "      <td>1/2-1/2</td>\n",
       "      <td>E01</td>\n",
       "      <td>-1.0</td>\n",
       "      <td>2.0</td>\n",
       "      <td>d2d4 g8f6 c2c4 e7e6 g2g3 d7d5 f1g2 f8b4 c1d2 b...</td>\n",
       "      <td>155</td>\n",
       "      <td>Queen's Indian</td>\n",
       "      <td>Catalane</td>\n",
       "      <td>2020</td>\n",
       "      <td>1</td>\n",
       "      <td>f8b4</td>\n",
       "    </tr>\n",
       "  </tbody>\n",
       "</table>\n",
       "</div>"
      ],
      "text/plain": [
       "         date     white white elo        black black elo resultat  ECO  \\\n",
       "1  2020-10-03  yacine63      2158  Du_Verloren      2081      1-0  E01   \n",
       "20 2020-10-02  yacine63      2171   Maikl20000      2073  1/2-1/2  E01   \n",
       "\n",
       "   perf white perf black                                              moves  \\\n",
       "1         4.0       -4.0  d2d4 g8f6 c2c4 e7e6 g2g3 d7d5 f1g2 f8b4 c1d2 b...   \n",
       "20       -1.0        2.0  d2d4 g8f6 c2c4 e7e6 g2g3 d7d5 f1g2 f8b4 c1d2 b...   \n",
       "\n",
       "    number of moves         opening variation  year  nb fourth_moves  \n",
       "1                64  Queen's Indian  Catalane  2020   1         f8b4  \n",
       "20              155  Queen's Indian  Catalane  2020   1         f8b4  "
      ]
     },
     "execution_count": 47,
     "metadata": {},
     "output_type": "execute_result"
    }
   ],
   "source": [
    "catalane[\"fourth_moves\"] = catalane[\"moves\"].apply(lambda x: fonctions.find_move_n(x, 4)) ; catalane.head(2)"
   ]
  },
  {
   "cell_type": "code",
   "execution_count": 48,
   "metadata": {
    "ExecuteTime": {
     "end_time": "2020-10-04T19:11:57.439144Z",
     "start_time": "2020-10-04T19:11:57.399028Z"
    }
   },
   "outputs": [
    {
     "data": {
      "text/plain": [
       "fourth_moves  resultat\n",
       "f8e7          1-0         80\n",
       "              0-1         77\n",
       "d5c4          1-0         34\n",
       "c7c6          1-0         34\n",
       "d5c4          0-1         27\n",
       "c7c6          0-1         22\n",
       "f8b4          0-1         21\n",
       "d8e7          1-0         21\n",
       "              0-1         20\n",
       "f8b4          1-0         18\n",
       "Name: nb, dtype: int64"
      ]
     },
     "execution_count": 48,
     "metadata": {},
     "output_type": "execute_result"
    }
   ],
   "source": [
    "catalane.groupby([\"fourth_moves\", \"resultat\"]).agg(\"count\").sort_values(\"nb\", ascending=False)[\"nb\"].head(10)"
   ]
  },
  {
   "cell_type": "code",
   "execution_count": null,
   "metadata": {},
   "outputs": [],
   "source": []
  }
 ],
 "metadata": {
  "kernelspec": {
   "display_name": "Python 3",
   "language": "python",
   "name": "python3"
  },
  "language_info": {
   "codemirror_mode": {
    "name": "ipython",
    "version": 3
   },
   "file_extension": ".py",
   "mimetype": "text/x-python",
   "name": "python",
   "nbconvert_exporter": "python",
   "pygments_lexer": "ipython3",
   "version": "3.7.7"
  },
  "toc": {
   "base_numbering": 1,
   "nav_menu": {},
   "number_sections": true,
   "sideBar": true,
   "skip_h1_title": false,
   "title_cell": "Table of Contents",
   "title_sidebar": "Contents",
   "toc_cell": false,
   "toc_position": {},
   "toc_section_display": true,
   "toc_window_display": false
  },
  "varInspector": {
   "cols": {
    "lenName": 16,
    "lenType": 16,
    "lenVar": 40
   },
   "kernels_config": {
    "python": {
     "delete_cmd_postfix": "",
     "delete_cmd_prefix": "del ",
     "library": "var_list.py",
     "varRefreshCmd": "print(var_dic_list())"
    },
    "r": {
     "delete_cmd_postfix": ") ",
     "delete_cmd_prefix": "rm(",
     "library": "var_list.r",
     "varRefreshCmd": "cat(var_dic_list()) "
    }
   },
   "types_to_exclude": [
    "module",
    "function",
    "builtin_function_or_method",
    "instance",
    "_Feature"
   ],
   "window_display": false
  }
 },
 "nbformat": 4,
 "nbformat_minor": 4
}
