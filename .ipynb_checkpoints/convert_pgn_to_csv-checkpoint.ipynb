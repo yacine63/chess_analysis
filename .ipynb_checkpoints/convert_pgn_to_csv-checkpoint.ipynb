{
 "cells": [
  {
   "cell_type": "code",
   "execution_count": 3,
   "metadata": {
    "ExecuteTime": {
     "end_time": "2021-03-01T16:37:40.697239Z",
     "start_time": "2021-03-01T16:37:39.528345Z"
    }
   },
   "outputs": [],
   "source": [
    "#import librairies for os operations\n",
    "import sys\n",
    "sys.path.append(\"../python-chess\")\n",
    "import warnings\n",
    "warnings.simplefilter(\"ignore\")\n",
    "\n",
    "#import librairies from chess packages\n",
    "import chess.pgn\n",
    "\n",
    "#import lib for data viz\n",
    "import pandas as pd\n",
    "#specific function\n",
    "import fonctions\n",
    "import preprocessing_steps\n",
    "import stats"
   ]
  },
  {
   "cell_type": "code",
   "execution_count": null,
   "metadata": {},
   "outputs": [],
   "source": [
    "games = open(\"yacineGames.pgn\") ; games"
   ]
  },
  {
   "cell_type": "code",
   "execution_count": null,
   "metadata": {},
   "outputs": [],
   "source": [
    "games_df = pd.DataFrame(columns = [\"date\", \"white\", \"white elo\", \"black\", \"black elo\", \"resultat\", \"ECO\", \"perf white\", \"perf black\", \"moves\"])"
   ]
  },
  {
   "cell_type": "code",
   "execution_count": null,
   "metadata": {},
   "outputs": [],
   "source": [
    "%%time\n",
    "\n",
    "game = chess.pgn.read_game(games)\n",
    "while game :\n",
    "    i=0\n",
    "    header = game.headers\n",
    "    date = header[\"Date\"]; white = header[\"White\"]; black = header[\"Black\"] ; result = header[\"Result\"]\n",
    "    whiteElo = header[\"WhiteElo\"] ; blackElo = header[\"BlackElo\"] ; ECO = header[\"ECO\"] ; moves = \"\"\n",
    "    for move in game.mainline_moves():\n",
    "        moves = moves + \" \"+ str(move)\n",
    "    try: \n",
    "        whiteRatingDiff = header[\"WhiteRatingDiff\"] ; blackRatingDiff = header[\"BlackRatingDiff\"]\n",
    "    except KeyError: #some games didn't have the features whiteRatingDiff, blackRatingDiff or ECO\n",
    "        whiteRatingDiff = None ; blackRatingDiff = None\n",
    "    finally: \n",
    "        new_game = pd.DataFrame(data={\"date\": date, \"white\": white, \"white elo\": whiteElo, \"black\": black,\n",
    "                                      \"black elo\": blackElo, \"resultat\": result, \"ECO\": ECO, \n",
    "                                      \"perf white\": whiteRatingDiff, \"perf black\": blackRatingDiff, \"moves\": moves}, index=[i])\n",
    "        games_df = pd.concat([games_df, new_game])\n",
    "        game = chess.pgn.read_game(games)\n",
    "        i+=1\n",
    "games_df.head(10)"
   ]
  },
  {
   "cell_type": "code",
   "execution_count": null,
   "metadata": {},
   "outputs": [],
   "source": [
    "games_df = preprocessing_steps.preprocess(games_df) ; games_df.head(3)"
   ]
  },
  {
   "cell_type": "code",
   "execution_count": null,
   "metadata": {},
   "outputs": [],
   "source": [
    "games_df.to_csv(\"yacine_games.csv\", index=None)"
   ]
  }
 ],
 "metadata": {
  "kernelspec": {
   "display_name": "Python 3",
   "language": "python",
   "name": "python3"
  },
  "language_info": {
   "codemirror_mode": {
    "name": "ipython",
    "version": 3
   },
   "file_extension": ".py",
   "mimetype": "text/x-python",
   "name": "python",
   "nbconvert_exporter": "python",
   "pygments_lexer": "ipython3",
   "version": "3.8.5"
  },
  "toc": {
   "base_numbering": 1,
   "nav_menu": {},
   "number_sections": true,
   "sideBar": true,
   "skip_h1_title": false,
   "title_cell": "Table of Contents",
   "title_sidebar": "Contents",
   "toc_cell": false,
   "toc_position": {},
   "toc_section_display": true,
   "toc_window_display": false
  },
  "varInspector": {
   "cols": {
    "lenName": 16,
    "lenType": 16,
    "lenVar": 40
   },
   "kernels_config": {
    "python": {
     "delete_cmd_postfix": "",
     "delete_cmd_prefix": "del ",
     "library": "var_list.py",
     "varRefreshCmd": "print(var_dic_list())"
    },
    "r": {
     "delete_cmd_postfix": ") ",
     "delete_cmd_prefix": "rm(",
     "library": "var_list.r",
     "varRefreshCmd": "cat(var_dic_list()) "
    }
   },
   "types_to_exclude": [
    "module",
    "function",
    "builtin_function_or_method",
    "instance",
    "_Feature"
   ],
   "window_display": false
  }
 },
 "nbformat": 4,
 "nbformat_minor": 4
}
