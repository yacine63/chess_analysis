{
 "cells": [
  {
   "cell_type": "code",
   "execution_count": 1,
   "metadata": {
    "ExecuteTime": {
     "end_time": "2020-10-03T21:40:29.041642Z",
     "start_time": "2020-10-03T21:40:14.525597Z"
    }
   },
   "outputs": [],
   "source": [
    "from bs4 import BeautifulSoup\n",
    "import pandas as pd\n",
    "from selenium import webdriver\n",
    "import time\n",
    "\n",
    "driver = webdriver.Firefox()"
   ]
  },
  {
   "cell_type": "code",
   "execution_count": 2,
   "metadata": {
    "ExecuteTime": {
     "end_time": "2020-10-03T21:40:31.268521Z",
     "start_time": "2020-10-03T21:40:29.078997Z"
    }
   },
   "outputs": [],
   "source": [
    "pseudo = \"yacine63\"\n",
    "driver.get(\"https://lichess.org/@/\"+pseudo+\"/search?perf=2\")"
   ]
  },
  {
   "cell_type": "code",
   "execution_count": 4,
   "metadata": {
    "ExecuteTime": {
     "end_time": "2020-10-03T21:41:07.671387Z",
     "start_time": "2020-10-03T21:41:07.652947Z"
    }
   },
   "outputs": [],
   "source": [
    "def scroll_page(driver):\n",
    "    SCROLL_PAUSE_TIME = 10\n",
    "\n",
    "    # Get scroll height\n",
    "    last_height = driver.execute_script(\"return document.body.scrollHeight\")\n",
    "\n",
    "    while True:\n",
    "        # Scroll down to bottom\n",
    "        driver.execute_script(\"window.scrollTo(0, document.body.scrollHeight);\")\n",
    "\n",
    "        # Wait to load page\n",
    "        time.sleep(SCROLL_PAUSE_TIME)\n",
    "\n",
    "        # Calculate new scroll height and compare with last scroll height\n",
    "        new_height = driver.execute_script(\"return document.body.scrollHeight\")\n",
    "        if new_height == last_height:\n",
    "            break\n",
    "        last_height = new_height"
   ]
  },
  {
   "cell_type": "code",
   "execution_count": 6,
   "metadata": {
    "ExecuteTime": {
     "end_time": "2020-10-03T21:43:15.530207Z",
     "start_time": "2020-10-03T21:41:25.023680Z"
    }
   },
   "outputs": [],
   "source": [
    "%%time\n",
    "\n",
    "scroll_page(driver)"
   ]
  },
  {
   "cell_type": "code",
   "execution_count": 7,
   "metadata": {
    "ExecuteTime": {
     "end_time": "2020-10-03T21:49:29.783886Z",
     "start_time": "2020-10-03T21:49:29.649918Z"
    }
   },
   "outputs": [
    {
     "data": {
      "text/plain": [
       "120"
      ]
     },
     "execution_count": 7,
     "metadata": {},
     "output_type": "execute_result"
    }
   ],
   "source": [
    "games = driver.find_elements_by_class_name(\"game-row__infos\") ; len(games)\n"
   ]
  },
  {
   "cell_type": "code",
   "execution_count": 5,
   "metadata": {
    "ExecuteTime": {
     "end_time": "2020-09-28T17:48:57.240435Z",
     "start_time": "2020-09-28T17:48:57.194525Z"
    }
   },
   "outputs": [
    {
     "data": {
      "text/plain": [
       "'3+2 • BLITZ • AMICAL\\nil y a 4 jours\\nyacine63\\n2184\\nCEV30\\n2102\\nÉchec et mat, Victoire des Noirs\\nA45 Indian Game\\n1. d4 Nf6 2. Kd2 d5 3. f3 c5 ... 31 moves'"
      ]
     },
     "execution_count": 5,
     "metadata": {},
     "output_type": "execute_result"
    }
   ],
   "source": [
    "games[1].text"
   ]
  },
  {
   "cell_type": "code",
   "execution_count": 71,
   "metadata": {
    "ExecuteTime": {
     "end_time": "2020-09-28T19:25:13.601581Z",
     "start_time": "2020-09-28T19:25:13.578644Z"
    }
   },
   "outputs": [],
   "source": [
    "def extract_info_games(game):\n",
    "    indices_saut_ligne = []\n",
    "    game = game.text\n",
    "    for indice in range(len(game)):\n",
    "        if (game[indice:indice+1]=='\\n'):\n",
    "            indices_saut_ligne.append(indice)\n",
    "    cadence = game[:indices_saut_ligne[0]]\n",
    "    white = game[indices_saut_ligne[1]+1:indices_saut_ligne[2]]\n",
    "    white_elo = game[indices_saut_ligne[2]+1:indices_saut_ligne[3]]\n",
    "    black = game[indices_saut_ligne[3]+1:indices_saut_ligne[4]]\n",
    "    black_elo = game[indices_saut_ligne[4]+1:indices_saut_ligne[5]]\n",
    "    try:\n",
    "        resultat = game[indices_saut_ligne[5]+1:indices_saut_ligne[6]]\n",
    "        if \"Victoire des Blancs\" in resultat:\n",
    "            resultat = \"1-0\"\n",
    "        elif \"Victoire des Noirs\" in resultat:\n",
    "            resultat = \"0-1\"\n",
    "        else:\n",
    "            resultat = \"1/2-1/2\"\n",
    "        opening_name = game[indices_saut_ligne[6]+1:indices_saut_ligne[7]]\n",
    "        opening_moves = game[indices_saut_ligne[7]+1:]\n",
    "    except IndexError: #if no moves have been made\n",
    "        resultat = game[indices_saut_ligne[5]+1:]\n",
    "        opening_name = \"\"\n",
    "        opening_moves = \"\"\n",
    "        \n",
    "    return cadence, white, white_elo, black, black_elo, resultat, opening_name, opening_moves\n"
   ]
  },
  {
   "cell_type": "code",
   "execution_count": 72,
   "metadata": {
    "ExecuteTime": {
     "end_time": "2020-09-28T19:25:20.849980Z",
     "start_time": "2020-09-28T19:25:20.794131Z"
    }
   },
   "outputs": [
    {
     "data": {
      "text/plain": [
       "('3+2 • BLITZ • AMICAL',\n",
       " 'CEV30',\n",
       " '2102',\n",
       " 'yacine63',\n",
       " '2184',\n",
       " '0-1',\n",
       " \"B20 Sicilian Defense: King David's Opening\",\n",
       " '1. e4 c5 2. Ke2 b6 3. f3 Bb7 ... 78 moves')"
      ]
     },
     "execution_count": 72,
     "metadata": {},
     "output_type": "execute_result"
    }
   ],
   "source": [
    "extract_info_games(games[0])"
   ]
  },
  {
   "cell_type": "code",
   "execution_count": 73,
   "metadata": {
    "ExecuteTime": {
     "end_time": "2020-09-28T19:26:06.369292Z",
     "start_time": "2020-09-28T19:26:06.354337Z"
    }
   },
   "outputs": [],
   "source": [
    "df_games = pd.DataFrame(columns=[\"Elo_joueur\", \"Adversaire\", \"Elo_adversaire\", \"Couleur\", \"Cadence\", \"Resultat\", \"Ouverture\", \"First Moves\"])"
   ]
  },
  {
   "cell_type": "code",
   "execution_count": 74,
   "metadata": {
    "ExecuteTime": {
     "end_time": "2020-09-28T19:27:00.043631Z",
     "start_time": "2020-09-28T19:26:46.477519Z"
    }
   },
   "outputs": [],
   "source": [
    "for indice, game in enumerate(games):\n",
    "    cadence, white, white_elo, black, black_elo, resultat, opening_name, opening_moves = extract_info_games(game)\n",
    "    new_game={}\n",
    "    if white == pseudo:\n",
    "        new_game[\"Elo_joueur\"] = white_elo\n",
    "        new_game[\"Adversaire\"]=black ;\n",
    "        new_game[\"Elo_adversaire\"] = black_elo\n",
    "        new_game[\"Couleur\"]=\"White\"\n",
    "    else:\n",
    "        new_game[\"Elo_joueur\"] = black_elo\n",
    "        new_game[\"Adversaire\"]=white\n",
    "        new_game[\"Elo_adversaire\"] = white_elo\n",
    "        new_game[\"Couleur\"]=\"Black\"\n",
    "    new_game[\"Cadence\"] = cadence ; new_game[\"Resultat\"] = resultat ; new_game[\"Ouverture\"] = opening_name ; new_game[\"First Moves\"] = opening_moves\n",
    "    new_game_df = pd.DataFrame(data=new_game, index=[indice], columns=[\"Elo_joueur\", \"Adversaire\", \"Elo_adversaire\", \"Couleur\", \"Cadence\", \"Resultat\", \"Ouverture\", \"First Moves\"])\n",
    "    df_games = pd.concat([df_games, new_game_df])"
   ]
  },
  {
   "cell_type": "code",
   "execution_count": 75,
   "metadata": {
    "ExecuteTime": {
     "end_time": "2020-09-28T19:27:48.803635Z",
     "start_time": "2020-09-28T19:27:48.776711Z"
    }
   },
   "outputs": [
    {
     "data": {
      "text/html": [
       "<div>\n",
       "<style scoped>\n",
       "    .dataframe tbody tr th:only-of-type {\n",
       "        vertical-align: middle;\n",
       "    }\n",
       "\n",
       "    .dataframe tbody tr th {\n",
       "        vertical-align: top;\n",
       "    }\n",
       "\n",
       "    .dataframe thead th {\n",
       "        text-align: right;\n",
       "    }\n",
       "</style>\n",
       "<table border=\"1\" class=\"dataframe\">\n",
       "  <thead>\n",
       "    <tr style=\"text-align: right;\">\n",
       "      <th></th>\n",
       "      <th>Elo_joueur</th>\n",
       "      <th>Adversaire</th>\n",
       "      <th>Elo_adversaire</th>\n",
       "      <th>Couleur</th>\n",
       "      <th>Cadence</th>\n",
       "      <th>Resultat</th>\n",
       "      <th>Ouverture</th>\n",
       "      <th>First Moves</th>\n",
       "    </tr>\n",
       "  </thead>\n",
       "  <tbody>\n",
       "    <tr>\n",
       "      <th>0</th>\n",
       "      <td>2102</td>\n",
       "      <td>yacine63</td>\n",
       "      <td>2184</td>\n",
       "      <td>White</td>\n",
       "      <td>3+2 • BLITZ • AMICAL</td>\n",
       "      <td>0-1</td>\n",
       "      <td>B20 Sicilian Defense: King David's Opening</td>\n",
       "      <td>1. e4 c5 2. Ke2 b6 3. f3 Bb7 ... 78 moves</td>\n",
       "    </tr>\n",
       "    <tr>\n",
       "      <th>1</th>\n",
       "      <td>2102</td>\n",
       "      <td>yacine63</td>\n",
       "      <td>2184</td>\n",
       "      <td>Black</td>\n",
       "      <td>3+2 • BLITZ • AMICAL</td>\n",
       "      <td>0-1</td>\n",
       "      <td>A45 Indian Game</td>\n",
       "      <td>1. d4 Nf6 2. Kd2 d5 3. f3 c5 ... 31 moves</td>\n",
       "    </tr>\n",
       "    <tr>\n",
       "      <th>2</th>\n",
       "      <td>2102</td>\n",
       "      <td>armegedon7166</td>\n",
       "      <td>2011</td>\n",
       "      <td>Black</td>\n",
       "      <td>3+2 • BLITZ • AMICAL</td>\n",
       "      <td>0-1</td>\n",
       "      <td>A00 Mieses Opening</td>\n",
       "      <td>1. d3 d5 2. a3 e5 3. h3 c5 ... 41 moves</td>\n",
       "    </tr>\n",
       "    <tr>\n",
       "      <th>3</th>\n",
       "      <td>2102</td>\n",
       "      <td>armegedon7166</td>\n",
       "      <td>2011</td>\n",
       "      <td>White</td>\n",
       "      <td>3+2 • BLITZ • AMICAL</td>\n",
       "      <td>1-0</td>\n",
       "      <td>C20 Bongcloud Attack</td>\n",
       "      <td>1. e4 e5 2. Ke2 Nf6 3. f3 d5 ... 26 moves</td>\n",
       "    </tr>\n",
       "    <tr>\n",
       "      <th>4</th>\n",
       "      <td>2102</td>\n",
       "      <td>armegedon7166</td>\n",
       "      <td>2011</td>\n",
       "      <td>Black</td>\n",
       "      <td>3+2 • BLITZ • AMICAL</td>\n",
       "      <td>1/2-1/2</td>\n",
       "      <td>B10 Caro-Kann Defense</td>\n",
       "      <td>1. e4 c6 2. Ke2 d5 3. d3 f5 ... 26 moves</td>\n",
       "    </tr>\n",
       "    <tr>\n",
       "      <th>5</th>\n",
       "      <td>2102</td>\n",
       "      <td>armegedon7166</td>\n",
       "      <td>2011</td>\n",
       "      <td>White</td>\n",
       "      <td>3+2 • BLITZ • AMICAL</td>\n",
       "      <td>1/2-1/2</td>\n",
       "      <td>B10 Caro-Kann Defense</td>\n",
       "      <td>1. e4 c6 2. Ke2 e5 3. d3 Nf6 ... 75 moves</td>\n",
       "    </tr>\n",
       "    <tr>\n",
       "      <th>6</th>\n",
       "      <td>2102</td>\n",
       "      <td>fermar</td>\n",
       "      <td>1977</td>\n",
       "      <td>Black</td>\n",
       "      <td>3+2 • BLITZ • AMICAL</td>\n",
       "      <td>0-1</td>\n",
       "      <td>A05 King's Indian Attack</td>\n",
       "      <td>1. Nf3 d5 2. g3 Nf6 3. Bg2 Bf5 ... 36 moves</td>\n",
       "    </tr>\n",
       "    <tr>\n",
       "      <th>7</th>\n",
       "      <td>2102</td>\n",
       "      <td>ThomasMarquis</td>\n",
       "      <td>1535</td>\n",
       "      <td>Black</td>\n",
       "      <td>5+3 • BLITZ • AMICAL</td>\n",
       "      <td>0-1</td>\n",
       "      <td>B12 Caro-Kann Defense: Advance Variation</td>\n",
       "      <td>1. e4 c6 2. d4 d5 3. e5 Bf5 ... 23 moves</td>\n",
       "    </tr>\n",
       "    <tr>\n",
       "      <th>8</th>\n",
       "      <td>2102</td>\n",
       "      <td>ciocolat</td>\n",
       "      <td>1729?</td>\n",
       "      <td>White</td>\n",
       "      <td>3+0 • BLITZ • AMICAL</td>\n",
       "      <td>0-1</td>\n",
       "      <td>A01 Nimzo-Larsen Attack: Indian Variation</td>\n",
       "      <td>1. b3 Nf6 2. Bb2 g6 3. e3 Bg7 ... 53 moves</td>\n",
       "    </tr>\n",
       "    <tr>\n",
       "      <th>9</th>\n",
       "      <td>2102</td>\n",
       "      <td>aelaras95</td>\n",
       "      <td>1723</td>\n",
       "      <td>White</td>\n",
       "      <td>5+0 • BLITZ • AMICAL</td>\n",
       "      <td>1-0</td>\n",
       "      <td>A01 Nimzo-Larsen Attack</td>\n",
       "      <td>1. b3 c6 2. Bb2 d5 3. e3 f6 ... 28 moves</td>\n",
       "    </tr>\n",
       "  </tbody>\n",
       "</table>\n",
       "</div>"
      ],
      "text/plain": [
       "  Elo_joueur     Adversaire Elo_adversaire Couleur               Cadence  \\\n",
       "0       2102       yacine63           2184   White  3+2 • BLITZ • AMICAL   \n",
       "1       2102       yacine63           2184   Black  3+2 • BLITZ • AMICAL   \n",
       "2       2102  armegedon7166           2011   Black  3+2 • BLITZ • AMICAL   \n",
       "3       2102  armegedon7166           2011   White  3+2 • BLITZ • AMICAL   \n",
       "4       2102  armegedon7166           2011   Black  3+2 • BLITZ • AMICAL   \n",
       "5       2102  armegedon7166           2011   White  3+2 • BLITZ • AMICAL   \n",
       "6       2102         fermar           1977   Black  3+2 • BLITZ • AMICAL   \n",
       "7       2102  ThomasMarquis           1535   Black  5+3 • BLITZ • AMICAL   \n",
       "8       2102       ciocolat          1729?   White  3+0 • BLITZ • AMICAL   \n",
       "9       2102      aelaras95           1723   White  5+0 • BLITZ • AMICAL   \n",
       "\n",
       "  Resultat                                   Ouverture  \\\n",
       "0      0-1  B20 Sicilian Defense: King David's Opening   \n",
       "1      0-1                             A45 Indian Game   \n",
       "2      0-1                          A00 Mieses Opening   \n",
       "3      1-0                        C20 Bongcloud Attack   \n",
       "4  1/2-1/2                       B10 Caro-Kann Defense   \n",
       "5  1/2-1/2                       B10 Caro-Kann Defense   \n",
       "6      0-1                    A05 King's Indian Attack   \n",
       "7      0-1    B12 Caro-Kann Defense: Advance Variation   \n",
       "8      0-1   A01 Nimzo-Larsen Attack: Indian Variation   \n",
       "9      1-0                     A01 Nimzo-Larsen Attack   \n",
       "\n",
       "                                   First Moves  \n",
       "0    1. e4 c5 2. Ke2 b6 3. f3 Bb7 ... 78 moves  \n",
       "1    1. d4 Nf6 2. Kd2 d5 3. f3 c5 ... 31 moves  \n",
       "2      1. d3 d5 2. a3 e5 3. h3 c5 ... 41 moves  \n",
       "3    1. e4 e5 2. Ke2 Nf6 3. f3 d5 ... 26 moves  \n",
       "4     1. e4 c6 2. Ke2 d5 3. d3 f5 ... 26 moves  \n",
       "5    1. e4 c6 2. Ke2 e5 3. d3 Nf6 ... 75 moves  \n",
       "6  1. Nf3 d5 2. g3 Nf6 3. Bg2 Bf5 ... 36 moves  \n",
       "7     1. e4 c6 2. d4 d5 3. e5 Bf5 ... 23 moves  \n",
       "8   1. b3 Nf6 2. Bb2 g6 3. e3 Bg7 ... 53 moves  \n",
       "9     1. b3 c6 2. Bb2 d5 3. e3 f6 ... 28 moves  "
      ]
     },
     "execution_count": 75,
     "metadata": {},
     "output_type": "execute_result"
    }
   ],
   "source": [
    "df_games.head(10)"
   ]
  },
  {
   "cell_type": "code",
   "execution_count": 76,
   "metadata": {
    "ExecuteTime": {
     "end_time": "2020-09-28T19:28:49.197828Z",
     "start_time": "2020-09-28T19:28:49.186864Z"
    }
   },
   "outputs": [
    {
     "data": {
      "text/plain": [
       "0    293\n",
       "1    175\n",
       "Name: is_b3, dtype: int64"
      ]
     },
     "execution_count": 76,
     "metadata": {},
     "output_type": "execute_result"
    }
   ],
   "source": [
    "df_games[\"is_b3\"] = df_games[\"First Moves\"].apply(lambda x: 1 if \"1. b3\" in x else 0) ; df_games[\"is_b3\"].value_counts()"
   ]
  },
  {
   "cell_type": "code",
   "execution_count": 64,
   "metadata": {
    "ExecuteTime": {
     "end_time": "2020-09-28T18:31:19.400137Z",
     "start_time": "2020-09-28T18:31:19.378169Z"
    }
   },
   "outputs": [
    {
     "data": {
      "text/plain": [
       "-212"
      ]
     },
     "execution_count": 64,
     "metadata": {},
     "output_type": "execute_result"
    }
   ],
   "source": [
    "df_games[(df_games[\"is_b3\"]==1)&(df_games[\"Couleur\"]==\"White\")&(df_games[\"Resultat\"]!=\"1-0\")].sort_values(by=[\"Elo_adversaire\"], ascending=True)[\"gain_elo\"].sum()"
   ]
  },
  {
   "cell_type": "code",
   "execution_count": 77,
   "metadata": {
    "ExecuteTime": {
     "end_time": "2020-09-28T19:33:07.369650Z",
     "start_time": "2020-09-28T19:33:07.340695Z"
    }
   },
   "outputs": [],
   "source": [
    "def get_elo_gain(string):\n",
    "    indice_plus = string.find(\"+\")\n",
    "    if (indice_plus != -1):\n",
    "        try:\n",
    "            return int(string[-3:])\n",
    "        except ValueError:\n",
    "            return int(string[:-2:])\n",
    "    elif (len(string)==4):\n",
    "        return 0\n",
    "    else:\n",
    "        try:\n",
    "            return -int(string[-2:])\n",
    "        except ValueError:\n",
    "            return -int(string[-1:])\n",
    "\n",
    "df_games[\"gain_elo\"]=df_games[\"Elo_joueur\"].apply(lambda x: get_elo_gain(x))"
   ]
  },
  {
   "cell_type": "code",
   "execution_count": 66,
   "metadata": {
    "ExecuteTime": {
     "end_time": "2020-09-28T18:59:07.250041Z",
     "start_time": "2020-09-28T18:59:07.233116Z"
    }
   },
   "outputs": [
    {
     "data": {
      "text/plain": [
       "Ouverture                                                          Resultat                             \n",
       "                                                                   White didn't move, Victoire des Noirs     2\n",
       "A00 Mieses Opening                                                 0-1                                       1\n",
       "A00 Mieses Opening: Reversed Rat                                   0-1                                       1\n",
       "A00 Van Geet Opening                                               0-1                                       1\n",
       "A01 Nimzo-Larsen Attack                                            1-0                                      17\n",
       "                                                                                                            ..\n",
       "E10 Indian Game: Anti-Nimzo-Indian                                 0-1                                       1\n",
       "                                                                   1-0                                       1\n",
       "E20 Nimzo-Indian Defense: Kmoch Variation                          0-1                                       1\n",
       "E67 King's Indian Defense: Fianchetto Variation, Debrecen Defense  1-0                                       1\n",
       "E76 King's Indian Defense: Four Pawns Attack                       0-1                                       1\n",
       "Name: Resultat, Length: 225, dtype: int64"
      ]
     },
     "execution_count": 66,
     "metadata": {},
     "output_type": "execute_result"
    }
   ],
   "source": [
    "df_games.groupby(\"Ouverture\")[\"Resultat\"].value_counts()"
   ]
  },
  {
   "cell_type": "code",
   "execution_count": 81,
   "metadata": {
    "ExecuteTime": {
     "end_time": "2020-09-28T19:36:54.415401Z",
     "start_time": "2020-09-28T19:36:54.400443Z"
    }
   },
   "outputs": [
    {
     "data": {
      "text/plain": [
       "0"
      ]
     },
     "execution_count": 81,
     "metadata": {},
     "output_type": "execute_result"
    }
   ],
   "source": [
    "df_games[\"with_Re2\"] = df_games[\"First Moves\"].apply(lambda x: 1 if \"2. K\" in x else 0)\n",
    "df_games[(df_games[\"with_Re2\"]==1)&(df_games[\"Couleur\"]==\"White\")].sort_values(by=[\"Elo_adversaire\"], ascending=True)[\"gain_elo\"].sum()"
   ]
  }
 ],
 "metadata": {
  "kernelspec": {
   "display_name": "Python 3",
   "language": "python",
   "name": "python3"
  },
  "language_info": {
   "codemirror_mode": {
    "name": "ipython",
    "version": 3
   },
   "file_extension": ".py",
   "mimetype": "text/x-python",
   "name": "python",
   "nbconvert_exporter": "python",
   "pygments_lexer": "ipython3",
   "version": "3.7.7"
  },
  "toc": {
   "base_numbering": 1,
   "nav_menu": {},
   "number_sections": true,
   "sideBar": true,
   "skip_h1_title": false,
   "title_cell": "Table of Contents",
   "title_sidebar": "Contents",
   "toc_cell": false,
   "toc_position": {},
   "toc_section_display": true,
   "toc_window_display": false
  },
  "varInspector": {
   "cols": {
    "lenName": 16,
    "lenType": 16,
    "lenVar": 40
   },
   "kernels_config": {
    "python": {
     "delete_cmd_postfix": "",
     "delete_cmd_prefix": "del ",
     "library": "var_list.py",
     "varRefreshCmd": "print(var_dic_list())"
    },
    "r": {
     "delete_cmd_postfix": ") ",
     "delete_cmd_prefix": "rm(",
     "library": "var_list.r",
     "varRefreshCmd": "cat(var_dic_list()) "
    }
   },
   "types_to_exclude": [
    "module",
    "function",
    "builtin_function_or_method",
    "instance",
    "_Feature"
   ],
   "window_display": false
  }
 },
 "nbformat": 4,
 "nbformat_minor": 4
}
